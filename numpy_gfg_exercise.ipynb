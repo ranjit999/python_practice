{
  "nbformat": 4,
  "nbformat_minor": 0,
  "metadata": {
    "colab": {
      "name": "numpy_gfg_exercise.ipynb",
      "provenance": [],
      "collapsed_sections": []
    },
    "kernelspec": {
      "name": "python3",
      "display_name": "Python 3"
    },
    "language_info": {
      "name": "python"
    }
  },
  "cells": [
    {
      "cell_type": "code",
      "execution_count": 58,
      "metadata": {
        "id": "kKow1Ae3zJHu"
      },
      "outputs": [],
      "source": [
        "import numpy as np \n"
      ]
    },
    {
      "cell_type": "code",
      "source": [
        "#How to create an empty and a full NumPy array?\n",
        "\n",
        "#1. Empty array :- \n",
        "np.empty((4,4),dtype=int)"
      ],
      "metadata": {
        "colab": {
          "base_uri": "https://localhost:8080/"
        },
        "id": "dJxPRuOPz0hY",
        "outputId": "3f425f4c-300e-4bbb-ff50-e7580a0b62bc"
      },
      "execution_count": 59,
      "outputs": [
        {
          "output_type": "execute_result",
          "data": {
            "text/plain": [
              "array([[0, 0, 0, 0],\n",
              "       [0, 0, 0, 0],\n",
              "       [0, 0, 0, 0],\n",
              "       [0, 0, 0, 0]])"
            ]
          },
          "metadata": {},
          "execution_count": 59
        }
      ]
    },
    {
      "cell_type": "code",
      "source": [
        "#2.Full array\n",
        "np.full((4,4),11,dtype=int)"
      ],
      "metadata": {
        "colab": {
          "base_uri": "https://localhost:8080/"
        },
        "id": "6h8tPKqe0IyO",
        "outputId": "2f78b1d4-ccd9-4b9f-9e33-ff0ae212b40f"
      },
      "execution_count": 60,
      "outputs": [
        {
          "output_type": "execute_result",
          "data": {
            "text/plain": [
              "array([[11, 11, 11, 11],\n",
              "       [11, 11, 11, 11],\n",
              "       [11, 11, 11, 11],\n",
              "       [11, 11, 11, 11]])"
            ]
          },
          "metadata": {},
          "execution_count": 60
        }
      ]
    },
    {
      "cell_type": "code",
      "source": [
        "#Create a Numpy array filled with all zeros\n",
        "print(np.zeros((4,4),dtype=int))"
      ],
      "metadata": {
        "colab": {
          "base_uri": "https://localhost:8080/"
        },
        "id": "6zDDd_DX0e4B",
        "outputId": "790e19f0-4273-40a6-a02f-edc873ce635d"
      },
      "execution_count": 61,
      "outputs": [
        {
          "output_type": "stream",
          "name": "stdout",
          "text": [
            "[[0 0 0 0]\n",
            " [0 0 0 0]\n",
            " [0 0 0 0]\n",
            " [0 0 0 0]]\n"
          ]
        }
      ]
    },
    {
      "cell_type": "code",
      "source": [
        "#Create a Numpy array filled with all ones\n",
        "print(np.ones((5,5),int))"
      ],
      "metadata": {
        "colab": {
          "base_uri": "https://localhost:8080/"
        },
        "id": "AWIYrAVi0xgw",
        "outputId": "442b2d9f-99c9-400d-fd98-ff59e8eb9b9c"
      },
      "execution_count": 62,
      "outputs": [
        {
          "output_type": "stream",
          "name": "stdout",
          "text": [
            "[[1 1 1 1 1]\n",
            " [1 1 1 1 1]\n",
            " [1 1 1 1 1]\n",
            " [1 1 1 1 1]\n",
            " [1 1 1 1 1]]\n"
          ]
        }
      ]
    },
    {
      "cell_type": "code",
      "source": [
        "# Check whether a Numpy array contains a specified row\n",
        "\n",
        "a = np.array([[1, 2, 3, 4, 5],\n",
        "                   [6, 7, 8, 9, 10],\n",
        "                   [11, 12, 13, 14, 15],\n",
        "                   [16, 17, 18, 19, 20]\n",
        "              ])\n",
        "#first we will convert array a into list using tolist and then we will check whether it is present or not\n",
        "print([1, 2, 3, 4, 5] in a.tolist())\n",
        "print()\n",
        "print(a.reshape(1,-1))\n",
        "print()\n",
        "print([1, 2, 3, 4, 5] in a.reshape(1,-1))\n",
        "print('******************************')\n",
        "print(a.tolist())\n",
        "print(a.reshape(1,-1))\n",
        "print('******************************')\n",
        "\n",
        "\n",
        "print()\n",
        "print(\"So .tolist() creates a list row wise and .reshape(1,-1) creates a single list containing all the elements of array.\")"
      ],
      "metadata": {
        "colab": {
          "base_uri": "https://localhost:8080/"
        },
        "id": "fy9i-1dQ09iv",
        "outputId": "a3b92683-2670-472e-8590-82f3931084f1"
      },
      "execution_count": 63,
      "outputs": [
        {
          "output_type": "stream",
          "name": "stdout",
          "text": [
            "True\n",
            "\n",
            "[[ 1  2  3  4  5  6  7  8  9 10 11 12 13 14 15 16 17 18 19 20]]\n",
            "\n",
            "False\n",
            "******************************\n",
            "[[1, 2, 3, 4, 5], [6, 7, 8, 9, 10], [11, 12, 13, 14, 15], [16, 17, 18, 19, 20]]\n",
            "[[ 1  2  3  4  5  6  7  8  9 10 11 12 13 14 15 16 17 18 19 20]]\n",
            "******************************\n",
            "\n",
            "So .tolist() creates a list row wise and .reshape(1,-1) creates a single list containing all the elements of array.\n"
          ]
        },
        {
          "output_type": "stream",
          "name": "stderr",
          "text": [
            "/usr/local/lib/python3.7/dist-packages/ipykernel_launcher.py:13: DeprecationWarning: elementwise comparison failed; this will raise an error in the future.\n",
            "  del sys.path[0]\n"
          ]
        }
      ]
    },
    {
      "cell_type": "code",
      "source": [
        "#How to Remove rows in Numpy array that contains non-numeric values?\n",
        "\n",
        "a = np.array([[1,2,3],\n",
        "              [np.nan,np.nan,4],\n",
        "              [5,np.nan,6]\n",
        "              ])\n",
        "print(a)\n",
        "print('\\n')\n",
        "print(a[~np.isnan(a).any(axis=1)])"
      ],
      "metadata": {
        "colab": {
          "base_uri": "https://localhost:8080/"
        },
        "id": "fJoBBNIz2vlP",
        "outputId": "f36cb3e9-2315-4da3-b066-01d40815f132"
      },
      "execution_count": 64,
      "outputs": [
        {
          "output_type": "stream",
          "name": "stdout",
          "text": [
            "[[ 1.  2.  3.]\n",
            " [nan nan  4.]\n",
            " [ 5. nan  6.]]\n",
            "\n",
            "\n",
            "[[1. 2. 3.]]\n"
          ]
        }
      ]
    },
    {
      "cell_type": "code",
      "source": [
        "print(a[~np.isnan(a).any(axis=1)])"
      ],
      "metadata": {
        "colab": {
          "base_uri": "https://localhost:8080/"
        },
        "id": "su70eLFc4Owx",
        "outputId": "44fb844e-5751-440d-df82-19ad3f895d64"
      },
      "execution_count": 65,
      "outputs": [
        {
          "output_type": "stream",
          "name": "stdout",
          "text": [
            "[[1. 2. 3.]]\n"
          ]
        }
      ]
    },
    {
      "cell_type": "code",
      "source": [
        "a = np.array([\n",
        "              [1,2,3,4],\n",
        "              [9,8,3,4],\n",
        "              [5,6,3,4]\n",
        "])\n",
        "print(a)\n",
        "print()\n",
        "b = a.tolist()\n",
        "print(repr(b).count('3,4'))"
      ],
      "metadata": {
        "colab": {
          "base_uri": "https://localhost:8080/"
        },
        "id": "uuRxR4v45dsw",
        "outputId": "2fc16142-e0ff-4abc-ecea-5caed40bf57d"
      },
      "execution_count": 66,
      "outputs": [
        {
          "output_type": "stream",
          "name": "stdout",
          "text": [
            "[[1 2 3 4]\n",
            " [9 8 3 4]\n",
            " [5 6 3 4]]\n",
            "\n",
            "0\n"
          ]
        }
      ]
    },
    {
      "cell_type": "code",
      "source": [
        "# combining 1D and 2D array\n",
        "\n",
        "g = np.array([1,2,3,4,5,6])\n",
        "\n",
        "h = np.array([\n",
        "              [11,22,33,44,55,66],\n",
        "              [12,13,14,15,16,17],\n",
        "              [22,23,24,26,27,28]\n",
        "])\n",
        "\n",
        "print(g)\n",
        "print()\n",
        "print(h)"
      ],
      "metadata": {
        "colab": {
          "base_uri": "https://localhost:8080/"
        },
        "id": "IubsJZ4FE80z",
        "outputId": "c9cce3d1-8f3f-4214-eedb-ff30f1c06cce"
      },
      "execution_count": 67,
      "outputs": [
        {
          "output_type": "stream",
          "name": "stdout",
          "text": [
            "[1 2 3 4 5 6]\n",
            "\n",
            "[[11 22 33 44 55 66]\n",
            " [12 13 14 15 16 17]\n",
            " [22 23 24 26 27 28]]\n"
          ]
        }
      ]
    },
    {
      "cell_type": "code",
      "source": [
        "j = g + h \n",
        "print(j)"
      ],
      "metadata": {
        "colab": {
          "base_uri": "https://localhost:8080/"
        },
        "id": "FOVjI12K2pBd",
        "outputId": "ccff06ed-47e7-4506-81bf-e31177346ab4"
      },
      "execution_count": 68,
      "outputs": [
        {
          "output_type": "stream",
          "name": "stdout",
          "text": [
            "[[12 24 36 48 60 72]\n",
            " [13 15 17 19 21 23]\n",
            " [23 25 27 30 32 34]]\n"
          ]
        }
      ]
    },
    {
      "cell_type": "code",
      "source": [
        "# for a, b in np.nditer([num_1d, num_2d]):\n",
        "#     print(\"%d:%d\" % (a, b),)\n",
        "\n",
        "for l,m in np.nditer([g,h]):\n",
        "  #print(\"%d:%d\"%(l,m))\n",
        "  #print()\n",
        "  print(l,\" : \",m)\n",
        "  print()\n",
        "  #print(m)"
      ],
      "metadata": {
        "colab": {
          "base_uri": "https://localhost:8080/"
        },
        "id": "SFv9bS_F2wyk",
        "outputId": "5d4cdfad-e1ef-419c-c9bc-9147ca9bc3d4"
      },
      "execution_count": 69,
      "outputs": [
        {
          "output_type": "stream",
          "name": "stdout",
          "text": [
            "1  :  11\n",
            "\n",
            "2  :  22\n",
            "\n",
            "3  :  33\n",
            "\n",
            "4  :  44\n",
            "\n",
            "5  :  55\n",
            "\n",
            "6  :  66\n",
            "\n",
            "1  :  12\n",
            "\n",
            "2  :  13\n",
            "\n",
            "3  :  14\n",
            "\n",
            "4  :  15\n",
            "\n",
            "5  :  16\n",
            "\n",
            "6  :  17\n",
            "\n",
            "1  :  22\n",
            "\n",
            "2  :  23\n",
            "\n",
            "3  :  24\n",
            "\n",
            "4  :  26\n",
            "\n",
            "5  :  27\n",
            "\n",
            "6  :  28\n",
            "\n"
          ]
        }
      ]
    },
    {
      "cell_type": "code",
      "source": [
        "a1 = np.arange(5)\n",
        "a2 = np.arange(6,10)\n",
        "\n",
        "# printing combinations :-\n",
        "\n",
        "# Method1\n",
        "\n",
        "# import itertools as it\n",
        "\n",
        "# a3 = it.product(a1,a2)\n",
        "\n",
        "# for i in a3:\n",
        "#   print(i,end=',')\n",
        "\n",
        "# Method 2\n",
        "\n",
        "a5 = np.array(np.meshgrid(a1,a2)).T.reshape(-1,2)\n",
        "a5"
      ],
      "metadata": {
        "colab": {
          "base_uri": "https://localhost:8080/"
        },
        "id": "i7qWHJM53Q2W",
        "outputId": "f72038d2-1d7e-47fc-b15f-66e2e313c046"
      },
      "execution_count": 70,
      "outputs": [
        {
          "output_type": "execute_result",
          "data": {
            "text/plain": [
              "array([[0, 6],\n",
              "       [0, 7],\n",
              "       [0, 8],\n",
              "       [0, 9],\n",
              "       [1, 6],\n",
              "       [1, 7],\n",
              "       [1, 8],\n",
              "       [1, 9],\n",
              "       [2, 6],\n",
              "       [2, 7],\n",
              "       [2, 8],\n",
              "       [2, 9],\n",
              "       [3, 6],\n",
              "       [3, 7],\n",
              "       [3, 8],\n",
              "       [3, 9],\n",
              "       [4, 6],\n",
              "       [4, 7],\n",
              "       [4, 8],\n",
              "       [4, 9]])"
            ]
          },
          "metadata": {},
          "execution_count": 70
        }
      ]
    },
    {
      "cell_type": "code",
      "source": [
        "#Comparing 2 numpy arrays\n",
        "\n",
        "a1 = np.arange(6).reshape(-1,2)\n",
        "a2 =  np.arange(6).reshape(-1,2)\n",
        "\n",
        "# MEthod 1\n",
        "\n",
        "comp = (a1 == a2)\n",
        "print(comp.all())"
      ],
      "metadata": {
        "colab": {
          "base_uri": "https://localhost:8080/"
        },
        "id": "dRBC4zIvC_0f",
        "outputId": "4f75c174-20d8-4e14-dca9-219b2a54682c"
      },
      "execution_count": 71,
      "outputs": [
        {
          "output_type": "stream",
          "name": "stdout",
          "text": [
            "True\n"
          ]
        }
      ]
    },
    {
      "cell_type": "code",
      "source": [
        "#check specified value are in numpy\n",
        "\n",
        "a1 = np.arange(6).reshape(-1,2)\n",
        "print(a1)\n",
        "a2 = np.random.randint(1,6,(1,2))\n",
        "print(a2)\n",
        "print(type(a2))\n",
        "print(a2 in a1)"
      ],
      "metadata": {
        "colab": {
          "base_uri": "https://localhost:8080/"
        },
        "id": "nzVfKzSfGVVg",
        "outputId": "127f55dc-52a2-4774-ad5f-a0019069a513"
      },
      "execution_count": 72,
      "outputs": [
        {
          "output_type": "stream",
          "name": "stdout",
          "text": [
            "[[0 1]\n",
            " [2 3]\n",
            " [4 5]]\n",
            "[[3 1]]\n",
            "<class 'numpy.ndarray'>\n",
            "True\n"
          ]
        }
      ]
    },
    {
      "cell_type": "code",
      "source": [
        "#formation of 3-D array and converting it into 2-D array\n",
        "\n",
        "a1 = np.arange(3*4*2).reshape(2,3,-1)\n",
        "print(a1)\n",
        "a2 = np.diagonal(a1,axis1=0,axis2=1)\n",
        "a2"
      ],
      "metadata": {
        "colab": {
          "base_uri": "https://localhost:8080/"
        },
        "id": "lmLU6EvzqE_w",
        "outputId": "a10bc642-cca2-488a-abf2-0b6ae7771ce4"
      },
      "execution_count": 73,
      "outputs": [
        {
          "output_type": "stream",
          "name": "stdout",
          "text": [
            "[[[ 0  1  2  3]\n",
            "  [ 4  5  6  7]\n",
            "  [ 8  9 10 11]]\n",
            "\n",
            " [[12 13 14 15]\n",
            "  [16 17 18 19]\n",
            "  [20 21 22 23]]]\n"
          ]
        },
        {
          "output_type": "execute_result",
          "data": {
            "text/plain": [
              "array([[ 0, 16],\n",
              "       [ 1, 17],\n",
              "       [ 2, 18],\n",
              "       [ 3, 19]])"
            ]
          },
          "metadata": {},
          "execution_count": 73
        }
      ]
    },
    {
      "cell_type": "code",
      "source": [
        "#flattening 2-D array\n",
        "\n",
        "a1 = np.arange(6).reshape(-1,2)\n",
        "print(a1)\n",
        "a2 = a1.flatten()\n",
        "a2"
      ],
      "metadata": {
        "colab": {
          "base_uri": "https://localhost:8080/"
        },
        "id": "BdjTNcgwB78N",
        "outputId": "5a787813-acd6-47b2-d46b-65917210b052"
      },
      "execution_count": 74,
      "outputs": [
        {
          "output_type": "stream",
          "name": "stdout",
          "text": [
            "[[0 1]\n",
            " [2 3]\n",
            " [4 5]]\n"
          ]
        },
        {
          "output_type": "execute_result",
          "data": {
            "text/plain": [
              "array([0, 1, 2, 3, 4, 5])"
            ]
          },
          "metadata": {},
          "execution_count": 74
        }
      ]
    },
    {
      "cell_type": "code",
      "source": [
        "arr = np.zeros((2, 2, 3, 4))\n",
        "print(arr)\n",
        "  \n",
        "gfg = np.moveaxis(arr, 0, -1).shape\n",
        "  \n",
        "print (gfg)"
      ],
      "metadata": {
        "colab": {
          "base_uri": "https://localhost:8080/"
        },
        "id": "CR_uU2NcFNfT",
        "outputId": "8d083ea2-2efc-4c0f-9fe4-e15c14b3db48"
      },
      "execution_count": 81,
      "outputs": [
        {
          "output_type": "stream",
          "name": "stdout",
          "text": [
            "[[[[0. 0. 0. 0.]\n",
            "   [0. 0. 0. 0.]\n",
            "   [0. 0. 0. 0.]]\n",
            "\n",
            "  [[0. 0. 0. 0.]\n",
            "   [0. 0. 0. 0.]\n",
            "   [0. 0. 0. 0.]]]\n",
            "\n",
            "\n",
            " [[[0. 0. 0. 0.]\n",
            "   [0. 0. 0. 0.]\n",
            "   [0. 0. 0. 0.]]\n",
            "\n",
            "  [[0. 0. 0. 0.]\n",
            "   [0. 0. 0. 0.]\n",
            "   [0. 0. 0. 0.]]]]\n",
            "(2, 3, 4, 2)\n"
          ]
        }
      ]
    },
    {
      "cell_type": "code",
      "source": [
        "a1 = np.arange(10).reshape(-1,2)\n",
        "print(a1)\n",
        "print(len(a1))\n",
        "print(a.shape)\n",
        "\n",
        "print(np.count_nonzero(a1))"
      ],
      "metadata": {
        "colab": {
          "base_uri": "https://localhost:8080/"
        },
        "id": "EIi0CgOXGSIr",
        "outputId": "871b14f4-d5c1-4bb4-b9e7-3d8c83f774dc"
      },
      "execution_count": 95,
      "outputs": [
        {
          "output_type": "stream",
          "name": "stdout",
          "text": [
            "[[0 1]\n",
            " [2 3]\n",
            " [4 5]\n",
            " [6 7]\n",
            " [8 9]]\n",
            "5\n",
            "(3, 4)\n",
            "9\n"
          ]
        }
      ]
    },
    {
      "cell_type": "code",
      "source": [
        "print(\"Below statement tells us that data type of array's elements : \")\n",
        "print(a1.dtype)\n",
        "print(\"\\nAnd below statement tells us what kind of structure is held in variable/container\")\n",
        "print(type(a1))"
      ],
      "metadata": {
        "colab": {
          "base_uri": "https://localhost:8080/"
        },
        "id": "9XWl6O1TWKDK",
        "outputId": "350c86ec-24ee-4833-af66-324c13e16b32"
      },
      "execution_count": 98,
      "outputs": [
        {
          "output_type": "stream",
          "name": "stdout",
          "text": [
            "Below statement tells us that data type of array's elements : \n",
            "int64\n",
            "\n",
            "And below statement tells us what kind of structure is held in variable/container\n",
            "<class 'numpy.ndarray'>\n"
          ]
        }
      ]
    },
    {
      "cell_type": "code",
      "source": [
        "#finding max elements\n",
        "\n",
        "a1 = np.array([[1,2,3],[11,12,13],[32,45,77],[21,122,21]])\n",
        "print(a1.max())\n",
        "print(a1.min())"
      ],
      "metadata": {
        "colab": {
          "base_uri": "https://localhost:8080/"
        },
        "id": "bQfctBxpZe2N",
        "outputId": "fe1a8880-9754-4b72-ff17-c04cf5f8e036"
      },
      "execution_count": 103,
      "outputs": [
        {
          "output_type": "stream",
          "name": "stdout",
          "text": [
            "122\n",
            "1\n"
          ]
        }
      ]
    },
    {
      "cell_type": "code",
      "source": [
        "#reversing array\n",
        "a1[::-1]"
      ],
      "metadata": {
        "colab": {
          "base_uri": "https://localhost:8080/"
        },
        "id": "zgHoXC4Ha1WT",
        "outputId": "1c1a3f01-c0a9-41a9-9476-e49cffc52de1"
      },
      "execution_count": 105,
      "outputs": [
        {
          "output_type": "execute_result",
          "data": {
            "text/plain": [
              "array([[ 21, 122,  21],\n",
              "       [ 32,  45,  77],\n",
              "       [ 11,  12,  13],\n",
              "       [  1,   2,   3]])"
            ]
          },
          "metadata": {},
          "execution_count": 105
        }
      ]
    },
    {
      "cell_type": "code",
      "source": [
        "print(a1)\n",
        "print(\"Print element at index 5 : \",a1.take(5))\n",
        "print(\"Elements at index 11 and 7\",a1.take((11,7)))\n",
        "print(\"Elements at index 4 and 10,3\",a1.take((4,10,3)))\n",
        "a1.take((3,1,7))"
      ],
      "metadata": {
        "colab": {
          "base_uri": "https://localhost:8080/"
        },
        "id": "9hI6N0rMdSEK",
        "outputId": "3a1c5d61-4486-48ba-8944-2da4f76bad45"
      },
      "execution_count": 113,
      "outputs": [
        {
          "output_type": "stream",
          "name": "stdout",
          "text": [
            "[[  1   2   3]\n",
            " [ 11  12  13]\n",
            " [ 32  45  77]\n",
            " [ 21 122  21]]\n",
            "Print element at index 5 :  13\n",
            "Elements at index 11 and 7 [21 45]\n",
            "Elements at index 4 and 10,3 [ 12 122  11]\n"
          ]
        },
        {
          "output_type": "execute_result",
          "data": {
            "text/plain": [
              "array([11,  2, 45])"
            ]
          },
          "metadata": {},
          "execution_count": 113
        }
      ]
    },
    {
      "cell_type": "code",
      "source": [
        "print(a1.sum())"
      ],
      "metadata": {
        "colab": {
          "base_uri": "https://localhost:8080/"
        },
        "id": "mYKGkLvfeWjr",
        "outputId": "7fdc2131-37df-474c-9bea-9fbceedde215"
      },
      "execution_count": 114,
      "outputs": [
        {
          "output_type": "stream",
          "name": "stdout",
          "text": [
            "360\n"
          ]
        }
      ]
    },
    {
      "cell_type": "code",
      "source": [
        ""
      ],
      "metadata": {
        "id": "i_67-Y87fqmc"
      },
      "execution_count": null,
      "outputs": []
    }
  ]
}