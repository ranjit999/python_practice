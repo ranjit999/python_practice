{
  "nbformat": 4,
  "nbformat_minor": 0,
  "metadata": {
    "colab": {
      "name": "class_competition.ipynb",
      "provenance": []
    },
    "kernelspec": {
      "name": "python3",
      "display_name": "Python 3"
    },
    "language_info": {
      "name": "python"
    }
  },
  "cells": [
    {
      "cell_type": "code",
      "execution_count": null,
      "metadata": {
        "id": "iU7NFJMSy8D2"
      },
      "outputs": [],
      "source": [
        ""
      ]
    },
    {
      "cell_type": "code",
      "source": [
        "print(\"dictionary\")\n",
        "\n",
        "dict1 = {}\n",
        "dict2 = {}\n",
        "\n",
        "var1 = int(input(\"Enter lower range : \"))\n",
        "var2 = int(input(\"Enter top range : \"))\n",
        "\n",
        "for i in range(var1,var2+1):\n",
        "  dict1[i]= i\n",
        "  dict2[i]= i*i\n",
        "\n",
        "print(dict1)\n",
        "print()\n",
        "print(dict2)"
      ],
      "metadata": {
        "colab": {
          "base_uri": "https://localhost:8080/"
        },
        "id": "ou4qYJOPy-_U",
        "outputId": "72f8a808-dc93-4f61-af4e-4a2c0812bbd8"
      },
      "execution_count": 5,
      "outputs": [
        {
          "output_type": "stream",
          "name": "stdout",
          "text": [
            "dictionary\n",
            "Enter lower range : 1\n",
            "Enter top range : 5\n",
            "{1: 1, 2: 2, 3: 3, 4: 4, 5: 5}\n",
            "\n",
            "{1: 1, 2: 4, 3: 9, 4: 16, 5: 25}\n"
          ]
        }
      ]
    },
    {
      "cell_type": "code",
      "source": [
        "#2nd"
      ],
      "metadata": {
        "id": "Hnn8DPP6z4Dr"
      },
      "execution_count": 6,
      "outputs": []
    },
    {
      "cell_type": "code",
      "source": [
        "print(\"Tuple code\")\n",
        "\n",
        "var1= int(input(\"First input\"))\n",
        "var2 = int(input(\"Sencond input\"))\n",
        "\n",
        "list1 = []\n",
        "\n",
        "for i in range(var1,var2+1):\n",
        "  list2 = []\n",
        "  list2.append(i)\n",
        "  list2.append(i*i)\n",
        "  list1.append(tuple(list2))\n",
        "\n",
        "print(list1)\n"
      ],
      "metadata": {
        "colab": {
          "base_uri": "https://localhost:8080/"
        },
        "id": "6F1ZgZZG0YL-",
        "outputId": "57e8d6b6-7912-44e5-c062-610769bd59c6"
      },
      "execution_count": 9,
      "outputs": [
        {
          "output_type": "stream",
          "name": "stdout",
          "text": [
            "Tuple code\n",
            "First input1\n",
            "Sencond input4\n",
            "[(1, 1), (2, 4), (3, 9), (4, 16)]\n"
          ]
        }
      ]
    },
    {
      "cell_type": "code",
      "source": [
        "# 3rd"
      ],
      "metadata": {
        "id": "BR1a2wQU1XrF"
      },
      "execution_count": 10,
      "outputs": []
    },
    {
      "cell_type": "code",
      "source": [
        "list1 = []\n",
        "\n",
        "while True:\n",
        "  var1 = input(\"Enter the nbumber :\")\n",
        "  if var1 !='':\n",
        "    list1.append(var1)\n",
        "  else:\n",
        "    break\n",
        "print(\"\\n\",list1)\n",
        "\n",
        "sum = 0\n",
        "list2 = []\n",
        "for i in list1:\n",
        "  j = int(i)\n",
        "\n",
        "  sum = sum + j\n",
        "  list2.append(sum)\n",
        "\n",
        "print(\"Original list : \",list1)\n",
        "print(\"Final list : \",list2)\n",
        "\n"
      ],
      "metadata": {
        "colab": {
          "base_uri": "https://localhost:8080/"
        },
        "id": "mzAM8yXj1lt2",
        "outputId": "51584854-42f5-49c4-ea90-50e8dc3a7d3e"
      },
      "execution_count": 11,
      "outputs": [
        {
          "output_type": "stream",
          "name": "stdout",
          "text": [
            "Enter the nbumber :1\n",
            "Enter the nbumber :2\n",
            "Enter the nbumber :3\n",
            "Enter the nbumber :4\n",
            "Enter the nbumber :5\n",
            "Enter the nbumber :\n",
            "\n",
            " ['1', '2', '3', '4', '5']\n",
            "Original list :  ['1', '2', '3', '4', '5']\n",
            "Final list :  [1, 3, 6, 10, 15]\n"
          ]
        }
      ]
    },
    {
      "cell_type": "code",
      "source": [
        "# 4th"
      ],
      "metadata": {
        "id": "vszChDYQ2fQG"
      },
      "execution_count": 13,
      "outputs": []
    },
    {
      "cell_type": "code",
      "source": [
        "var1=int(input(\"Enter lower range : \"))\n",
        "var2 = int(input(\"Enter top range :\"))\n",
        "#list1 =[]\n",
        "list2 = []\n",
        "\n",
        "for i in range(var1,var2+1):\n",
        "  \n",
        "  if (i%2!=0):\n",
        "    j = str(i)\n",
        "    if j==j[::-1]:\n",
        "      list2.append(j)\n",
        "print(list2)\n",
        "\n"
      ],
      "metadata": {
        "colab": {
          "base_uri": "https://localhost:8080/"
        },
        "id": "AMASjbK22mcI",
        "outputId": "77b307a7-7d06-43b4-9302-3a82289aa9e7"
      },
      "execution_count": 18,
      "outputs": [
        {
          "output_type": "stream",
          "name": "stdout",
          "text": [
            "Enter lower range : 300\n",
            "Enter top range :400\n",
            "['303', '313', '323', '333', '343', '353', '363', '373', '383', '393']\n"
          ]
        }
      ]
    },
    {
      "cell_type": "code",
      "source": [
        "# 5th"
      ],
      "metadata": {
        "id": "0j4GxBHv3Zwm"
      },
      "execution_count": 17,
      "outputs": []
    },
    {
      "cell_type": "code",
      "source": [
        "var1 = input(\"Enter input along with hyphen\")\n",
        "var2 = var1.split(\"-\")\n",
        "\n",
        "var2.sort()\n",
        "print(\"-\".join(var2))\n"
      ],
      "metadata": {
        "colab": {
          "base_uri": "https://localhost:8080/"
        },
        "id": "Y9Utji8m39kH",
        "outputId": "91493f0a-16bd-43c0-cf7f-4ed8312eb819"
      },
      "execution_count": 25,
      "outputs": [
        {
          "output_type": "stream",
          "name": "stdout",
          "text": [
            "Enter input along with hyphenred-green-blue-yellow\n",
            "blue-green-red-yellow\n"
          ]
        }
      ]
    },
    {
      "cell_type": "code",
      "source": [
        "# r"
      ],
      "metadata": {
        "id": "kQnLILpj4cbG"
      },
      "execution_count": 27,
      "outputs": []
    },
    {
      "cell_type": "code",
      "source": [
        "dict1 = {\n",
        "    \"mobile1\" : 10000,\n",
        "    \"mobile2\" : 11000,\n",
        "    \"mobile3\" : 13000,\n",
        "    \"mobile4\" : 9000,\n",
        "    \"mobile5\" : 15000,\n",
        "    \"mobile6\" : 16000,\n",
        "    \"mobile7\" : 17000,\n",
        "    \"mobile8\" : 18000,\n",
        "    \"mobile9\" : 19000\n",
        "\n",
        "}\n",
        "\n",
        "var1=min(dict1.values())\n",
        "\n",
        "for i,j in dict1.items():\n",
        "  if j==var1:\n",
        "    print(i,j)"
      ],
      "metadata": {
        "colab": {
          "base_uri": "https://localhost:8080/"
        },
        "id": "N6_PpfbH7LlJ",
        "outputId": "e00f1be2-a59e-41b4-9765-cd6d0112e62a"
      },
      "execution_count": 36,
      "outputs": [
        {
          "output_type": "stream",
          "name": "stdout",
          "text": [
            "mobile4 9000\n"
          ]
        }
      ]
    },
    {
      "cell_type": "code",
      "source": [
        ""
      ],
      "metadata": {
        "id": "rwL32q7I9N94"
      },
      "execution_count": null,
      "outputs": []
    },
    {
      "cell_type": "code",
      "source": [
        "list1 = []\n",
        "while True:\n",
        "  var1 = input(\"Enter the item :\")\n",
        "  if var1 != \"\":\n",
        "    list1.append(var1)\n",
        "  else:\n",
        "    break\n",
        "print(list1)\n",
        "var2 = set(list1)\n",
        "var3 = list(var2)\n",
        "dict1 = {}\n",
        "for i in var3:\n",
        "  var4 = list1.count(\"i\")\n",
        "  dict1[i]= var4\n",
        "\n",
        "var5 = max(dict1.values())\n",
        "if var5 > len(list1)+1:\n",
        "  print(var5,\" has majority\")\n",
        "else:\n",
        "  print(\"no one has majpority\")"
      ],
      "metadata": {
        "colab": {
          "base_uri": "https://localhost:8080/"
        },
        "id": "iz7cw5UI-xsq",
        "outputId": "06795468-4ea5-42f9-facf-c7ef2a92226d"
      },
      "execution_count": 44,
      "outputs": [
        {
          "output_type": "stream",
          "name": "stdout",
          "text": [
            "Enter the item :pav\n",
            "Enter the item :pav\n",
            "Enter the item :pav\n",
            "Enter the item :pav\n",
            "Enter the item :ban\n",
            "Enter the item :\n",
            "['pav', 'pav', 'pav', 'pav', 'ban']\n",
            "no one has majpority\n"
          ]
        }
      ]
    },
    {
      "cell_type": "code",
      "source": [
        "n = int(input())\n",
        "\n",
        "for i in range(n+1):\n",
        "  if "
      ],
      "metadata": {
        "id": "jEynj9Or_XcO"
      },
      "execution_count": null,
      "outputs": []
    }
  ]
}