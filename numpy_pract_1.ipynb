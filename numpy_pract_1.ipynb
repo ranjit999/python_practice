{
  "nbformat": 4,
  "nbformat_minor": 0,
  "metadata": {
    "colab": {
      "name": "numpy_pract_1.ipynb",
      "provenance": []
    },
    "kernelspec": {
      "name": "python3",
      "display_name": "Python 3"
    },
    "language_info": {
      "name": "python"
    }
  },
  "cells": [
    {
      "cell_type": "code",
      "execution_count": 21,
      "metadata": {
        "id": "_gy4swOsvhkt"
      },
      "outputs": [],
      "source": [
        "import pandas as pd\n",
        "import numpy as np\n"
      ]
    },
    {
      "cell_type": "code",
      "source": [
        "#creating 1d arrray\n",
        "a = np.arange(10)\n",
        "print(a)"
      ],
      "metadata": {
        "colab": {
          "base_uri": "https://localhost:8080/"
        },
        "id": "_KSGCG49v1Hn",
        "outputId": "2d81e909-905d-414d-9972-8acdc699eaf1"
      },
      "execution_count": 27,
      "outputs": [
        {
          "output_type": "stream",
          "name": "stdout",
          "text": [
            "[0 1 2 3 4 5 6 7 8 9]\n"
          ]
        }
      ]
    },
    {
      "cell_type": "code",
      "source": [
        "#printing odd numbers from above array\n",
        "\n",
        "for i in a:\n",
        "  if i%2 != 0 :\n",
        "    print(i)"
      ],
      "metadata": {
        "colab": {
          "base_uri": "https://localhost:8080/"
        },
        "id": "1XgEUFKVwAN3",
        "outputId": "8b008791-8bc4-4987-eaac-b71eb6ca8de8"
      },
      "execution_count": 23,
      "outputs": [
        {
          "output_type": "stream",
          "name": "stdout",
          "text": [
            "1\n",
            "3\n",
            "5\n",
            "7\n",
            "9\n"
          ]
        }
      ]
    },
    {
      "cell_type": "code",
      "source": [
        "#printing odd numbers from above array\n",
        "\n",
        "a[a%2==1]"
      ],
      "metadata": {
        "colab": {
          "base_uri": "https://localhost:8080/"
        },
        "id": "edg7TeWywO9G",
        "outputId": "84370e8f-7a4f-4fbc-a9ca-ea1d1796fb55"
      },
      "execution_count": 24,
      "outputs": [
        {
          "output_type": "execute_result",
          "data": {
            "text/plain": [
              "array([1, 3, 5, 7, 9])"
            ]
          },
          "metadata": {},
          "execution_count": 24
        }
      ]
    },
    {
      "cell_type": "code",
      "source": [
        "# How to replace items that satisfy a condition with another value in numpy array?\n",
        "\n",
        "a[a%2==1]=-1\n",
        "a"
      ],
      "metadata": {
        "colab": {
          "base_uri": "https://localhost:8080/"
        },
        "id": "zeU0vyhwwhSl",
        "outputId": "b1e502b5-2091-46fd-d110-92875dd19932"
      },
      "execution_count": 25,
      "outputs": [
        {
          "output_type": "execute_result",
          "data": {
            "text/plain": [
              "array([ 0, -1,  2, -1,  4, -1,  6, -1,  8, -1])"
            ]
          },
          "metadata": {},
          "execution_count": 25
        }
      ]
    },
    {
      "cell_type": "code",
      "source": [
        "#How to replace items that satisfy a condition without affecting the original array?\n",
        "\n",
        "print(np.where(a%2==1,-1,a))\n",
        "a"
      ],
      "metadata": {
        "colab": {
          "base_uri": "https://localhost:8080/"
        },
        "id": "4fM8jUOtx0DG",
        "outputId": "ac0a95fc-e2d2-4f88-eeb1-9d6342389de2"
      },
      "execution_count": 28,
      "outputs": [
        {
          "output_type": "stream",
          "name": "stdout",
          "text": [
            "[ 0 -1  2 -1  4 -1  6 -1  8 -1]\n"
          ]
        },
        {
          "output_type": "execute_result",
          "data": {
            "text/plain": [
              "array([0, 1, 2, 3, 4, 5, 6, 7, 8, 9])"
            ]
          },
          "metadata": {},
          "execution_count": 28
        }
      ]
    },
    {
      "cell_type": "code",
      "source": [
        "#  How to reshape an array?\n",
        "\n",
        "b= a \n",
        "print(b.shape)\n",
        "b.reshape(2,-1)"
      ],
      "metadata": {
        "colab": {
          "base_uri": "https://localhost:8080/"
        },
        "id": "9wn9fCQUydQW",
        "outputId": "25d85356-8099-4a13-e126-9bb35a094bf2"
      },
      "execution_count": 33,
      "outputs": [
        {
          "output_type": "stream",
          "name": "stdout",
          "text": [
            "(10,)\n"
          ]
        },
        {
          "output_type": "execute_result",
          "data": {
            "text/plain": [
              "array([[0, 1, 2, 3, 4],\n",
              "       [5, 6, 7, 8, 9]])"
            ]
          },
          "metadata": {},
          "execution_count": 33
        }
      ]
    },
    {
      "cell_type": "code",
      "source": [
        "#How to stack two arrays vertically?\n",
        "c = a.reshape(2,-1)\n",
        "d = np.repeat(1,10).reshape(2,-1)\n",
        "print(c)\n",
        "print()\n",
        "print(d)\n",
        "print()\n",
        "print(np.concatenate([c,d],axis=0))\n",
        "print()\n",
        "print(np.concatenate((c,d),axis=0))\n",
        "print()\n",
        "print(np.vstack((c,d)))"
      ],
      "metadata": {
        "colab": {
          "base_uri": "https://localhost:8080/"
        },
        "id": "MjRbotMf2-L3",
        "outputId": "3d5cad2d-9e05-408d-dfcc-7fe956cc89e8"
      },
      "execution_count": 74,
      "outputs": [
        {
          "output_type": "stream",
          "name": "stdout",
          "text": [
            "[[0 1 2 3 4]\n",
            " [5 6 7 8 9]]\n",
            "\n",
            "[[1 1 1 1 1]\n",
            " [1 1 1 1 1]]\n",
            "\n",
            "[[0 1 2 3 4]\n",
            " [5 6 7 8 9]\n",
            " [1 1 1 1 1]\n",
            " [1 1 1 1 1]]\n",
            "\n",
            "[[0 1 2 3 4]\n",
            " [5 6 7 8 9]\n",
            " [1 1 1 1 1]\n",
            " [1 1 1 1 1]]\n",
            "\n",
            "[[0 1 2 3 4]\n",
            " [5 6 7 8 9]\n",
            " [1 1 1 1 1]\n",
            " [1 1 1 1 1]]\n"
          ]
        }
      ]
    },
    {
      "cell_type": "code",
      "source": [
        "#How to stack two arrays horizontally?\n",
        "\n",
        "c = a.reshape(2,-1)\n",
        "d = np.repeat(1,10).reshape(2,-1)\n",
        "print(np.hstack((c,d)))"
      ],
      "metadata": {
        "colab": {
          "base_uri": "https://localhost:8080/"
        },
        "id": "pw20NXCN54BH",
        "outputId": "6e2756b3-5ad1-475b-948b-e04bd40be5bc"
      },
      "execution_count": 44,
      "outputs": [
        {
          "output_type": "stream",
          "name": "stdout",
          "text": [
            "[[0 1 2 3 4 1 1 1 1 1]\n",
            " [5 6 7 8 9 1 1 1 1 1]]\n"
          ]
        }
      ]
    },
    {
      "cell_type": "code",
      "source": [
        "#How to generate custom sequences in numpy without hardcoding?\n",
        "\n",
        "c = np.arange(11,21)\n",
        "print(c)\n",
        "np.repeat(c,3)"
      ],
      "metadata": {
        "colab": {
          "base_uri": "https://localhost:8080/"
        },
        "id": "Z3IArYYg8GLq",
        "outputId": "62d5563f-ac24-48f9-869c-d912632a1ab0"
      },
      "execution_count": 54,
      "outputs": [
        {
          "output_type": "stream",
          "name": "stdout",
          "text": [
            "[11 12 13 14 15 16 17 18 19 20]\n"
          ]
        },
        {
          "output_type": "execute_result",
          "data": {
            "text/plain": [
              "array([11, 11, 11, 12, 12, 12, 13, 13, 13, 14, 14, 14, 15, 15, 15, 16, 16,\n",
              "       16, 17, 17, 17, 18, 18, 18, 19, 19, 19, 20, 20, 20])"
            ]
          },
          "metadata": {},
          "execution_count": 54
        }
      ]
    },
    {
      "cell_type": "code",
      "source": [
        "#How to get the common items between two python numpy arrays?\n",
        "\n",
        "c = np.arange(1,20,2)\n",
        "d = np.arange(11,21)\n",
        "print(c)\n",
        "print()\n",
        "np.intersect1d(c,d)\n"
      ],
      "metadata": {
        "colab": {
          "base_uri": "https://localhost:8080/"
        },
        "id": "nUK_zGZO8enH",
        "outputId": "4b627a9e-6223-443e-d144-71e5f217f17e"
      },
      "execution_count": 56,
      "outputs": [
        {
          "output_type": "stream",
          "name": "stdout",
          "text": [
            "[ 1  3  5  7  9 11 13 15 17 19]\n",
            "\n"
          ]
        },
        {
          "output_type": "execute_result",
          "data": {
            "text/plain": [
              "array([11, 13, 15, 17, 19])"
            ]
          },
          "metadata": {},
          "execution_count": 56
        }
      ]
    },
    {
      "cell_type": "code",
      "source": [
        "#How to remove from one array those items that exist in another?\n",
        "np.setdiff1d(c,d)"
      ],
      "metadata": {
        "colab": {
          "base_uri": "https://localhost:8080/"
        },
        "id": "DPVXh_mi-woo",
        "outputId": "60fe5c1c-0a9e-4599-f4c1-bbcba93bd0dc"
      },
      "execution_count": 57,
      "outputs": [
        {
          "output_type": "execute_result",
          "data": {
            "text/plain": [
              "array([1, 3, 5, 7, 9])"
            ]
          },
          "metadata": {},
          "execution_count": 57
        }
      ]
    },
    {
      "cell_type": "code",
      "source": [
        " #How to get the positions where elements of two arrays match?\n",
        "# c = np.array([1,2,3,4,5,6])\n",
        "# d = np.array([3,4,5,6,7])\n",
        "\n",
        "# print()\n",
        "# print(np.where(c==d))\n",
        "# print()\n",
        "\n",
        "y = np.array([1,2,3,2,3,4,3,4,5,6])\n",
        "z = np.array([7,2,10,2,7,4,9,4,9,8])\n",
        "print(np.where(y==z))"
      ],
      "metadata": {
        "colab": {
          "base_uri": "https://localhost:8080/"
        },
        "id": "oJmMtPu1_g8n",
        "outputId": "7c90bf3b-96aa-41f6-a619-dc09ecace440"
      },
      "execution_count": 67,
      "outputs": [
        {
          "output_type": "stream",
          "name": "stdout",
          "text": [
            "(array([1, 3, 5, 7]),)\n"
          ]
        }
      ]
    },
    {
      "cell_type": "code",
      "source": [
        "#How to extract all numbers between a given range from a numpy array?   extract numners between any 2 numbers\n",
        "\n",
        "c= np.arange(5,15)\n",
        "print(c)\n",
        "var1=int(input(\"Enter lower range : \"))\n",
        "var2 = int(input('Enter upper range : '))\n",
        "index = np.where((c > var1) & (c < var2))\n",
        "print(c[index])\n",
        "#**************** OR ***********************\n",
        "\n",
        "print(c[(c>7)&(c<14)])"
      ],
      "metadata": {
        "colab": {
          "base_uri": "https://localhost:8080/"
        },
        "id": "sEu5tSK3_8An",
        "outputId": "9ce178c0-63bd-4f9e-ba76-285421880be7"
      },
      "execution_count": 72,
      "outputs": [
        {
          "output_type": "stream",
          "name": "stdout",
          "text": [
            "[ 5  6  7  8  9 10 11 12 13 14]\n",
            "Enter lower range : 7\n",
            "Enter upper range : 14\n",
            "[ 8  9 10 11 12 13]\n",
            "[ 8  9 10 11 12 13]\n"
          ]
        }
      ]
    },
    {
      "cell_type": "code",
      "source": [
        "#How to make a python function that handles scalars to work on numpy arrays?\n",
        "c = np.array([5, 7, 9, 8, 6, 4, 5])\n",
        "d = np.array([6, 3, 4, 8, 9, 7, 1])\n",
        "\n",
        "np.where(c>d,c,d)\n",
        "\n",
        "#**************************** OR *****************************\n",
        "\n",
        "def maxx(a,b):\n",
        "  if a >+ b:\n",
        "    return a\n",
        "  else:\n",
        "    return b\n",
        "print('New op is :- ')\n",
        "maxx(c,d)"
      ],
      "metadata": {
        "colab": {
          "base_uri": "https://localhost:8080/",
          "height": 348
        },
        "id": "7sp8BifxBJd4",
        "outputId": "05e4bcd6-1a84-469f-987a-12539ca82787"
      },
      "execution_count": 76,
      "outputs": [
        {
          "output_type": "stream",
          "name": "stdout",
          "text": [
            "New op is :- \n"
          ]
        },
        {
          "output_type": "error",
          "ename": "ValueError",
          "evalue": "ignored",
          "traceback": [
            "\u001b[0;31m---------------------------------------------------------------------------\u001b[0m",
            "\u001b[0;31mValueError\u001b[0m                                Traceback (most recent call last)",
            "\u001b[0;32m<ipython-input-76-9ae8d53d9fc5>\u001b[0m in \u001b[0;36m<module>\u001b[0;34m()\u001b[0m\n\u001b[1;32m     13\u001b[0m     \u001b[0;32mreturn\u001b[0m \u001b[0mb\u001b[0m\u001b[0;34m\u001b[0m\u001b[0;34m\u001b[0m\u001b[0m\n\u001b[1;32m     14\u001b[0m \u001b[0mprint\u001b[0m\u001b[0;34m(\u001b[0m\u001b[0;34m'New op is :- '\u001b[0m\u001b[0;34m)\u001b[0m\u001b[0;34m\u001b[0m\u001b[0;34m\u001b[0m\u001b[0m\n\u001b[0;32m---> 15\u001b[0;31m \u001b[0mmaxx\u001b[0m\u001b[0;34m(\u001b[0m\u001b[0mc\u001b[0m\u001b[0;34m,\u001b[0m\u001b[0md\u001b[0m\u001b[0;34m)\u001b[0m\u001b[0;34m\u001b[0m\u001b[0;34m\u001b[0m\u001b[0m\n\u001b[0m",
            "\u001b[0;32m<ipython-input-76-9ae8d53d9fc5>\u001b[0m in \u001b[0;36mmaxx\u001b[0;34m(a, b)\u001b[0m\n\u001b[1;32m      8\u001b[0m \u001b[0;34m\u001b[0m\u001b[0m\n\u001b[1;32m      9\u001b[0m \u001b[0;32mdef\u001b[0m \u001b[0mmaxx\u001b[0m\u001b[0;34m(\u001b[0m\u001b[0ma\u001b[0m\u001b[0;34m,\u001b[0m\u001b[0mb\u001b[0m\u001b[0;34m)\u001b[0m\u001b[0;34m:\u001b[0m\u001b[0;34m\u001b[0m\u001b[0;34m\u001b[0m\u001b[0m\n\u001b[0;32m---> 10\u001b[0;31m   \u001b[0;32mif\u001b[0m \u001b[0ma\u001b[0m \u001b[0;34m>\u001b[0m\u001b[0;34m+\u001b[0m \u001b[0mb\u001b[0m\u001b[0;34m:\u001b[0m\u001b[0;34m\u001b[0m\u001b[0;34m\u001b[0m\u001b[0m\n\u001b[0m\u001b[1;32m     11\u001b[0m     \u001b[0;32mreturn\u001b[0m \u001b[0ma\u001b[0m\u001b[0;34m\u001b[0m\u001b[0;34m\u001b[0m\u001b[0m\n\u001b[1;32m     12\u001b[0m   \u001b[0;32melse\u001b[0m\u001b[0;34m:\u001b[0m\u001b[0;34m\u001b[0m\u001b[0;34m\u001b[0m\u001b[0m\n",
            "\u001b[0;31mValueError\u001b[0m: The truth value of an array with more than one element is ambiguous. Use a.any() or a.all()"
          ]
        }
      ]
    },
    {
      "cell_type": "code",
      "source": [
        "#some queries tried below\n",
        "z = np.array([10,0,0,2],float)\n",
        "print(\"1\",z)  \n",
        "print(\"2\",np.sum(z))\n",
        "print(\"3\",(z!=0).sum())\n",
        "print(\"4\",z.sum())\n",
        "print(z.size)\n",
        "np.count_nonzero(z)"
      ],
      "metadata": {
        "colab": {
          "base_uri": "https://localhost:8080/"
        },
        "id": "-kgyJYBaO7CK",
        "outputId": "77a9e0dd-a5d6-4a9a-c662-7248b7f24681"
      },
      "execution_count": 98,
      "outputs": [
        {
          "output_type": "stream",
          "name": "stdout",
          "text": [
            "1 [10.  0.  0.  2.]\n",
            "2 12.0\n",
            "3 2\n",
            "4 12.0\n",
            "5 4\n"
          ]
        },
        {
          "output_type": "execute_result",
          "data": {
            "text/plain": [
              "2"
            ]
          },
          "metadata": {},
          "execution_count": 98
        }
      ]
    },
    {
      "cell_type": "code",
      "source": [
        "#row and column swapping\n",
        "g = np.arange(12).reshape(4,-1)\n",
        "print(g)\n",
        "print()\n",
        "print(g[:,0:2])\n",
        "print()\n",
        "g[:,[2,0]]=g[:,[0,2]]\n",
        "print(g)\n",
        "print()\n",
        "g[[2,0],:]=g[[0,2],:]\n",
        "print(g)"
      ],
      "metadata": {
        "colab": {
          "base_uri": "https://localhost:8080/"
        },
        "id": "ZW0ERavMQXdq",
        "outputId": "ed053fdc-af0c-4f86-fc86-b33c9a62f904"
      },
      "execution_count": 117,
      "outputs": [
        {
          "output_type": "stream",
          "name": "stdout",
          "text": [
            "[[ 0  1  2]\n",
            " [ 3  4  5]\n",
            " [ 6  7  8]\n",
            " [ 9 10 11]]\n",
            "\n",
            "[[ 0  1]\n",
            " [ 3  4]\n",
            " [ 6  7]\n",
            " [ 9 10]]\n",
            "\n",
            "[[ 2  1  0]\n",
            " [ 5  4  3]\n",
            " [ 8  7  6]\n",
            " [11 10  9]]\n",
            "\n",
            "[[ 8  7  6]\n",
            " [ 5  4  3]\n",
            " [ 2  1  0]\n",
            " [11 10  9]]\n"
          ]
        }
      ]
    },
    {
      "cell_type": "code",
      "source": [
        "#How to swap two rows in a 2d numpy array?\n",
        "\n",
        "arr = np.arange(9).reshape(3,3)\n",
        "print(arr)\n",
        "# Solution\n",
        "print(arr[[1,2,0], : ])\n",
        "arr[[1,0,2], :]"
      ],
      "metadata": {
        "colab": {
          "base_uri": "https://localhost:8080/"
        },
        "id": "hJYZsJ0XZda7",
        "outputId": "248ce7c3-c54d-4290-ba87-b56fbf2c01f9"
      },
      "execution_count": 121,
      "outputs": [
        {
          "output_type": "stream",
          "name": "stdout",
          "text": [
            "[[0 1 2]\n",
            " [3 4 5]\n",
            " [6 7 8]]\n",
            "[[3 4 5]\n",
            " [6 7 8]\n",
            " [0 1 2]]\n"
          ]
        },
        {
          "output_type": "execute_result",
          "data": {
            "text/plain": [
              "array([[3, 4, 5],\n",
              "       [0, 1, 2],\n",
              "       [6, 7, 8]])"
            ]
          },
          "metadata": {},
          "execution_count": 121
        }
      ]
    },
    {
      "cell_type": "code",
      "source": [
        "#reversing array\n",
        "\n",
        "g = np.arange(0,16,2).reshape(4,-1)\n",
        "h = np.array([1,2,3,4,5,6,7,8,9,0]).reshape(2,-1)\n",
        "\n",
        "print()\n",
        "print('printing g : ',g)\n",
        "print()\n",
        "print('printng h : ',h)\n",
        "\n",
        "print()\n",
        "print(g[::-1])\n",
        "print()\n",
        "print(h[::-1])"
      ],
      "metadata": {
        "colab": {
          "base_uri": "https://localhost:8080/"
        },
        "id": "mr4knO5CbBO8",
        "outputId": "3014d672-f91f-4cd1-bc2e-6101002f2bd4"
      },
      "execution_count": 127,
      "outputs": [
        {
          "output_type": "stream",
          "name": "stdout",
          "text": [
            "\n",
            "printing g :  [[ 0  2]\n",
            " [ 4  6]\n",
            " [ 8 10]\n",
            " [12 14]]\n",
            "\n",
            "printng h :  [[1 2 3 4 5]\n",
            " [6 7 8 9 0]]\n",
            "\n",
            "[[12 14]\n",
            " [ 8 10]\n",
            " [ 4  6]\n",
            " [ 0  2]]\n",
            "\n",
            "[[6 7 8 9 0]\n",
            " [1 2 3 4 5]]\n"
          ]
        }
      ]
    },
    {
      "cell_type": "code",
      "source": [
        ""
      ],
      "metadata": {
        "id": "HGEZh1HnhWmc"
      },
      "execution_count": null,
      "outputs": []
    }
  ]
}