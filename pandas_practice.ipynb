{
  "nbformat": 4,
  "nbformat_minor": 0,
  "metadata": {
    "colab": {
      "name": "pandas_practice.ipynb",
      "provenance": []
    },
    "kernelspec": {
      "name": "python3",
      "display_name": "Python 3"
    },
    "language_info": {
      "name": "python"
    }
  },
  "cells": [
    {
      "cell_type": "code",
      "execution_count": 2,
      "metadata": {
        "id": "WRwvJEnq6Tbv"
      },
      "outputs": [],
      "source": [
        "import pandas as pd\n"
      ]
    },
    {
      "cell_type": "code",
      "source": [
        "given_list = [2, 4, 5, 6, 9]\n",
        "\n",
        "s1 = pd.Series(given_list,index=[\"A\",\"B\",\"C\",'D',\"E\"])\n",
        "\n",
        "print(s1)"
      ],
      "metadata": {
        "colab": {
          "base_uri": "https://localhost:8080/"
        },
        "id": "PINwOcu_6WYS",
        "outputId": "4707493b-abb5-4d50-f832-b39d4a17838f"
      },
      "execution_count": 3,
      "outputs": [
        {
          "output_type": "stream",
          "name": "stdout",
          "text": [
            "A    2\n",
            "B    4\n",
            "C    5\n",
            "D    6\n",
            "E    9\n",
            "dtype: int64\n"
          ]
        }
      ]
    },
    {
      "cell_type": "code",
      "source": [
        "# Date Series Generation"
      ],
      "metadata": {
        "id": "odnto83m6jHT"
      },
      "execution_count": 4,
      "outputs": []
    },
    {
      "cell_type": "code",
      "source": [
        "dt1 = pd.date_range(start = \"05-01-2022\", end = \"05-12-2022\") \n",
        "\n",
        "print(dt1)\n",
        "print(len(dt1))"
      ],
      "metadata": {
        "colab": {
          "base_uri": "https://localhost:8080/"
        },
        "id": "DT63qVoh6_CT",
        "outputId": "ea4411c9-dce8-482c-b11c-c353f2b809bd"
      },
      "execution_count": 5,
      "outputs": [
        {
          "output_type": "stream",
          "name": "stdout",
          "text": [
            "DatetimeIndex(['2022-05-01', '2022-05-02', '2022-05-03', '2022-05-04',\n",
            "               '2022-05-05', '2022-05-06', '2022-05-07', '2022-05-08',\n",
            "               '2022-05-09', '2022-05-10', '2022-05-11', '2022-05-12'],\n",
            "              dtype='datetime64[ns]', freq='D')\n",
            "12\n"
          ]
        }
      ]
    },
    {
      "cell_type": "code",
      "source": [
        "#  Implementing a function on each and every element of a series"
      ],
      "metadata": {
        "id": "Oy2hVngz7eX0"
      },
      "execution_count": 6,
      "outputs": []
    },
    {
      "cell_type": "code",
      "source": [
        "s1 = pd.Series([2,4,6,8,10])\n",
        "\n",
        "print(s1,\"\\n\")\n",
        "\n",
        "new_s1 = s1.apply(lambda x:x/2)\n",
        "\n",
        "print(new_s1)"
      ],
      "metadata": {
        "colab": {
          "base_uri": "https://localhost:8080/"
        },
        "id": "dCDtz7wE7fX1",
        "outputId": "546e3391-78f5-4745-e11d-11fa6077cec1"
      },
      "execution_count": 7,
      "outputs": [
        {
          "output_type": "stream",
          "name": "stdout",
          "text": [
            "0     2\n",
            "1     4\n",
            "2     6\n",
            "3     8\n",
            "4    10\n",
            "dtype: int64 \n",
            "\n",
            "0    1.0\n",
            "1    2.0\n",
            "2    3.0\n",
            "3    4.0\n",
            "4    5.0\n",
            "dtype: float64\n"
          ]
        }
      ]
    },
    {
      "cell_type": "code",
      "source": [
        "#Dict to dataframe\n",
        "\n",
        "dictionary = {'name': ['Vinay', 'Kushal', 'Aman'],\n",
        "              'age' : [22, 25, 24],\n",
        "              'occ' : ['engineer', 'doctor', 'accountant']}\n",
        "df1 = pd.DataFrame(dictionary,index=['a','b','c'])\n",
        "\n",
        "print(df1)"
      ],
      "metadata": {
        "colab": {
          "base_uri": "https://localhost:8080/"
        },
        "id": "gU3396vh75tD",
        "outputId": "c1a59854-35a5-4e40-ee73-911ac544233b"
      },
      "execution_count": 9,
      "outputs": [
        {
          "output_type": "stream",
          "name": "stdout",
          "text": [
            "     name  age         occ\n",
            "a   Vinay   22    engineer\n",
            "b  Kushal   25      doctor\n",
            "c    Aman   24  accountant\n"
          ]
        }
      ]
    },
    {
      "cell_type": "code",
      "source": [
        "df1.iloc[1]"
      ],
      "metadata": {
        "colab": {
          "base_uri": "https://localhost:8080/"
        },
        "id": "ppymq0qlZBaG",
        "outputId": "0e6abc79-2582-45d4-b5e0-6896ac9bfd45"
      },
      "execution_count": 12,
      "outputs": [
        {
          "output_type": "execute_result",
          "data": {
            "text/plain": [
              "name    Kushal\n",
              "age         25\n",
              "occ     doctor\n",
              "Name: b, dtype: object"
            ]
          },
          "metadata": {},
          "execution_count": 12
        }
      ]
    },
    {
      "cell_type": "code",
      "source": [
        "df1.occ"
      ],
      "metadata": {
        "colab": {
          "base_uri": "https://localhost:8080/"
        },
        "id": "cCRPnJqZZcPm",
        "outputId": "8e73af8a-6032-47eb-e406-b901f7258bc6"
      },
      "execution_count": 13,
      "outputs": [
        {
          "output_type": "execute_result",
          "data": {
            "text/plain": [
              "a      engineer\n",
              "b        doctor\n",
              "c    accountant\n",
              "Name: occ, dtype: object"
            ]
          },
          "metadata": {},
          "execution_count": 13
        }
      ]
    },
    {
      "cell_type": "code",
      "source": [
        "df1['occ']"
      ],
      "metadata": {
        "colab": {
          "base_uri": "https://localhost:8080/"
        },
        "id": "z7gR2AM-Zpn1",
        "outputId": "d357e0d5-1758-44d4-8a23-206adf4cc9ec"
      },
      "execution_count": 15,
      "outputs": [
        {
          "output_type": "execute_result",
          "data": {
            "text/plain": [
              "a      engineer\n",
              "b        doctor\n",
              "c    accountant\n",
              "Name: occ, dtype: object"
            ]
          },
          "metadata": {},
          "execution_count": 15
        }
      ]
    },
    {
      "cell_type": "code",
      "source": [
        "df1[df1.occ=='engineer']"
      ],
      "metadata": {
        "colab": {
          "base_uri": "https://localhost:8080/",
          "height": 80
        },
        "id": "lOTpKvRwZsQ2",
        "outputId": "211acb2c-74f6-46c4-f67f-3726a8275937"
      },
      "execution_count": 16,
      "outputs": [
        {
          "output_type": "execute_result",
          "data": {
            "text/plain": [
              "    name  age       occ\n",
              "a  Vinay   22  engineer"
            ],
            "text/html": [
              "\n",
              "  <div id=\"df-c6252bde-02f9-4fb9-9e1d-4e7653100af0\">\n",
              "    <div class=\"colab-df-container\">\n",
              "      <div>\n",
              "<style scoped>\n",
              "    .dataframe tbody tr th:only-of-type {\n",
              "        vertical-align: middle;\n",
              "    }\n",
              "\n",
              "    .dataframe tbody tr th {\n",
              "        vertical-align: top;\n",
              "    }\n",
              "\n",
              "    .dataframe thead th {\n",
              "        text-align: right;\n",
              "    }\n",
              "</style>\n",
              "<table border=\"1\" class=\"dataframe\">\n",
              "  <thead>\n",
              "    <tr style=\"text-align: right;\">\n",
              "      <th></th>\n",
              "      <th>name</th>\n",
              "      <th>age</th>\n",
              "      <th>occ</th>\n",
              "    </tr>\n",
              "  </thead>\n",
              "  <tbody>\n",
              "    <tr>\n",
              "      <th>a</th>\n",
              "      <td>Vinay</td>\n",
              "      <td>22</td>\n",
              "      <td>engineer</td>\n",
              "    </tr>\n",
              "  </tbody>\n",
              "</table>\n",
              "</div>\n",
              "      <button class=\"colab-df-convert\" onclick=\"convertToInteractive('df-c6252bde-02f9-4fb9-9e1d-4e7653100af0')\"\n",
              "              title=\"Convert this dataframe to an interactive table.\"\n",
              "              style=\"display:none;\">\n",
              "        \n",
              "  <svg xmlns=\"http://www.w3.org/2000/svg\" height=\"24px\"viewBox=\"0 0 24 24\"\n",
              "       width=\"24px\">\n",
              "    <path d=\"M0 0h24v24H0V0z\" fill=\"none\"/>\n",
              "    <path d=\"M18.56 5.44l.94 2.06.94-2.06 2.06-.94-2.06-.94-.94-2.06-.94 2.06-2.06.94zm-11 1L8.5 8.5l.94-2.06 2.06-.94-2.06-.94L8.5 2.5l-.94 2.06-2.06.94zm10 10l.94 2.06.94-2.06 2.06-.94-2.06-.94-.94-2.06-.94 2.06-2.06.94z\"/><path d=\"M17.41 7.96l-1.37-1.37c-.4-.4-.92-.59-1.43-.59-.52 0-1.04.2-1.43.59L10.3 9.45l-7.72 7.72c-.78.78-.78 2.05 0 2.83L4 21.41c.39.39.9.59 1.41.59.51 0 1.02-.2 1.41-.59l7.78-7.78 2.81-2.81c.8-.78.8-2.07 0-2.86zM5.41 20L4 18.59l7.72-7.72 1.47 1.35L5.41 20z\"/>\n",
              "  </svg>\n",
              "      </button>\n",
              "      \n",
              "  <style>\n",
              "    .colab-df-container {\n",
              "      display:flex;\n",
              "      flex-wrap:wrap;\n",
              "      gap: 12px;\n",
              "    }\n",
              "\n",
              "    .colab-df-convert {\n",
              "      background-color: #E8F0FE;\n",
              "      border: none;\n",
              "      border-radius: 50%;\n",
              "      cursor: pointer;\n",
              "      display: none;\n",
              "      fill: #1967D2;\n",
              "      height: 32px;\n",
              "      padding: 0 0 0 0;\n",
              "      width: 32px;\n",
              "    }\n",
              "\n",
              "    .colab-df-convert:hover {\n",
              "      background-color: #E2EBFA;\n",
              "      box-shadow: 0px 1px 2px rgba(60, 64, 67, 0.3), 0px 1px 3px 1px rgba(60, 64, 67, 0.15);\n",
              "      fill: #174EA6;\n",
              "    }\n",
              "\n",
              "    [theme=dark] .colab-df-convert {\n",
              "      background-color: #3B4455;\n",
              "      fill: #D2E3FC;\n",
              "    }\n",
              "\n",
              "    [theme=dark] .colab-df-convert:hover {\n",
              "      background-color: #434B5C;\n",
              "      box-shadow: 0px 1px 3px 1px rgba(0, 0, 0, 0.15);\n",
              "      filter: drop-shadow(0px 1px 2px rgba(0, 0, 0, 0.3));\n",
              "      fill: #FFFFFF;\n",
              "    }\n",
              "  </style>\n",
              "\n",
              "      <script>\n",
              "        const buttonEl =\n",
              "          document.querySelector('#df-c6252bde-02f9-4fb9-9e1d-4e7653100af0 button.colab-df-convert');\n",
              "        buttonEl.style.display =\n",
              "          google.colab.kernel.accessAllowed ? 'block' : 'none';\n",
              "\n",
              "        async function convertToInteractive(key) {\n",
              "          const element = document.querySelector('#df-c6252bde-02f9-4fb9-9e1d-4e7653100af0');\n",
              "          const dataTable =\n",
              "            await google.colab.kernel.invokeFunction('convertToInteractive',\n",
              "                                                     [key], {});\n",
              "          if (!dataTable) return;\n",
              "\n",
              "          const docLinkHtml = 'Like what you see? Visit the ' +\n",
              "            '<a target=\"_blank\" href=https://colab.research.google.com/notebooks/data_table.ipynb>data table notebook</a>'\n",
              "            + ' to learn more about interactive tables.';\n",
              "          element.innerHTML = '';\n",
              "          dataTable['output_type'] = 'display_data';\n",
              "          await google.colab.output.renderOutput(dataTable, element);\n",
              "          const docLink = document.createElement('div');\n",
              "          docLink.innerHTML = docLinkHtml;\n",
              "          element.appendChild(docLink);\n",
              "        }\n",
              "      </script>\n",
              "    </div>\n",
              "  </div>\n",
              "  "
            ]
          },
          "metadata": {},
          "execution_count": 16
        }
      ]
    },
    {
      "cell_type": "code",
      "source": [
        "df1[\"age\"].sum()"
      ],
      "metadata": {
        "colab": {
          "base_uri": "https://localhost:8080/"
        },
        "id": "aXId4JJeZ3xd",
        "outputId": "8a84c42d-f92e-4a11-9822-fb27fad9c0ca"
      },
      "execution_count": 17,
      "outputs": [
        {
          "output_type": "execute_result",
          "data": {
            "text/plain": [
              "71"
            ]
          },
          "metadata": {},
          "execution_count": 17
        }
      ]
    },
    {
      "cell_type": "code",
      "source": [
        "len(df1.age)"
      ],
      "metadata": {
        "colab": {
          "base_uri": "https://localhost:8080/"
        },
        "id": "BFgmc2pWaAUE",
        "outputId": "caae8be4-2256-4582-ec06-0017b3de1874"
      },
      "execution_count": 20,
      "outputs": [
        {
          "output_type": "execute_result",
          "data": {
            "text/plain": [
              "3"
            ]
          },
          "metadata": {},
          "execution_count": 20
        }
      ]
    },
    {
      "cell_type": "code",
      "source": [
        "max(df1.age)"
      ],
      "metadata": {
        "colab": {
          "base_uri": "https://localhost:8080/"
        },
        "id": "dNnoFCF_aIIU",
        "outputId": "087f4621-66c3-4ced-ba99-5d9a5120514e"
      },
      "execution_count": 21,
      "outputs": [
        {
          "output_type": "execute_result",
          "data": {
            "text/plain": [
              "25"
            ]
          },
          "metadata": {},
          "execution_count": 21
        }
      ]
    },
    {
      "cell_type": "code",
      "source": [
        "sum(df1.age)"
      ],
      "metadata": {
        "colab": {
          "base_uri": "https://localhost:8080/"
        },
        "id": "2jZymooFaZAU",
        "outputId": "00c867ca-658f-41f6-a6ab-eadcb40a33cc"
      },
      "execution_count": 22,
      "outputs": [
        {
          "output_type": "execute_result",
          "data": {
            "text/plain": [
              "71"
            ]
          },
          "metadata": {},
          "execution_count": 22
        }
      ]
    },
    {
      "cell_type": "code",
      "source": [
        "df1.age.mean()"
      ],
      "metadata": {
        "colab": {
          "base_uri": "https://localhost:8080/"
        },
        "id": "vdMfVKY7acAk",
        "outputId": "4d65e370-f1c1-42b6-d2db-6caac8c1950d"
      },
      "execution_count": 24,
      "outputs": [
        {
          "output_type": "execute_result",
          "data": {
            "text/plain": [
              "23.666666666666668"
            ]
          },
          "metadata": {},
          "execution_count": 24
        }
      ]
    },
    {
      "cell_type": "code",
      "source": [
        "df1.mean()"
      ],
      "metadata": {
        "colab": {
          "base_uri": "https://localhost:8080/"
        },
        "id": "3NAKCK9FafeV",
        "outputId": "4bdeaf99-9cf1-4e6b-8de7-9efcd52e62bc"
      },
      "execution_count": 25,
      "outputs": [
        {
          "output_type": "stream",
          "name": "stderr",
          "text": [
            "/usr/local/lib/python3.7/dist-packages/ipykernel_launcher.py:1: FutureWarning: Dropping of nuisance columns in DataFrame reductions (with 'numeric_only=None') is deprecated; in a future version this will raise TypeError.  Select only valid columns before calling the reduction.\n",
            "  \"\"\"Entry point for launching an IPython kernel.\n"
          ]
        },
        {
          "output_type": "execute_result",
          "data": {
            "text/plain": [
              "age    23.666667\n",
              "dtype: float64"
            ]
          },
          "metadata": {},
          "execution_count": 25
        }
      ]
    },
    {
      "cell_type": "code",
      "source": [
        "df1.head()"
      ],
      "metadata": {
        "colab": {
          "base_uri": "https://localhost:8080/",
          "height": 143
        },
        "id": "iYj11UB_cjJG",
        "outputId": "070cf2d7-e6dc-4a06-bd84-b288a48b7e78"
      },
      "execution_count": 26,
      "outputs": [
        {
          "output_type": "execute_result",
          "data": {
            "text/plain": [
              "     name  age         occ\n",
              "a   Vinay   22    engineer\n",
              "b  Kushal   25      doctor\n",
              "c    Aman   24  accountant"
            ],
            "text/html": [
              "\n",
              "  <div id=\"df-fd88ba2c-10e0-489e-89fe-4a8ef7cae5a7\">\n",
              "    <div class=\"colab-df-container\">\n",
              "      <div>\n",
              "<style scoped>\n",
              "    .dataframe tbody tr th:only-of-type {\n",
              "        vertical-align: middle;\n",
              "    }\n",
              "\n",
              "    .dataframe tbody tr th {\n",
              "        vertical-align: top;\n",
              "    }\n",
              "\n",
              "    .dataframe thead th {\n",
              "        text-align: right;\n",
              "    }\n",
              "</style>\n",
              "<table border=\"1\" class=\"dataframe\">\n",
              "  <thead>\n",
              "    <tr style=\"text-align: right;\">\n",
              "      <th></th>\n",
              "      <th>name</th>\n",
              "      <th>age</th>\n",
              "      <th>occ</th>\n",
              "    </tr>\n",
              "  </thead>\n",
              "  <tbody>\n",
              "    <tr>\n",
              "      <th>a</th>\n",
              "      <td>Vinay</td>\n",
              "      <td>22</td>\n",
              "      <td>engineer</td>\n",
              "    </tr>\n",
              "    <tr>\n",
              "      <th>b</th>\n",
              "      <td>Kushal</td>\n",
              "      <td>25</td>\n",
              "      <td>doctor</td>\n",
              "    </tr>\n",
              "    <tr>\n",
              "      <th>c</th>\n",
              "      <td>Aman</td>\n",
              "      <td>24</td>\n",
              "      <td>accountant</td>\n",
              "    </tr>\n",
              "  </tbody>\n",
              "</table>\n",
              "</div>\n",
              "      <button class=\"colab-df-convert\" onclick=\"convertToInteractive('df-fd88ba2c-10e0-489e-89fe-4a8ef7cae5a7')\"\n",
              "              title=\"Convert this dataframe to an interactive table.\"\n",
              "              style=\"display:none;\">\n",
              "        \n",
              "  <svg xmlns=\"http://www.w3.org/2000/svg\" height=\"24px\"viewBox=\"0 0 24 24\"\n",
              "       width=\"24px\">\n",
              "    <path d=\"M0 0h24v24H0V0z\" fill=\"none\"/>\n",
              "    <path d=\"M18.56 5.44l.94 2.06.94-2.06 2.06-.94-2.06-.94-.94-2.06-.94 2.06-2.06.94zm-11 1L8.5 8.5l.94-2.06 2.06-.94-2.06-.94L8.5 2.5l-.94 2.06-2.06.94zm10 10l.94 2.06.94-2.06 2.06-.94-2.06-.94-.94-2.06-.94 2.06-2.06.94z\"/><path d=\"M17.41 7.96l-1.37-1.37c-.4-.4-.92-.59-1.43-.59-.52 0-1.04.2-1.43.59L10.3 9.45l-7.72 7.72c-.78.78-.78 2.05 0 2.83L4 21.41c.39.39.9.59 1.41.59.51 0 1.02-.2 1.41-.59l7.78-7.78 2.81-2.81c.8-.78.8-2.07 0-2.86zM5.41 20L4 18.59l7.72-7.72 1.47 1.35L5.41 20z\"/>\n",
              "  </svg>\n",
              "      </button>\n",
              "      \n",
              "  <style>\n",
              "    .colab-df-container {\n",
              "      display:flex;\n",
              "      flex-wrap:wrap;\n",
              "      gap: 12px;\n",
              "    }\n",
              "\n",
              "    .colab-df-convert {\n",
              "      background-color: #E8F0FE;\n",
              "      border: none;\n",
              "      border-radius: 50%;\n",
              "      cursor: pointer;\n",
              "      display: none;\n",
              "      fill: #1967D2;\n",
              "      height: 32px;\n",
              "      padding: 0 0 0 0;\n",
              "      width: 32px;\n",
              "    }\n",
              "\n",
              "    .colab-df-convert:hover {\n",
              "      background-color: #E2EBFA;\n",
              "      box-shadow: 0px 1px 2px rgba(60, 64, 67, 0.3), 0px 1px 3px 1px rgba(60, 64, 67, 0.15);\n",
              "      fill: #174EA6;\n",
              "    }\n",
              "\n",
              "    [theme=dark] .colab-df-convert {\n",
              "      background-color: #3B4455;\n",
              "      fill: #D2E3FC;\n",
              "    }\n",
              "\n",
              "    [theme=dark] .colab-df-convert:hover {\n",
              "      background-color: #434B5C;\n",
              "      box-shadow: 0px 1px 3px 1px rgba(0, 0, 0, 0.15);\n",
              "      filter: drop-shadow(0px 1px 2px rgba(0, 0, 0, 0.3));\n",
              "      fill: #FFFFFF;\n",
              "    }\n",
              "  </style>\n",
              "\n",
              "      <script>\n",
              "        const buttonEl =\n",
              "          document.querySelector('#df-fd88ba2c-10e0-489e-89fe-4a8ef7cae5a7 button.colab-df-convert');\n",
              "        buttonEl.style.display =\n",
              "          google.colab.kernel.accessAllowed ? 'block' : 'none';\n",
              "\n",
              "        async function convertToInteractive(key) {\n",
              "          const element = document.querySelector('#df-fd88ba2c-10e0-489e-89fe-4a8ef7cae5a7');\n",
              "          const dataTable =\n",
              "            await google.colab.kernel.invokeFunction('convertToInteractive',\n",
              "                                                     [key], {});\n",
              "          if (!dataTable) return;\n",
              "\n",
              "          const docLinkHtml = 'Like what you see? Visit the ' +\n",
              "            '<a target=\"_blank\" href=https://colab.research.google.com/notebooks/data_table.ipynb>data table notebook</a>'\n",
              "            + ' to learn more about interactive tables.';\n",
              "          element.innerHTML = '';\n",
              "          dataTable['output_type'] = 'display_data';\n",
              "          await google.colab.output.renderOutput(dataTable, element);\n",
              "          const docLink = document.createElement('div');\n",
              "          docLink.innerHTML = docLinkHtml;\n",
              "          element.appendChild(docLink);\n",
              "        }\n",
              "      </script>\n",
              "    </div>\n",
              "  </div>\n",
              "  "
            ]
          },
          "metadata": {},
          "execution_count": 26
        }
      ]
    },
    {
      "cell_type": "code",
      "source": [
        "df1.shape"
      ],
      "metadata": {
        "colab": {
          "base_uri": "https://localhost:8080/"
        },
        "id": "sz5lwJG1dKQE",
        "outputId": "3e3c87f0-5427-4114-d36a-e9aa59f757c3"
      },
      "execution_count": 27,
      "outputs": [
        {
          "output_type": "execute_result",
          "data": {
            "text/plain": [
              "(3, 3)"
            ]
          },
          "metadata": {},
          "execution_count": 27
        }
      ]
    },
    {
      "cell_type": "code",
      "source": [
        "df1.describe"
      ],
      "metadata": {
        "colab": {
          "base_uri": "https://localhost:8080/"
        },
        "id": "dvYh34O2dMQF",
        "outputId": "db8a59b3-b32a-44d9-8208-5930ab4288fb"
      },
      "execution_count": 28,
      "outputs": [
        {
          "output_type": "execute_result",
          "data": {
            "text/plain": [
              "<bound method NDFrame.describe of      name  age         occ\n",
              "a   Vinay   22    engineer\n",
              "b  Kushal   25      doctor\n",
              "c    Aman   24  accountant>"
            ]
          },
          "metadata": {},
          "execution_count": 28
        }
      ]
    },
    {
      "cell_type": "code",
      "source": [
        "from google.colab import files\n",
        "uploaded_file = files.upload()"
      ],
      "metadata": {
        "colab": {
          "resources": {
            "http://localhost:8080/nbextensions/google.colab/files.js": {
              "data": "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",
              "ok": true,
              "headers": [
                [
                  "content-type",
                  "application/javascript"
                ]
              ],
              "status": 200,
              "status_text": ""
            }
          },
          "base_uri": "https://localhost:8080/",
          "height": 73
        },
        "id": "gaSL7Ht5dN-U",
        "outputId": "63aa65c6-1981-40a7-86c0-05add68d1394"
      },
      "execution_count": 35,
      "outputs": [
        {
          "output_type": "display_data",
          "data": {
            "text/plain": [
              "<IPython.core.display.HTML object>"
            ],
            "text/html": [
              "\n",
              "     <input type=\"file\" id=\"files-665d86d6-b22d-4e43-9ce8-40c873dd1869\" name=\"files[]\" multiple disabled\n",
              "        style=\"border:none\" />\n",
              "     <output id=\"result-665d86d6-b22d-4e43-9ce8-40c873dd1869\">\n",
              "      Upload widget is only available when the cell has been executed in the\n",
              "      current browser session. Please rerun this cell to enable.\n",
              "      </output>\n",
              "      <script src=\"/nbextensions/google.colab/files.js\"></script> "
            ]
          },
          "metadata": {}
        },
        {
          "output_type": "stream",
          "name": "stdout",
          "text": [
            "Saving NetflixOriginals.csv to NetflixOriginals (1).csv\n"
          ]
        }
      ]
    },
    {
      "cell_type": "code",
      "source": [
        "import io\n",
        "df2 =pd.read_csv(io.BytesIO(uploaded_file[\"NetflixOriginals.csv\"]),encoding = \"ISO-8859-1\")"
      ],
      "metadata": {
        "id": "fY3pxP7edyfF"
      },
      "execution_count": 39,
      "outputs": []
    },
    {
      "cell_type": "code",
      "source": [
        "df2.head()"
      ],
      "metadata": {
        "colab": {
          "base_uri": "https://localhost:8080/",
          "height": 206
        },
        "id": "N_dpQ33veqcG",
        "outputId": "27d91c05-57f3-4657-c3d3-a96d1402612b"
      },
      "execution_count": 40,
      "outputs": [
        {
          "output_type": "execute_result",
          "data": {
            "text/plain": [
              "             Title                  Genre           Premiere  Runtime  \\\n",
              "0  Enter the Anime            Documentary     August 5, 2019       58   \n",
              "1      Dark Forces               Thriller    August 21, 2020       81   \n",
              "2          The App  Science fiction/Drama  December 26, 2019       79   \n",
              "3   The Open House        Horror thriller   January 19, 2018       94   \n",
              "4      Kaali Khuhi                Mystery   October 30, 2020       90   \n",
              "\n",
              "   IMDB Score          Language  \n",
              "0         2.5  English/Japanese  \n",
              "1         2.6           Spanish  \n",
              "2         2.6           Italian  \n",
              "3         3.2           English  \n",
              "4         3.4             Hindi  "
            ],
            "text/html": [
              "\n",
              "  <div id=\"df-bd3121a9-5306-46d9-bafa-dfa85d568b86\">\n",
              "    <div class=\"colab-df-container\">\n",
              "      <div>\n",
              "<style scoped>\n",
              "    .dataframe tbody tr th:only-of-type {\n",
              "        vertical-align: middle;\n",
              "    }\n",
              "\n",
              "    .dataframe tbody tr th {\n",
              "        vertical-align: top;\n",
              "    }\n",
              "\n",
              "    .dataframe thead th {\n",
              "        text-align: right;\n",
              "    }\n",
              "</style>\n",
              "<table border=\"1\" class=\"dataframe\">\n",
              "  <thead>\n",
              "    <tr style=\"text-align: right;\">\n",
              "      <th></th>\n",
              "      <th>Title</th>\n",
              "      <th>Genre</th>\n",
              "      <th>Premiere</th>\n",
              "      <th>Runtime</th>\n",
              "      <th>IMDB Score</th>\n",
              "      <th>Language</th>\n",
              "    </tr>\n",
              "  </thead>\n",
              "  <tbody>\n",
              "    <tr>\n",
              "      <th>0</th>\n",
              "      <td>Enter the Anime</td>\n",
              "      <td>Documentary</td>\n",
              "      <td>August 5, 2019</td>\n",
              "      <td>58</td>\n",
              "      <td>2.5</td>\n",
              "      <td>English/Japanese</td>\n",
              "    </tr>\n",
              "    <tr>\n",
              "      <th>1</th>\n",
              "      <td>Dark Forces</td>\n",
              "      <td>Thriller</td>\n",
              "      <td>August 21, 2020</td>\n",
              "      <td>81</td>\n",
              "      <td>2.6</td>\n",
              "      <td>Spanish</td>\n",
              "    </tr>\n",
              "    <tr>\n",
              "      <th>2</th>\n",
              "      <td>The App</td>\n",
              "      <td>Science fiction/Drama</td>\n",
              "      <td>December 26, 2019</td>\n",
              "      <td>79</td>\n",
              "      <td>2.6</td>\n",
              "      <td>Italian</td>\n",
              "    </tr>\n",
              "    <tr>\n",
              "      <th>3</th>\n",
              "      <td>The Open House</td>\n",
              "      <td>Horror thriller</td>\n",
              "      <td>January 19, 2018</td>\n",
              "      <td>94</td>\n",
              "      <td>3.2</td>\n",
              "      <td>English</td>\n",
              "    </tr>\n",
              "    <tr>\n",
              "      <th>4</th>\n",
              "      <td>Kaali Khuhi</td>\n",
              "      <td>Mystery</td>\n",
              "      <td>October 30, 2020</td>\n",
              "      <td>90</td>\n",
              "      <td>3.4</td>\n",
              "      <td>Hindi</td>\n",
              "    </tr>\n",
              "  </tbody>\n",
              "</table>\n",
              "</div>\n",
              "      <button class=\"colab-df-convert\" onclick=\"convertToInteractive('df-bd3121a9-5306-46d9-bafa-dfa85d568b86')\"\n",
              "              title=\"Convert this dataframe to an interactive table.\"\n",
              "              style=\"display:none;\">\n",
              "        \n",
              "  <svg xmlns=\"http://www.w3.org/2000/svg\" height=\"24px\"viewBox=\"0 0 24 24\"\n",
              "       width=\"24px\">\n",
              "    <path d=\"M0 0h24v24H0V0z\" fill=\"none\"/>\n",
              "    <path d=\"M18.56 5.44l.94 2.06.94-2.06 2.06-.94-2.06-.94-.94-2.06-.94 2.06-2.06.94zm-11 1L8.5 8.5l.94-2.06 2.06-.94-2.06-.94L8.5 2.5l-.94 2.06-2.06.94zm10 10l.94 2.06.94-2.06 2.06-.94-2.06-.94-.94-2.06-.94 2.06-2.06.94z\"/><path d=\"M17.41 7.96l-1.37-1.37c-.4-.4-.92-.59-1.43-.59-.52 0-1.04.2-1.43.59L10.3 9.45l-7.72 7.72c-.78.78-.78 2.05 0 2.83L4 21.41c.39.39.9.59 1.41.59.51 0 1.02-.2 1.41-.59l7.78-7.78 2.81-2.81c.8-.78.8-2.07 0-2.86zM5.41 20L4 18.59l7.72-7.72 1.47 1.35L5.41 20z\"/>\n",
              "  </svg>\n",
              "      </button>\n",
              "      \n",
              "  <style>\n",
              "    .colab-df-container {\n",
              "      display:flex;\n",
              "      flex-wrap:wrap;\n",
              "      gap: 12px;\n",
              "    }\n",
              "\n",
              "    .colab-df-convert {\n",
              "      background-color: #E8F0FE;\n",
              "      border: none;\n",
              "      border-radius: 50%;\n",
              "      cursor: pointer;\n",
              "      display: none;\n",
              "      fill: #1967D2;\n",
              "      height: 32px;\n",
              "      padding: 0 0 0 0;\n",
              "      width: 32px;\n",
              "    }\n",
              "\n",
              "    .colab-df-convert:hover {\n",
              "      background-color: #E2EBFA;\n",
              "      box-shadow: 0px 1px 2px rgba(60, 64, 67, 0.3), 0px 1px 3px 1px rgba(60, 64, 67, 0.15);\n",
              "      fill: #174EA6;\n",
              "    }\n",
              "\n",
              "    [theme=dark] .colab-df-convert {\n",
              "      background-color: #3B4455;\n",
              "      fill: #D2E3FC;\n",
              "    }\n",
              "\n",
              "    [theme=dark] .colab-df-convert:hover {\n",
              "      background-color: #434B5C;\n",
              "      box-shadow: 0px 1px 3px 1px rgba(0, 0, 0, 0.15);\n",
              "      filter: drop-shadow(0px 1px 2px rgba(0, 0, 0, 0.3));\n",
              "      fill: #FFFFFF;\n",
              "    }\n",
              "  </style>\n",
              "\n",
              "      <script>\n",
              "        const buttonEl =\n",
              "          document.querySelector('#df-bd3121a9-5306-46d9-bafa-dfa85d568b86 button.colab-df-convert');\n",
              "        buttonEl.style.display =\n",
              "          google.colab.kernel.accessAllowed ? 'block' : 'none';\n",
              "\n",
              "        async function convertToInteractive(key) {\n",
              "          const element = document.querySelector('#df-bd3121a9-5306-46d9-bafa-dfa85d568b86');\n",
              "          const dataTable =\n",
              "            await google.colab.kernel.invokeFunction('convertToInteractive',\n",
              "                                                     [key], {});\n",
              "          if (!dataTable) return;\n",
              "\n",
              "          const docLinkHtml = 'Like what you see? Visit the ' +\n",
              "            '<a target=\"_blank\" href=https://colab.research.google.com/notebooks/data_table.ipynb>data table notebook</a>'\n",
              "            + ' to learn more about interactive tables.';\n",
              "          element.innerHTML = '';\n",
              "          dataTable['output_type'] = 'display_data';\n",
              "          await google.colab.output.renderOutput(dataTable, element);\n",
              "          const docLink = document.createElement('div');\n",
              "          docLink.innerHTML = docLinkHtml;\n",
              "          element.appendChild(docLink);\n",
              "        }\n",
              "      </script>\n",
              "    </div>\n",
              "  </div>\n",
              "  "
            ]
          },
          "metadata": {},
          "execution_count": 40
        }
      ]
    },
    {
      "cell_type": "code",
      "source": [
        "t1 = df2[df2.Genre==\"Thriller\"]"
      ],
      "metadata": {
        "id": "Xnzyt2I1nn9M"
      },
      "execution_count": 43,
      "outputs": []
    },
    {
      "cell_type": "code",
      "source": [
        "t1.count()"
      ],
      "metadata": {
        "colab": {
          "base_uri": "https://localhost:8080/"
        },
        "id": "i0FAiDGGn-8c",
        "outputId": "7ed073a3-d527-47f4-e5d9-a92c60ec34a1"
      },
      "execution_count": 44,
      "outputs": [
        {
          "output_type": "execute_result",
          "data": {
            "text/plain": [
              "Title         33\n",
              "Genre         33\n",
              "Premiere      33\n",
              "Runtime       33\n",
              "IMDB Score    33\n",
              "Language      33\n",
              "dtype: int64"
            ]
          },
          "metadata": {},
          "execution_count": 44
        }
      ]
    },
    {
      "cell_type": "code",
      "source": [
        "print(df2.isnull().count())\n",
        "print()\n",
        "print(df2.isnull().sum())"
      ],
      "metadata": {
        "colab": {
          "base_uri": "https://localhost:8080/"
        },
        "id": "-J9QAfyUoHhc",
        "outputId": "ffc53798-cf64-4e1a-8381-6a379aae9c99"
      },
      "execution_count": 49,
      "outputs": [
        {
          "output_type": "stream",
          "name": "stdout",
          "text": [
            "Title         584\n",
            "Genre         584\n",
            "Premiere      584\n",
            "Runtime       584\n",
            "IMDB Score    584\n",
            "Language      584\n",
            "dtype: int64\n",
            "\n",
            "Title         0\n",
            "Genre         0\n",
            "Premiere      0\n",
            "Runtime       0\n",
            "IMDB Score    0\n",
            "Language      0\n",
            "dtype: int64\n"
          ]
        }
      ]
    },
    {
      "cell_type": "code",
      "source": [
        "t1 = df2.notnull().sum()\n",
        "t2 = df2.isnull().sum()\n",
        "print(t2-t1)"
      ],
      "metadata": {
        "colab": {
          "base_uri": "https://localhost:8080/"
        },
        "id": "ARNWAVdAoL_s",
        "outputId": "579af9ac-244f-4779-8efe-67563c58f646"
      },
      "execution_count": 53,
      "outputs": [
        {
          "output_type": "stream",
          "name": "stdout",
          "text": [
            "Title        -584\n",
            "Genre        -584\n",
            "Premiere     -584\n",
            "Runtime      -584\n",
            "IMDB Score   -584\n",
            "Language     -584\n",
            "dtype: int64\n"
          ]
        }
      ]
    },
    {
      "cell_type": "code",
      "source": [
        "df2.columns"
      ],
      "metadata": {
        "colab": {
          "base_uri": "https://localhost:8080/"
        },
        "id": "9dynBU0JogME",
        "outputId": "9f9106ef-8bfd-4d88-a675-159384c59492"
      },
      "execution_count": 54,
      "outputs": [
        {
          "output_type": "execute_result",
          "data": {
            "text/plain": [
              "Index(['Title', 'Genre', 'Premiere', 'Runtime', 'IMDB Score', 'Language'], dtype='object')"
            ]
          },
          "metadata": {},
          "execution_count": 54
        }
      ]
    },
    {
      "cell_type": "code",
      "source": [
        "t3 = df2[df2[\"IMDB Score\"]>8]\n",
        "t3.head(5)"
      ],
      "metadata": {
        "colab": {
          "base_uri": "https://localhost:8080/",
          "height": 206
        },
        "id": "bxoGXdE0o7UM",
        "outputId": "b358a551-a924-43fd-99ba-4861e0534491"
      },
      "execution_count": 59,
      "outputs": [
        {
          "output_type": "execute_result",
          "data": {
            "text/plain": [
              "                                 Title        Genre           Premiere  \\\n",
              "568                     Chasing Coral   Documentary      July 14, 2017   \n",
              "569                 My Octopus Teacher  Documentary  September 7, 2020   \n",
              "570                     Rising Phoenix  Documentary    August 26, 2020   \n",
              "571                               13th  Documentary    October 7, 2016   \n",
              "572  Disclosure: Trans Lives on Screen  Documentary      June 19, 2020   \n",
              "\n",
              "     Runtime  IMDB Score Language  \n",
              "568       89         8.1  English  \n",
              "569       85         8.1  English  \n",
              "570      106         8.1  English  \n",
              "571      100         8.2  English  \n",
              "572      107         8.2  English  "
            ],
            "text/html": [
              "\n",
              "  <div id=\"df-e110f6c3-75c0-42c7-907b-c1e82e124011\">\n",
              "    <div class=\"colab-df-container\">\n",
              "      <div>\n",
              "<style scoped>\n",
              "    .dataframe tbody tr th:only-of-type {\n",
              "        vertical-align: middle;\n",
              "    }\n",
              "\n",
              "    .dataframe tbody tr th {\n",
              "        vertical-align: top;\n",
              "    }\n",
              "\n",
              "    .dataframe thead th {\n",
              "        text-align: right;\n",
              "    }\n",
              "</style>\n",
              "<table border=\"1\" class=\"dataframe\">\n",
              "  <thead>\n",
              "    <tr style=\"text-align: right;\">\n",
              "      <th></th>\n",
              "      <th>Title</th>\n",
              "      <th>Genre</th>\n",
              "      <th>Premiere</th>\n",
              "      <th>Runtime</th>\n",
              "      <th>IMDB Score</th>\n",
              "      <th>Language</th>\n",
              "    </tr>\n",
              "  </thead>\n",
              "  <tbody>\n",
              "    <tr>\n",
              "      <th>568</th>\n",
              "      <td>Chasing Coral</td>\n",
              "      <td>Documentary</td>\n",
              "      <td>July 14, 2017</td>\n",
              "      <td>89</td>\n",
              "      <td>8.1</td>\n",
              "      <td>English</td>\n",
              "    </tr>\n",
              "    <tr>\n",
              "      <th>569</th>\n",
              "      <td>My Octopus Teacher</td>\n",
              "      <td>Documentary</td>\n",
              "      <td>September 7, 2020</td>\n",
              "      <td>85</td>\n",
              "      <td>8.1</td>\n",
              "      <td>English</td>\n",
              "    </tr>\n",
              "    <tr>\n",
              "      <th>570</th>\n",
              "      <td>Rising Phoenix</td>\n",
              "      <td>Documentary</td>\n",
              "      <td>August 26, 2020</td>\n",
              "      <td>106</td>\n",
              "      <td>8.1</td>\n",
              "      <td>English</td>\n",
              "    </tr>\n",
              "    <tr>\n",
              "      <th>571</th>\n",
              "      <td>13th</td>\n",
              "      <td>Documentary</td>\n",
              "      <td>October 7, 2016</td>\n",
              "      <td>100</td>\n",
              "      <td>8.2</td>\n",
              "      <td>English</td>\n",
              "    </tr>\n",
              "    <tr>\n",
              "      <th>572</th>\n",
              "      <td>Disclosure: Trans Lives on Screen</td>\n",
              "      <td>Documentary</td>\n",
              "      <td>June 19, 2020</td>\n",
              "      <td>107</td>\n",
              "      <td>8.2</td>\n",
              "      <td>English</td>\n",
              "    </tr>\n",
              "  </tbody>\n",
              "</table>\n",
              "</div>\n",
              "      <button class=\"colab-df-convert\" onclick=\"convertToInteractive('df-e110f6c3-75c0-42c7-907b-c1e82e124011')\"\n",
              "              title=\"Convert this dataframe to an interactive table.\"\n",
              "              style=\"display:none;\">\n",
              "        \n",
              "  <svg xmlns=\"http://www.w3.org/2000/svg\" height=\"24px\"viewBox=\"0 0 24 24\"\n",
              "       width=\"24px\">\n",
              "    <path d=\"M0 0h24v24H0V0z\" fill=\"none\"/>\n",
              "    <path d=\"M18.56 5.44l.94 2.06.94-2.06 2.06-.94-2.06-.94-.94-2.06-.94 2.06-2.06.94zm-11 1L8.5 8.5l.94-2.06 2.06-.94-2.06-.94L8.5 2.5l-.94 2.06-2.06.94zm10 10l.94 2.06.94-2.06 2.06-.94-2.06-.94-.94-2.06-.94 2.06-2.06.94z\"/><path d=\"M17.41 7.96l-1.37-1.37c-.4-.4-.92-.59-1.43-.59-.52 0-1.04.2-1.43.59L10.3 9.45l-7.72 7.72c-.78.78-.78 2.05 0 2.83L4 21.41c.39.39.9.59 1.41.59.51 0 1.02-.2 1.41-.59l7.78-7.78 2.81-2.81c.8-.78.8-2.07 0-2.86zM5.41 20L4 18.59l7.72-7.72 1.47 1.35L5.41 20z\"/>\n",
              "  </svg>\n",
              "      </button>\n",
              "      \n",
              "  <style>\n",
              "    .colab-df-container {\n",
              "      display:flex;\n",
              "      flex-wrap:wrap;\n",
              "      gap: 12px;\n",
              "    }\n",
              "\n",
              "    .colab-df-convert {\n",
              "      background-color: #E8F0FE;\n",
              "      border: none;\n",
              "      border-radius: 50%;\n",
              "      cursor: pointer;\n",
              "      display: none;\n",
              "      fill: #1967D2;\n",
              "      height: 32px;\n",
              "      padding: 0 0 0 0;\n",
              "      width: 32px;\n",
              "    }\n",
              "\n",
              "    .colab-df-convert:hover {\n",
              "      background-color: #E2EBFA;\n",
              "      box-shadow: 0px 1px 2px rgba(60, 64, 67, 0.3), 0px 1px 3px 1px rgba(60, 64, 67, 0.15);\n",
              "      fill: #174EA6;\n",
              "    }\n",
              "\n",
              "    [theme=dark] .colab-df-convert {\n",
              "      background-color: #3B4455;\n",
              "      fill: #D2E3FC;\n",
              "    }\n",
              "\n",
              "    [theme=dark] .colab-df-convert:hover {\n",
              "      background-color: #434B5C;\n",
              "      box-shadow: 0px 1px 3px 1px rgba(0, 0, 0, 0.15);\n",
              "      filter: drop-shadow(0px 1px 2px rgba(0, 0, 0, 0.3));\n",
              "      fill: #FFFFFF;\n",
              "    }\n",
              "  </style>\n",
              "\n",
              "      <script>\n",
              "        const buttonEl =\n",
              "          document.querySelector('#df-e110f6c3-75c0-42c7-907b-c1e82e124011 button.colab-df-convert');\n",
              "        buttonEl.style.display =\n",
              "          google.colab.kernel.accessAllowed ? 'block' : 'none';\n",
              "\n",
              "        async function convertToInteractive(key) {\n",
              "          const element = document.querySelector('#df-e110f6c3-75c0-42c7-907b-c1e82e124011');\n",
              "          const dataTable =\n",
              "            await google.colab.kernel.invokeFunction('convertToInteractive',\n",
              "                                                     [key], {});\n",
              "          if (!dataTable) return;\n",
              "\n",
              "          const docLinkHtml = 'Like what you see? Visit the ' +\n",
              "            '<a target=\"_blank\" href=https://colab.research.google.com/notebooks/data_table.ipynb>data table notebook</a>'\n",
              "            + ' to learn more about interactive tables.';\n",
              "          element.innerHTML = '';\n",
              "          dataTable['output_type'] = 'display_data';\n",
              "          await google.colab.output.renderOutput(dataTable, element);\n",
              "          const docLink = document.createElement('div');\n",
              "          docLink.innerHTML = docLinkHtml;\n",
              "          element.appendChild(docLink);\n",
              "        }\n",
              "      </script>\n",
              "    </div>\n",
              "  </div>\n",
              "  "
            ]
          },
          "metadata": {},
          "execution_count": 59
        }
      ]
    },
    {
      "cell_type": "code",
      "source": [
        "t4 = df2[df2[\"Premiere\"] > \"01-01-2016\"]\n",
        "t4"
      ],
      "metadata": {
        "colab": {
          "base_uri": "https://localhost:8080/",
          "height": 589
        },
        "id": "ewXejyBcsp28",
        "outputId": "df0ca27f-95a4-43f2-e389-24ef39a82991"
      },
      "execution_count": 63,
      "outputs": [
        {
          "output_type": "execute_result",
          "data": {
            "text/plain": [
              "                                           Title                  Genre  \\\n",
              "0                                Enter the Anime            Documentary   \n",
              "1                                    Dark Forces               Thriller   \n",
              "2                                        The App  Science fiction/Drama   \n",
              "3                                 The Open House        Horror thriller   \n",
              "4                                    Kaali Khuhi                Mystery   \n",
              "..                                           ...                    ...   \n",
              "579        Taylor Swift: Reputation Stadium Tour           Concert Film   \n",
              "580  Winter on Fire: Ukraine's Fight for Freedom            Documentary   \n",
              "581                      Springsteen on Broadway           One-man show   \n",
              "582    Emicida: AmarElo - It's All For Yesterday            Documentary   \n",
              "583     David Attenborough: A Life on Our Planet            Documentary   \n",
              "\n",
              "              Premiere  Runtime  IMDB Score                  Language  \n",
              "0       August 5, 2019       58         2.5          English/Japanese  \n",
              "1      August 21, 2020       81         2.6                   Spanish  \n",
              "2    December 26, 2019       79         2.6                   Italian  \n",
              "3     January 19, 2018       94         3.2                   English  \n",
              "4     October 30, 2020       90         3.4                     Hindi  \n",
              "..                 ...      ...         ...                       ...  \n",
              "579  December 31, 2018      125         8.4                   English  \n",
              "580    October 9, 2015       91         8.4  English/Ukranian/Russian  \n",
              "581  December 16, 2018      153         8.5                   English  \n",
              "582   December 8, 2020       89         8.6                Portuguese  \n",
              "583    October 4, 2020       83         9.0                   English  \n",
              "\n",
              "[584 rows x 6 columns]"
            ],
            "text/html": [
              "\n",
              "  <div id=\"df-53f67d33-4d03-46fc-acfd-01fa25062c5f\">\n",
              "    <div class=\"colab-df-container\">\n",
              "      <div>\n",
              "<style scoped>\n",
              "    .dataframe tbody tr th:only-of-type {\n",
              "        vertical-align: middle;\n",
              "    }\n",
              "\n",
              "    .dataframe tbody tr th {\n",
              "        vertical-align: top;\n",
              "    }\n",
              "\n",
              "    .dataframe thead th {\n",
              "        text-align: right;\n",
              "    }\n",
              "</style>\n",
              "<table border=\"1\" class=\"dataframe\">\n",
              "  <thead>\n",
              "    <tr style=\"text-align: right;\">\n",
              "      <th></th>\n",
              "      <th>Title</th>\n",
              "      <th>Genre</th>\n",
              "      <th>Premiere</th>\n",
              "      <th>Runtime</th>\n",
              "      <th>IMDB Score</th>\n",
              "      <th>Language</th>\n",
              "    </tr>\n",
              "  </thead>\n",
              "  <tbody>\n",
              "    <tr>\n",
              "      <th>0</th>\n",
              "      <td>Enter the Anime</td>\n",
              "      <td>Documentary</td>\n",
              "      <td>August 5, 2019</td>\n",
              "      <td>58</td>\n",
              "      <td>2.5</td>\n",
              "      <td>English/Japanese</td>\n",
              "    </tr>\n",
              "    <tr>\n",
              "      <th>1</th>\n",
              "      <td>Dark Forces</td>\n",
              "      <td>Thriller</td>\n",
              "      <td>August 21, 2020</td>\n",
              "      <td>81</td>\n",
              "      <td>2.6</td>\n",
              "      <td>Spanish</td>\n",
              "    </tr>\n",
              "    <tr>\n",
              "      <th>2</th>\n",
              "      <td>The App</td>\n",
              "      <td>Science fiction/Drama</td>\n",
              "      <td>December 26, 2019</td>\n",
              "      <td>79</td>\n",
              "      <td>2.6</td>\n",
              "      <td>Italian</td>\n",
              "    </tr>\n",
              "    <tr>\n",
              "      <th>3</th>\n",
              "      <td>The Open House</td>\n",
              "      <td>Horror thriller</td>\n",
              "      <td>January 19, 2018</td>\n",
              "      <td>94</td>\n",
              "      <td>3.2</td>\n",
              "      <td>English</td>\n",
              "    </tr>\n",
              "    <tr>\n",
              "      <th>4</th>\n",
              "      <td>Kaali Khuhi</td>\n",
              "      <td>Mystery</td>\n",
              "      <td>October 30, 2020</td>\n",
              "      <td>90</td>\n",
              "      <td>3.4</td>\n",
              "      <td>Hindi</td>\n",
              "    </tr>\n",
              "    <tr>\n",
              "      <th>...</th>\n",
              "      <td>...</td>\n",
              "      <td>...</td>\n",
              "      <td>...</td>\n",
              "      <td>...</td>\n",
              "      <td>...</td>\n",
              "      <td>...</td>\n",
              "    </tr>\n",
              "    <tr>\n",
              "      <th>579</th>\n",
              "      <td>Taylor Swift: Reputation Stadium Tour</td>\n",
              "      <td>Concert Film</td>\n",
              "      <td>December 31, 2018</td>\n",
              "      <td>125</td>\n",
              "      <td>8.4</td>\n",
              "      <td>English</td>\n",
              "    </tr>\n",
              "    <tr>\n",
              "      <th>580</th>\n",
              "      <td>Winter on Fire: Ukraine's Fight for Freedom</td>\n",
              "      <td>Documentary</td>\n",
              "      <td>October 9, 2015</td>\n",
              "      <td>91</td>\n",
              "      <td>8.4</td>\n",
              "      <td>English/Ukranian/Russian</td>\n",
              "    </tr>\n",
              "    <tr>\n",
              "      <th>581</th>\n",
              "      <td>Springsteen on Broadway</td>\n",
              "      <td>One-man show</td>\n",
              "      <td>December 16, 2018</td>\n",
              "      <td>153</td>\n",
              "      <td>8.5</td>\n",
              "      <td>English</td>\n",
              "    </tr>\n",
              "    <tr>\n",
              "      <th>582</th>\n",
              "      <td>Emicida: AmarElo - It's All For Yesterday</td>\n",
              "      <td>Documentary</td>\n",
              "      <td>December 8, 2020</td>\n",
              "      <td>89</td>\n",
              "      <td>8.6</td>\n",
              "      <td>Portuguese</td>\n",
              "    </tr>\n",
              "    <tr>\n",
              "      <th>583</th>\n",
              "      <td>David Attenborough: A Life on Our Planet</td>\n",
              "      <td>Documentary</td>\n",
              "      <td>October 4, 2020</td>\n",
              "      <td>83</td>\n",
              "      <td>9.0</td>\n",
              "      <td>English</td>\n",
              "    </tr>\n",
              "  </tbody>\n",
              "</table>\n",
              "<p>584 rows × 6 columns</p>\n",
              "</div>\n",
              "      <button class=\"colab-df-convert\" onclick=\"convertToInteractive('df-53f67d33-4d03-46fc-acfd-01fa25062c5f')\"\n",
              "              title=\"Convert this dataframe to an interactive table.\"\n",
              "              style=\"display:none;\">\n",
              "        \n",
              "  <svg xmlns=\"http://www.w3.org/2000/svg\" height=\"24px\"viewBox=\"0 0 24 24\"\n",
              "       width=\"24px\">\n",
              "    <path d=\"M0 0h24v24H0V0z\" fill=\"none\"/>\n",
              "    <path d=\"M18.56 5.44l.94 2.06.94-2.06 2.06-.94-2.06-.94-.94-2.06-.94 2.06-2.06.94zm-11 1L8.5 8.5l.94-2.06 2.06-.94-2.06-.94L8.5 2.5l-.94 2.06-2.06.94zm10 10l.94 2.06.94-2.06 2.06-.94-2.06-.94-.94-2.06-.94 2.06-2.06.94z\"/><path d=\"M17.41 7.96l-1.37-1.37c-.4-.4-.92-.59-1.43-.59-.52 0-1.04.2-1.43.59L10.3 9.45l-7.72 7.72c-.78.78-.78 2.05 0 2.83L4 21.41c.39.39.9.59 1.41.59.51 0 1.02-.2 1.41-.59l7.78-7.78 2.81-2.81c.8-.78.8-2.07 0-2.86zM5.41 20L4 18.59l7.72-7.72 1.47 1.35L5.41 20z\"/>\n",
              "  </svg>\n",
              "      </button>\n",
              "      \n",
              "  <style>\n",
              "    .colab-df-container {\n",
              "      display:flex;\n",
              "      flex-wrap:wrap;\n",
              "      gap: 12px;\n",
              "    }\n",
              "\n",
              "    .colab-df-convert {\n",
              "      background-color: #E8F0FE;\n",
              "      border: none;\n",
              "      border-radius: 50%;\n",
              "      cursor: pointer;\n",
              "      display: none;\n",
              "      fill: #1967D2;\n",
              "      height: 32px;\n",
              "      padding: 0 0 0 0;\n",
              "      width: 32px;\n",
              "    }\n",
              "\n",
              "    .colab-df-convert:hover {\n",
              "      background-color: #E2EBFA;\n",
              "      box-shadow: 0px 1px 2px rgba(60, 64, 67, 0.3), 0px 1px 3px 1px rgba(60, 64, 67, 0.15);\n",
              "      fill: #174EA6;\n",
              "    }\n",
              "\n",
              "    [theme=dark] .colab-df-convert {\n",
              "      background-color: #3B4455;\n",
              "      fill: #D2E3FC;\n",
              "    }\n",
              "\n",
              "    [theme=dark] .colab-df-convert:hover {\n",
              "      background-color: #434B5C;\n",
              "      box-shadow: 0px 1px 3px 1px rgba(0, 0, 0, 0.15);\n",
              "      filter: drop-shadow(0px 1px 2px rgba(0, 0, 0, 0.3));\n",
              "      fill: #FFFFFF;\n",
              "    }\n",
              "  </style>\n",
              "\n",
              "      <script>\n",
              "        const buttonEl =\n",
              "          document.querySelector('#df-53f67d33-4d03-46fc-acfd-01fa25062c5f button.colab-df-convert');\n",
              "        buttonEl.style.display =\n",
              "          google.colab.kernel.accessAllowed ? 'block' : 'none';\n",
              "\n",
              "        async function convertToInteractive(key) {\n",
              "          const element = document.querySelector('#df-53f67d33-4d03-46fc-acfd-01fa25062c5f');\n",
              "          const dataTable =\n",
              "            await google.colab.kernel.invokeFunction('convertToInteractive',\n",
              "                                                     [key], {});\n",
              "          if (!dataTable) return;\n",
              "\n",
              "          const docLinkHtml = 'Like what you see? Visit the ' +\n",
              "            '<a target=\"_blank\" href=https://colab.research.google.com/notebooks/data_table.ipynb>data table notebook</a>'\n",
              "            + ' to learn more about interactive tables.';\n",
              "          element.innerHTML = '';\n",
              "          dataTable['output_type'] = 'display_data';\n",
              "          await google.colab.output.renderOutput(dataTable, element);\n",
              "          const docLink = document.createElement('div');\n",
              "          docLink.innerHTML = docLinkHtml;\n",
              "          element.appendChild(docLink);\n",
              "        }\n",
              "      </script>\n",
              "    </div>\n",
              "  </div>\n",
              "  "
            ]
          },
          "metadata": {},
          "execution_count": 63
        }
      ]
    },
    {
      "cell_type": "code",
      "source": [
        "t5 = (t3 & t4)\n",
        "print(t5)"
      ],
      "metadata": {
        "colab": {
          "base_uri": "https://localhost:8080/",
          "height": 372
        },
        "id": "iGLNdPZotHHM",
        "outputId": "ab9117d5-8ecd-4b04-9864-58449f655268"
      },
      "execution_count": 65,
      "outputs": [
        {
          "output_type": "error",
          "ename": "TypeError",
          "evalue": "ignored",
          "traceback": [
            "\u001b[0;31m---------------------------------------------------------------------------\u001b[0m",
            "\u001b[0;31mTypeError\u001b[0m                                 Traceback (most recent call last)",
            "\u001b[0;32m/usr/local/lib/python3.7/dist-packages/pandas/core/ops/array_ops.py\u001b[0m in \u001b[0;36mna_logical_op\u001b[0;34m(x, y, op)\u001b[0m\n\u001b[1;32m    301\u001b[0m         \u001b[0;31m#  (xint or xbool) and (yint or bool)\u001b[0m\u001b[0;34m\u001b[0m\u001b[0;34m\u001b[0m\u001b[0;34m\u001b[0m\u001b[0m\n\u001b[0;32m--> 302\u001b[0;31m         \u001b[0mresult\u001b[0m \u001b[0;34m=\u001b[0m \u001b[0mop\u001b[0m\u001b[0;34m(\u001b[0m\u001b[0mx\u001b[0m\u001b[0;34m,\u001b[0m \u001b[0my\u001b[0m\u001b[0;34m)\u001b[0m\u001b[0;34m\u001b[0m\u001b[0;34m\u001b[0m\u001b[0m\n\u001b[0m\u001b[1;32m    303\u001b[0m     \u001b[0;32mexcept\u001b[0m \u001b[0mTypeError\u001b[0m\u001b[0;34m:\u001b[0m\u001b[0;34m\u001b[0m\u001b[0;34m\u001b[0m\u001b[0m\n",
            "\u001b[0;31mTypeError\u001b[0m: ufunc 'bitwise_and' not supported for the input types, and the inputs could not be safely coerced to any supported types according to the casting rule ''safe''",
            "\nDuring handling of the above exception, another exception occurred:\n",
            "\u001b[0;31mTypeError\u001b[0m                                 Traceback (most recent call last)",
            "\u001b[0;32m<ipython-input-65-d9266160e3a4>\u001b[0m in \u001b[0;36m<module>\u001b[0;34m()\u001b[0m\n\u001b[0;32m----> 1\u001b[0;31m \u001b[0mt5\u001b[0m \u001b[0;34m=\u001b[0m \u001b[0;34m(\u001b[0m\u001b[0mt3\u001b[0m \u001b[0;34m&\u001b[0m \u001b[0mt4\u001b[0m\u001b[0;34m)\u001b[0m\u001b[0;34m\u001b[0m\u001b[0;34m\u001b[0m\u001b[0m\n\u001b[0m\u001b[1;32m      2\u001b[0m \u001b[0mprint\u001b[0m\u001b[0;34m(\u001b[0m\u001b[0mt5\u001b[0m\u001b[0;34m)\u001b[0m\u001b[0;34m\u001b[0m\u001b[0;34m\u001b[0m\u001b[0m\n",
            "\u001b[0;32m/usr/local/lib/python3.7/dist-packages/pandas/core/ops/common.py\u001b[0m in \u001b[0;36mnew_method\u001b[0;34m(self, other)\u001b[0m\n\u001b[1;32m     67\u001b[0m         \u001b[0mother\u001b[0m \u001b[0;34m=\u001b[0m \u001b[0mitem_from_zerodim\u001b[0m\u001b[0;34m(\u001b[0m\u001b[0mother\u001b[0m\u001b[0;34m)\u001b[0m\u001b[0;34m\u001b[0m\u001b[0;34m\u001b[0m\u001b[0m\n\u001b[1;32m     68\u001b[0m \u001b[0;34m\u001b[0m\u001b[0m\n\u001b[0;32m---> 69\u001b[0;31m         \u001b[0;32mreturn\u001b[0m \u001b[0mmethod\u001b[0m\u001b[0;34m(\u001b[0m\u001b[0mself\u001b[0m\u001b[0;34m,\u001b[0m \u001b[0mother\u001b[0m\u001b[0;34m)\u001b[0m\u001b[0;34m\u001b[0m\u001b[0;34m\u001b[0m\u001b[0m\n\u001b[0m\u001b[1;32m     70\u001b[0m \u001b[0;34m\u001b[0m\u001b[0m\n\u001b[1;32m     71\u001b[0m     \u001b[0;32mreturn\u001b[0m \u001b[0mnew_method\u001b[0m\u001b[0;34m\u001b[0m\u001b[0;34m\u001b[0m\u001b[0m\n",
            "\u001b[0;32m/usr/local/lib/python3.7/dist-packages/pandas/core/arraylike.py\u001b[0m in \u001b[0;36m__and__\u001b[0;34m(self, other)\u001b[0m\n\u001b[1;32m     60\u001b[0m     \u001b[0;34m@\u001b[0m\u001b[0munpack_zerodim_and_defer\u001b[0m\u001b[0;34m(\u001b[0m\u001b[0;34m\"__and__\"\u001b[0m\u001b[0;34m)\u001b[0m\u001b[0;34m\u001b[0m\u001b[0;34m\u001b[0m\u001b[0m\n\u001b[1;32m     61\u001b[0m     \u001b[0;32mdef\u001b[0m \u001b[0m__and__\u001b[0m\u001b[0;34m(\u001b[0m\u001b[0mself\u001b[0m\u001b[0;34m,\u001b[0m \u001b[0mother\u001b[0m\u001b[0;34m)\u001b[0m\u001b[0;34m:\u001b[0m\u001b[0;34m\u001b[0m\u001b[0;34m\u001b[0m\u001b[0m\n\u001b[0;32m---> 62\u001b[0;31m         \u001b[0;32mreturn\u001b[0m \u001b[0mself\u001b[0m\u001b[0;34m.\u001b[0m\u001b[0m_logical_method\u001b[0m\u001b[0;34m(\u001b[0m\u001b[0mother\u001b[0m\u001b[0;34m,\u001b[0m \u001b[0moperator\u001b[0m\u001b[0;34m.\u001b[0m\u001b[0mand_\u001b[0m\u001b[0;34m)\u001b[0m\u001b[0;34m\u001b[0m\u001b[0;34m\u001b[0m\u001b[0m\n\u001b[0m\u001b[1;32m     63\u001b[0m \u001b[0;34m\u001b[0m\u001b[0m\n\u001b[1;32m     64\u001b[0m     \u001b[0;34m@\u001b[0m\u001b[0munpack_zerodim_and_defer\u001b[0m\u001b[0;34m(\u001b[0m\u001b[0;34m\"__rand__\"\u001b[0m\u001b[0;34m)\u001b[0m\u001b[0;34m\u001b[0m\u001b[0;34m\u001b[0m\u001b[0m\n",
            "\u001b[0;32m/usr/local/lib/python3.7/dist-packages/pandas/core/frame.py\u001b[0m in \u001b[0;36m_arith_method\u001b[0;34m(self, other, op)\u001b[0m\n\u001b[1;32m   6864\u001b[0m         \u001b[0mself\u001b[0m\u001b[0;34m,\u001b[0m \u001b[0mother\u001b[0m \u001b[0;34m=\u001b[0m \u001b[0mops\u001b[0m\u001b[0;34m.\u001b[0m\u001b[0malign_method_FRAME\u001b[0m\u001b[0;34m(\u001b[0m\u001b[0mself\u001b[0m\u001b[0;34m,\u001b[0m \u001b[0mother\u001b[0m\u001b[0;34m,\u001b[0m \u001b[0maxis\u001b[0m\u001b[0;34m,\u001b[0m \u001b[0mflex\u001b[0m\u001b[0;34m=\u001b[0m\u001b[0;32mTrue\u001b[0m\u001b[0;34m,\u001b[0m \u001b[0mlevel\u001b[0m\u001b[0;34m=\u001b[0m\u001b[0;32mNone\u001b[0m\u001b[0;34m)\u001b[0m\u001b[0;34m\u001b[0m\u001b[0;34m\u001b[0m\u001b[0m\n\u001b[1;32m   6865\u001b[0m \u001b[0;34m\u001b[0m\u001b[0m\n\u001b[0;32m-> 6866\u001b[0;31m         \u001b[0mnew_data\u001b[0m \u001b[0;34m=\u001b[0m \u001b[0mself\u001b[0m\u001b[0;34m.\u001b[0m\u001b[0m_dispatch_frame_op\u001b[0m\u001b[0;34m(\u001b[0m\u001b[0mother\u001b[0m\u001b[0;34m,\u001b[0m \u001b[0mop\u001b[0m\u001b[0;34m,\u001b[0m \u001b[0maxis\u001b[0m\u001b[0;34m=\u001b[0m\u001b[0maxis\u001b[0m\u001b[0;34m)\u001b[0m\u001b[0;34m\u001b[0m\u001b[0;34m\u001b[0m\u001b[0m\n\u001b[0m\u001b[1;32m   6867\u001b[0m         \u001b[0;32mreturn\u001b[0m \u001b[0mself\u001b[0m\u001b[0;34m.\u001b[0m\u001b[0m_construct_result\u001b[0m\u001b[0;34m(\u001b[0m\u001b[0mnew_data\u001b[0m\u001b[0;34m)\u001b[0m\u001b[0;34m\u001b[0m\u001b[0;34m\u001b[0m\u001b[0m\n\u001b[1;32m   6868\u001b[0m \u001b[0;34m\u001b[0m\u001b[0m\n",
            "\u001b[0;32m/usr/local/lib/python3.7/dist-packages/pandas/core/frame.py\u001b[0m in \u001b[0;36m_dispatch_frame_op\u001b[0;34m(self, right, func, axis)\u001b[0m\n\u001b[1;32m   6911\u001b[0m                     \u001b[0;31m# \"BlockManager\"\u001b[0m\u001b[0;34m\u001b[0m\u001b[0;34m\u001b[0m\u001b[0;34m\u001b[0m\u001b[0m\n\u001b[1;32m   6912\u001b[0m                     \u001b[0mright\u001b[0m\u001b[0;34m.\u001b[0m\u001b[0m_mgr\u001b[0m\u001b[0;34m,\u001b[0m  \u001b[0;31m# type: ignore[arg-type]\u001b[0m\u001b[0;34m\u001b[0m\u001b[0;34m\u001b[0m\u001b[0m\n\u001b[0;32m-> 6913\u001b[0;31m                     \u001b[0marray_op\u001b[0m\u001b[0;34m,\u001b[0m\u001b[0;34m\u001b[0m\u001b[0;34m\u001b[0m\u001b[0m\n\u001b[0m\u001b[1;32m   6914\u001b[0m                 )\n\u001b[1;32m   6915\u001b[0m             \u001b[0;32mreturn\u001b[0m \u001b[0mtype\u001b[0m\u001b[0;34m(\u001b[0m\u001b[0mself\u001b[0m\u001b[0;34m)\u001b[0m\u001b[0;34m(\u001b[0m\u001b[0mbm\u001b[0m\u001b[0;34m)\u001b[0m\u001b[0;34m\u001b[0m\u001b[0;34m\u001b[0m\u001b[0m\n",
            "\u001b[0;32m/usr/local/lib/python3.7/dist-packages/pandas/core/internals/managers.py\u001b[0m in \u001b[0;36moperate_blockwise\u001b[0;34m(self, other, array_op)\u001b[0m\n\u001b[1;32m   1301\u001b[0m         \u001b[0mApply\u001b[0m \u001b[0marray_op\u001b[0m \u001b[0mblockwise\u001b[0m \u001b[0;32mwith\u001b[0m \u001b[0manother\u001b[0m \u001b[0;34m(\u001b[0m\u001b[0maligned\u001b[0m\u001b[0;34m)\u001b[0m \u001b[0mBlockManager\u001b[0m\u001b[0;34m.\u001b[0m\u001b[0;34m\u001b[0m\u001b[0;34m\u001b[0m\u001b[0m\n\u001b[1;32m   1302\u001b[0m         \"\"\"\n\u001b[0;32m-> 1303\u001b[0;31m         \u001b[0;32mreturn\u001b[0m \u001b[0moperate_blockwise\u001b[0m\u001b[0;34m(\u001b[0m\u001b[0mself\u001b[0m\u001b[0;34m,\u001b[0m \u001b[0mother\u001b[0m\u001b[0;34m,\u001b[0m \u001b[0marray_op\u001b[0m\u001b[0;34m)\u001b[0m\u001b[0;34m\u001b[0m\u001b[0;34m\u001b[0m\u001b[0m\n\u001b[0m\u001b[1;32m   1304\u001b[0m \u001b[0;34m\u001b[0m\u001b[0m\n\u001b[1;32m   1305\u001b[0m     \u001b[0;32mdef\u001b[0m \u001b[0m_equal_values\u001b[0m\u001b[0;34m(\u001b[0m\u001b[0mself\u001b[0m\u001b[0;34m:\u001b[0m \u001b[0mBlockManager\u001b[0m\u001b[0;34m,\u001b[0m \u001b[0mother\u001b[0m\u001b[0;34m:\u001b[0m \u001b[0mBlockManager\u001b[0m\u001b[0;34m)\u001b[0m \u001b[0;34m->\u001b[0m \u001b[0mbool\u001b[0m\u001b[0;34m:\u001b[0m\u001b[0;34m\u001b[0m\u001b[0;34m\u001b[0m\u001b[0m\n",
            "\u001b[0;32m/usr/local/lib/python3.7/dist-packages/pandas/core/internals/ops.py\u001b[0m in \u001b[0;36moperate_blockwise\u001b[0;34m(left, right, array_op)\u001b[0m\n\u001b[1;32m     55\u001b[0m     \u001b[0mres_blks\u001b[0m\u001b[0;34m:\u001b[0m \u001b[0mlist\u001b[0m\u001b[0;34m[\u001b[0m\u001b[0mBlock\u001b[0m\u001b[0;34m]\u001b[0m \u001b[0;34m=\u001b[0m \u001b[0;34m[\u001b[0m\u001b[0;34m]\u001b[0m\u001b[0;34m\u001b[0m\u001b[0;34m\u001b[0m\u001b[0m\n\u001b[1;32m     56\u001b[0m     \u001b[0;32mfor\u001b[0m \u001b[0mlvals\u001b[0m\u001b[0;34m,\u001b[0m \u001b[0mrvals\u001b[0m\u001b[0;34m,\u001b[0m \u001b[0mlocs\u001b[0m\u001b[0;34m,\u001b[0m \u001b[0mleft_ea\u001b[0m\u001b[0;34m,\u001b[0m \u001b[0mright_ea\u001b[0m\u001b[0;34m,\u001b[0m \u001b[0mrblk\u001b[0m \u001b[0;32min\u001b[0m \u001b[0m_iter_block_pairs\u001b[0m\u001b[0;34m(\u001b[0m\u001b[0mleft\u001b[0m\u001b[0;34m,\u001b[0m \u001b[0mright\u001b[0m\u001b[0;34m)\u001b[0m\u001b[0;34m:\u001b[0m\u001b[0;34m\u001b[0m\u001b[0;34m\u001b[0m\u001b[0m\n\u001b[0;32m---> 57\u001b[0;31m         \u001b[0mres_values\u001b[0m \u001b[0;34m=\u001b[0m \u001b[0marray_op\u001b[0m\u001b[0;34m(\u001b[0m\u001b[0mlvals\u001b[0m\u001b[0;34m,\u001b[0m \u001b[0mrvals\u001b[0m\u001b[0;34m)\u001b[0m\u001b[0;34m\u001b[0m\u001b[0;34m\u001b[0m\u001b[0m\n\u001b[0m\u001b[1;32m     58\u001b[0m         \u001b[0;32mif\u001b[0m \u001b[0mleft_ea\u001b[0m \u001b[0;32mand\u001b[0m \u001b[0;32mnot\u001b[0m \u001b[0mright_ea\u001b[0m \u001b[0;32mand\u001b[0m \u001b[0mhasattr\u001b[0m\u001b[0;34m(\u001b[0m\u001b[0mres_values\u001b[0m\u001b[0;34m,\u001b[0m \u001b[0;34m\"reshape\"\u001b[0m\u001b[0;34m)\u001b[0m\u001b[0;34m:\u001b[0m\u001b[0;34m\u001b[0m\u001b[0;34m\u001b[0m\u001b[0m\n\u001b[1;32m     59\u001b[0m             \u001b[0mres_values\u001b[0m \u001b[0;34m=\u001b[0m \u001b[0mres_values\u001b[0m\u001b[0;34m.\u001b[0m\u001b[0mreshape\u001b[0m\u001b[0;34m(\u001b[0m\u001b[0;36m1\u001b[0m\u001b[0;34m,\u001b[0m \u001b[0;34m-\u001b[0m\u001b[0;36m1\u001b[0m\u001b[0;34m)\u001b[0m\u001b[0;34m\u001b[0m\u001b[0;34m\u001b[0m\u001b[0m\n",
            "\u001b[0;32m/usr/local/lib/python3.7/dist-packages/pandas/core/ops/array_ops.py\u001b[0m in \u001b[0;36mlogical_op\u001b[0;34m(left, right, op)\u001b[0m\n\u001b[1;32m    390\u001b[0m         \u001b[0mfiller\u001b[0m \u001b[0;34m=\u001b[0m \u001b[0mfill_int\u001b[0m \u001b[0;32mif\u001b[0m \u001b[0mis_self_int_dtype\u001b[0m \u001b[0;32mand\u001b[0m \u001b[0mis_other_int_dtype\u001b[0m \u001b[0;32melse\u001b[0m \u001b[0mfill_bool\u001b[0m\u001b[0;34m\u001b[0m\u001b[0;34m\u001b[0m\u001b[0m\n\u001b[1;32m    391\u001b[0m \u001b[0;34m\u001b[0m\u001b[0m\n\u001b[0;32m--> 392\u001b[0;31m         \u001b[0mres_values\u001b[0m \u001b[0;34m=\u001b[0m \u001b[0mna_logical_op\u001b[0m\u001b[0;34m(\u001b[0m\u001b[0mlvalues\u001b[0m\u001b[0;34m,\u001b[0m \u001b[0mrvalues\u001b[0m\u001b[0;34m,\u001b[0m \u001b[0mop\u001b[0m\u001b[0;34m)\u001b[0m\u001b[0;34m\u001b[0m\u001b[0;34m\u001b[0m\u001b[0m\n\u001b[0m\u001b[1;32m    393\u001b[0m         \u001b[0;31m# error: Cannot call function of unknown type\u001b[0m\u001b[0;34m\u001b[0m\u001b[0;34m\u001b[0m\u001b[0;34m\u001b[0m\u001b[0m\n\u001b[1;32m    394\u001b[0m         \u001b[0mres_values\u001b[0m \u001b[0;34m=\u001b[0m \u001b[0mfiller\u001b[0m\u001b[0;34m(\u001b[0m\u001b[0mres_values\u001b[0m\u001b[0;34m)\u001b[0m  \u001b[0;31m# type: ignore[operator]\u001b[0m\u001b[0;34m\u001b[0m\u001b[0;34m\u001b[0m\u001b[0m\n",
            "\u001b[0;32m/usr/local/lib/python3.7/dist-packages/pandas/core/ops/array_ops.py\u001b[0m in \u001b[0;36mna_logical_op\u001b[0;34m(x, y, op)\u001b[0m\n\u001b[1;32m    307\u001b[0m             \u001b[0mx\u001b[0m \u001b[0;34m=\u001b[0m \u001b[0mensure_object\u001b[0m\u001b[0;34m(\u001b[0m\u001b[0mx\u001b[0m\u001b[0;34m)\u001b[0m\u001b[0;34m\u001b[0m\u001b[0;34m\u001b[0m\u001b[0m\n\u001b[1;32m    308\u001b[0m             \u001b[0my\u001b[0m \u001b[0;34m=\u001b[0m \u001b[0mensure_object\u001b[0m\u001b[0;34m(\u001b[0m\u001b[0my\u001b[0m\u001b[0;34m)\u001b[0m\u001b[0;34m\u001b[0m\u001b[0;34m\u001b[0m\u001b[0m\n\u001b[0;32m--> 309\u001b[0;31m             \u001b[0mresult\u001b[0m \u001b[0;34m=\u001b[0m \u001b[0mlibops\u001b[0m\u001b[0;34m.\u001b[0m\u001b[0mvec_binop\u001b[0m\u001b[0;34m(\u001b[0m\u001b[0mx\u001b[0m\u001b[0;34m.\u001b[0m\u001b[0mravel\u001b[0m\u001b[0;34m(\u001b[0m\u001b[0;34m)\u001b[0m\u001b[0;34m,\u001b[0m \u001b[0my\u001b[0m\u001b[0;34m.\u001b[0m\u001b[0mravel\u001b[0m\u001b[0;34m(\u001b[0m\u001b[0;34m)\u001b[0m\u001b[0;34m,\u001b[0m \u001b[0mop\u001b[0m\u001b[0;34m)\u001b[0m\u001b[0;34m\u001b[0m\u001b[0;34m\u001b[0m\u001b[0m\n\u001b[0m\u001b[1;32m    310\u001b[0m         \u001b[0;32melse\u001b[0m\u001b[0;34m:\u001b[0m\u001b[0;34m\u001b[0m\u001b[0;34m\u001b[0m\u001b[0m\n\u001b[1;32m    311\u001b[0m             \u001b[0;31m# let null fall thru\u001b[0m\u001b[0;34m\u001b[0m\u001b[0;34m\u001b[0m\u001b[0;34m\u001b[0m\u001b[0m\n",
            "\u001b[0;32m/usr/local/lib/python3.7/dist-packages/pandas/_libs/ops.pyx\u001b[0m in \u001b[0;36mpandas._libs.ops.vec_binop\u001b[0;34m()\u001b[0m\n",
            "\u001b[0;32m/usr/local/lib/python3.7/dist-packages/pandas/_libs/ops.pyx\u001b[0m in \u001b[0;36mpandas._libs.ops.vec_binop\u001b[0;34m()\u001b[0m\n",
            "\u001b[0;31mTypeError\u001b[0m: unsupported operand type(s) for &: 'float' and 'int'"
          ]
        }
      ]
    },
    {
      "cell_type": "code",
      "source": [
        "print(t3.dtypes)\n",
        "print()\n",
        "type(t3)"
      ],
      "metadata": {
        "colab": {
          "base_uri": "https://localhost:8080/"
        },
        "id": "ETI5kPSztezM",
        "outputId": "1121b261-5664-4be9-9bc4-0170fc2c847c"
      },
      "execution_count": 69,
      "outputs": [
        {
          "output_type": "stream",
          "name": "stdout",
          "text": [
            "Title          object\n",
            "Genre          object\n",
            "Premiere       object\n",
            "Runtime         int64\n",
            "IMDB Score    float64\n",
            "Language       object\n",
            "dtype: object\n",
            "\n"
          ]
        },
        {
          "output_type": "execute_result",
          "data": {
            "text/plain": [
              "pandas.core.frame.DataFrame"
            ]
          },
          "metadata": {},
          "execution_count": 69
        }
      ]
    },
    {
      "cell_type": "code",
      "source": [
        "t6 = df2[\"IMDB Score\"].idxmax()"
      ],
      "metadata": {
        "id": "9UN83SbVt3Ws"
      },
      "execution_count": 79,
      "outputs": []
    },
    {
      "cell_type": "code",
      "source": [
        "df2.iloc[t6]"
      ],
      "metadata": {
        "colab": {
          "base_uri": "https://localhost:8080/"
        },
        "id": "Sf055ETYuy5t",
        "outputId": "5239bd0c-ace0-4a9b-dca7-b7fe9d6971c4"
      },
      "execution_count": 81,
      "outputs": [
        {
          "output_type": "execute_result",
          "data": {
            "text/plain": [
              "Title         David Attenborough: A Life on Our Planet\n",
              "Genre                                      Documentary\n",
              "Premiere                               October 4, 2020\n",
              "Runtime                                             83\n",
              "IMDB Score                                         9.0\n",
              "Language                                       English\n",
              "Name: 583, dtype: object"
            ]
          },
          "metadata": {},
          "execution_count": 81
        }
      ]
    },
    {
      "cell_type": "code",
      "source": [
        "t7 = df2[\"IMDB Score\"].idxmin()\n",
        "df2.iloc[t7]"
      ],
      "metadata": {
        "colab": {
          "base_uri": "https://localhost:8080/"
        },
        "id": "nr8_BTqzxTht",
        "outputId": "1e580def-400b-4ad7-f68f-35daaed33dad"
      },
      "execution_count": 83,
      "outputs": [
        {
          "output_type": "execute_result",
          "data": {
            "text/plain": [
              "Title          Enter the Anime\n",
              "Genre              Documentary\n",
              "Premiere        August 5, 2019\n",
              "Runtime                     58\n",
              "IMDB Score                 2.5\n",
              "Language      English/Japanese\n",
              "Name: 0, dtype: object"
            ]
          },
          "metadata": {},
          "execution_count": 83
        }
      ]
    },
    {
      "cell_type": "code",
      "source": [
        "print(\"total number of movies which has rating less than 3 :\",len(df2[df2[\"IMDB Score\"]<3]))\n",
        "print()\n",
        "df2[df2[\"IMDB Score\"]<3]"
      ],
      "metadata": {
        "colab": {
          "base_uri": "https://localhost:8080/",
          "height": 179
        },
        "id": "bSy0XWlTxi3t",
        "outputId": "777f98d9-d60e-435d-f250-fd4625f8b0e9"
      },
      "execution_count": 89,
      "outputs": [
        {
          "output_type": "stream",
          "name": "stdout",
          "text": [
            "total number of movies which has rating less than 3 : 3\n",
            "\n"
          ]
        },
        {
          "output_type": "execute_result",
          "data": {
            "text/plain": [
              "             Title                  Genre           Premiere  Runtime  \\\n",
              "0  Enter the Anime            Documentary     August 5, 2019       58   \n",
              "1      Dark Forces               Thriller    August 21, 2020       81   \n",
              "2          The App  Science fiction/Drama  December 26, 2019       79   \n",
              "\n",
              "   IMDB Score          Language  \n",
              "0         2.5  English/Japanese  \n",
              "1         2.6           Spanish  \n",
              "2         2.6           Italian  "
            ],
            "text/html": [
              "\n",
              "  <div id=\"df-3b6e640e-c504-492b-ac18-bc4995a4cefc\">\n",
              "    <div class=\"colab-df-container\">\n",
              "      <div>\n",
              "<style scoped>\n",
              "    .dataframe tbody tr th:only-of-type {\n",
              "        vertical-align: middle;\n",
              "    }\n",
              "\n",
              "    .dataframe tbody tr th {\n",
              "        vertical-align: top;\n",
              "    }\n",
              "\n",
              "    .dataframe thead th {\n",
              "        text-align: right;\n",
              "    }\n",
              "</style>\n",
              "<table border=\"1\" class=\"dataframe\">\n",
              "  <thead>\n",
              "    <tr style=\"text-align: right;\">\n",
              "      <th></th>\n",
              "      <th>Title</th>\n",
              "      <th>Genre</th>\n",
              "      <th>Premiere</th>\n",
              "      <th>Runtime</th>\n",
              "      <th>IMDB Score</th>\n",
              "      <th>Language</th>\n",
              "    </tr>\n",
              "  </thead>\n",
              "  <tbody>\n",
              "    <tr>\n",
              "      <th>0</th>\n",
              "      <td>Enter the Anime</td>\n",
              "      <td>Documentary</td>\n",
              "      <td>August 5, 2019</td>\n",
              "      <td>58</td>\n",
              "      <td>2.5</td>\n",
              "      <td>English/Japanese</td>\n",
              "    </tr>\n",
              "    <tr>\n",
              "      <th>1</th>\n",
              "      <td>Dark Forces</td>\n",
              "      <td>Thriller</td>\n",
              "      <td>August 21, 2020</td>\n",
              "      <td>81</td>\n",
              "      <td>2.6</td>\n",
              "      <td>Spanish</td>\n",
              "    </tr>\n",
              "    <tr>\n",
              "      <th>2</th>\n",
              "      <td>The App</td>\n",
              "      <td>Science fiction/Drama</td>\n",
              "      <td>December 26, 2019</td>\n",
              "      <td>79</td>\n",
              "      <td>2.6</td>\n",
              "      <td>Italian</td>\n",
              "    </tr>\n",
              "  </tbody>\n",
              "</table>\n",
              "</div>\n",
              "      <button class=\"colab-df-convert\" onclick=\"convertToInteractive('df-3b6e640e-c504-492b-ac18-bc4995a4cefc')\"\n",
              "              title=\"Convert this dataframe to an interactive table.\"\n",
              "              style=\"display:none;\">\n",
              "        \n",
              "  <svg xmlns=\"http://www.w3.org/2000/svg\" height=\"24px\"viewBox=\"0 0 24 24\"\n",
              "       width=\"24px\">\n",
              "    <path d=\"M0 0h24v24H0V0z\" fill=\"none\"/>\n",
              "    <path d=\"M18.56 5.44l.94 2.06.94-2.06 2.06-.94-2.06-.94-.94-2.06-.94 2.06-2.06.94zm-11 1L8.5 8.5l.94-2.06 2.06-.94-2.06-.94L8.5 2.5l-.94 2.06-2.06.94zm10 10l.94 2.06.94-2.06 2.06-.94-2.06-.94-.94-2.06-.94 2.06-2.06.94z\"/><path d=\"M17.41 7.96l-1.37-1.37c-.4-.4-.92-.59-1.43-.59-.52 0-1.04.2-1.43.59L10.3 9.45l-7.72 7.72c-.78.78-.78 2.05 0 2.83L4 21.41c.39.39.9.59 1.41.59.51 0 1.02-.2 1.41-.59l7.78-7.78 2.81-2.81c.8-.78.8-2.07 0-2.86zM5.41 20L4 18.59l7.72-7.72 1.47 1.35L5.41 20z\"/>\n",
              "  </svg>\n",
              "      </button>\n",
              "      \n",
              "  <style>\n",
              "    .colab-df-container {\n",
              "      display:flex;\n",
              "      flex-wrap:wrap;\n",
              "      gap: 12px;\n",
              "    }\n",
              "\n",
              "    .colab-df-convert {\n",
              "      background-color: #E8F0FE;\n",
              "      border: none;\n",
              "      border-radius: 50%;\n",
              "      cursor: pointer;\n",
              "      display: none;\n",
              "      fill: #1967D2;\n",
              "      height: 32px;\n",
              "      padding: 0 0 0 0;\n",
              "      width: 32px;\n",
              "    }\n",
              "\n",
              "    .colab-df-convert:hover {\n",
              "      background-color: #E2EBFA;\n",
              "      box-shadow: 0px 1px 2px rgba(60, 64, 67, 0.3), 0px 1px 3px 1px rgba(60, 64, 67, 0.15);\n",
              "      fill: #174EA6;\n",
              "    }\n",
              "\n",
              "    [theme=dark] .colab-df-convert {\n",
              "      background-color: #3B4455;\n",
              "      fill: #D2E3FC;\n",
              "    }\n",
              "\n",
              "    [theme=dark] .colab-df-convert:hover {\n",
              "      background-color: #434B5C;\n",
              "      box-shadow: 0px 1px 3px 1px rgba(0, 0, 0, 0.15);\n",
              "      filter: drop-shadow(0px 1px 2px rgba(0, 0, 0, 0.3));\n",
              "      fill: #FFFFFF;\n",
              "    }\n",
              "  </style>\n",
              "\n",
              "      <script>\n",
              "        const buttonEl =\n",
              "          document.querySelector('#df-3b6e640e-c504-492b-ac18-bc4995a4cefc button.colab-df-convert');\n",
              "        buttonEl.style.display =\n",
              "          google.colab.kernel.accessAllowed ? 'block' : 'none';\n",
              "\n",
              "        async function convertToInteractive(key) {\n",
              "          const element = document.querySelector('#df-3b6e640e-c504-492b-ac18-bc4995a4cefc');\n",
              "          const dataTable =\n",
              "            await google.colab.kernel.invokeFunction('convertToInteractive',\n",
              "                                                     [key], {});\n",
              "          if (!dataTable) return;\n",
              "\n",
              "          const docLinkHtml = 'Like what you see? Visit the ' +\n",
              "            '<a target=\"_blank\" href=https://colab.research.google.com/notebooks/data_table.ipynb>data table notebook</a>'\n",
              "            + ' to learn more about interactive tables.';\n",
              "          element.innerHTML = '';\n",
              "          dataTable['output_type'] = 'display_data';\n",
              "          await google.colab.output.renderOutput(dataTable, element);\n",
              "          const docLink = document.createElement('div');\n",
              "          docLink.innerHTML = docLinkHtml;\n",
              "          element.appendChild(docLink);\n",
              "        }\n",
              "      </script>\n",
              "    </div>\n",
              "  </div>\n",
              "  "
            ]
          },
          "metadata": {},
          "execution_count": 89
        }
      ]
    },
    {
      "cell_type": "code",
      "source": [
        "for i in df2[\"Title\"]:\n",
        "  print(f\"Title is {i}, and its length is : {len(i)}\")"
      ],
      "metadata": {
        "colab": {
          "base_uri": "https://localhost:8080/"
        },
        "id": "I29EkCGezmie",
        "outputId": "d9c700a5-dddd-4d41-fd59-c812833f0167"
      },
      "execution_count": 93,
      "outputs": [
        {
          "output_type": "stream",
          "name": "stdout",
          "text": [
            "Title is Enter the Anime, and its length is : 15\n",
            "Title is Dark Forces, and its length is : 11\n",
            "Title is The App, and its length is : 7\n",
            "Title is The Open House, and its length is : 14\n",
            "Title is Kaali Khuhi, and its length is : 11\n",
            "Title is Drive, and its length is : 5\n",
            "Title is Leyla Everlasting, and its length is : 17\n",
            "Title is The Last Days of American Crime, and its length is : 31\n",
            "Title is Paradox, and its length is : 7\n",
            "Title is Sardar Ka Grandson, and its length is : 18\n",
            "Title is Searching for Sheela, and its length is : 20\n",
            "Title is The Call, and its length is : 8\n",
            "Title is Whipped, and its length is : 7\n",
            "Title is All Because of You, and its length is : 18\n",
            "Title is Mercy, and its length is : 5\n",
            "Title is After the Raid, and its length is : 14\n",
            "Title is Ghost Stories, and its length is : 13\n",
            "Title is The Last Thing He Wanted, and its length is : 24\n",
            "Title is What Happened to Mr. Cha?, and its length is : 25\n",
            "Title is Death Note, and its length is : 10\n",
            "Title is Hello Privilege. It's Me, Chelsea, and its length is : 33\n",
            "Title is Secret Obsession, and its length is : 16\n",
            "Title is Sextuplets, and its length is : 10\n",
            "Title is The Girl on the Train, and its length is : 21\n",
            "Title is Thunder Force, and its length is : 13\n",
            "Title is Fatal Affair, and its length is : 12\n",
            "Title is Just Say Yes, and its length is : 12\n",
            "Title is Seriously Single, and its length is : 16\n",
            "Title is The Misadventures of Hedi and Cokeman, and its length is : 37\n",
            "Title is 5 Star Christmas, and its length is : 16\n",
            "Title is After Maria, and its length is : 11\n",
            "Title is I Am the Pretty Thing That Lives in the House, and its length is : 45\n",
            "Title is Paris Is Us, and its length is : 11\n",
            "Title is Porta dos Fundos: The First Temptation of Christ, and its length is : 48\n",
            "Title is Rattlesnake, and its length is : 11\n",
            "Title is The Players, and its length is : 11\n",
            "Title is We Are One, and its length is : 10\n",
            "Title is Finding Agnes, and its length is : 13\n",
            "Title is IO, and its length is : 2\n",
            "Title is Sentinelle, and its length is : 10\n",
            "Title is Sol Levante, and its length is : 11\n",
            "Title is The Binding, and its length is : 11\n",
            "Title is We Can Be Heroes, and its length is : 16\n",
            "Title is Christmas Crossfire, and its length is : 19\n",
            "Title is Coin Heist, and its length is : 10\n",
            "Title is Mrs. Serial Killer, and its length is : 18\n",
            "Title is Nobody Sleeps in the Woods Tonight, and its length is : 34\n",
            "Title is Take the 10, and its length is : 11\n",
            "Title is The Main Event, and its length is : 14\n",
            "Title is The Ridiculous 6, and its length is : 16\n",
            "Title is Earth and Blood, and its length is : 15\n",
            "Title is Fearless, and its length is : 8\n",
            "Title is Holiday Rush, and its length is : 12\n",
            "Title is The Day of the Lord, and its length is : 19\n",
            "Title is Airplane Mode, and its length is : 13\n",
            "Title is How It Ends, and its length is : 11\n",
            "Title is Love Like the Falling Rain, and its length is : 26\n",
            "Title is Rebirth, and its length is : 7\n",
            "Title is Squared Love, and its length is : 12\n",
            "Title is Cadaver, and its length is : 7\n",
            "Title is Clinical, and its length is : 8\n",
            "Title is Coffee & Kareem, and its length is : 15\n",
            "Title is Dude, and its length is : 4\n",
            "Title is Geez & Ann, and its length is : 10\n",
            "Title is The Larva Island Movie, and its length is : 22\n",
            "Title is #REALITYHIGH, and its length is : 12\n",
            "Title is American Factory: A Conversation with the Obamas , and its length is : 49\n",
            "Title is Desperados, and its length is : 10\n",
            "Title is Dolly Parton's Christmas on the Square, and its length is : 38\n",
            "Title is Father of the Year, and its length is : 18\n",
            "Title is Firebrand, and its length is : 9\n",
            "Title is Ghost Lab, and its length is : 9\n",
            "Title is Girlfriend's Day, and its length is : 16\n",
            "Title is Handsome: A Netflix Mystery Movie, and its length is : 33\n",
            "Title is Hubie Halloween, and its length is : 15\n",
            "Title is Ibiza, and its length is : 5\n",
            "Title is Rim of the World, and its length is : 16\n",
            "Title is Sandy Wexler, and its length is : 12\n",
            "Title is See You Yesterday, and its length is : 17\n",
            "Title is Still Laugh-In: The Stars Celebrate, and its length is : 35\n",
            "Title is Strip Down, Rise Up, and its length is : 19\n",
            "Title is Tall Girl, and its length is : 9\n",
            "Title is The Beast, and its length is : 9\n",
            "Title is The Week Of, and its length is : 11\n",
            "Title is A Christmas Prince: The Royal Wedding, and its length is : 37\n",
            "Title is Back to School, and its length is : 14\n",
            "Title is Dangerous Lies, and its length is : 14\n",
            "Title is Gunjan Saxena: The Kargil Girl, and its length is : 30\n",
            "Title is Intuition, and its length is : 9\n",
            "Title is The Most Assassinated Woman in the World, and its length is : 40\n",
            "Title is Things Heard & Seen, and its length is : 19\n",
            "Title is To Each, Her Own, and its length is : 16\n",
            "Title is Who Would You Take to a Deserted Island?, and its length is : 40\n",
            "Title is XOXO, and its length is : 4\n",
            "Title is A Babysitter's Guide to Monster Hunting, and its length is : 39\n",
            "Title is A Christmas Prince: The Royal Baby, and its length is : 34\n",
            "Title is Despite Everything, and its length is : 18\n",
            "Title is Dolly Kitty and Those Twinkling Stars, and its length is : 37\n",
            "Title is Freaks: You're One of Us, and its length is : 24\n",
            "Title is Game Over, Man!, and its length is : 15\n",
            "Title is Guilty, and its length is : 6\n",
            "Title is In the Tall Grass, and its length is : 17\n",
            "Title is Madame Claude, and its length is : 13\n",
            "Title is Naked, and its length is : 5\n",
            "Title is Outside the Wire, and its length is : 16\n",
            "Title is The Princess Switch: Switched Again, and its length is : 35\n",
            "Title is Under the Riccione Sun, and its length is : 22\n",
            "Title is A Very Murray Christmas, and its length is : 23\n",
            "Title is Been So Long, and its length is : 12\n",
            "Title is Dead Kids, and its length is : 9\n",
            "Title is Get the Grift, and its length is : 13\n",
            "Title is Ghosts of Sugar Land, and its length is : 20\n",
            "Title is House Arrest, and its length is : 12\n",
            "Title is Kevin Hart's Guide to Black History, and its length is : 35\n",
            "Title is Love Wedding Repeat, and its length is : 19\n",
            "Title is Mute, and its length is : 4\n",
            "Title is Òlòt?ré, and its length is : 7\n",
            "Title is Red Dot, and its length is : 7\n",
            "Title is Ride or Die, and its length is : 11\n",
            "Title is Step Sisters, and its length is : 12\n",
            "Title is The Cloverfield Paradox, and its length is : 23\n",
            "Title is The Knight Before Christmas, and its length is : 27\n",
            "Title is The Legacy of a Whitetail Deer Hunter, and its length is : 37\n",
            "Title is The Package, and its length is : 11\n",
            "Title is Unicorn Store, and its length is : 13\n",
            "Title is Wine Country, and its length is : 12\n",
            "Title is Bomb Scared, and its length is : 11\n",
            "Title is Brahman Naman, and its length is : 13\n",
            "Title is Double Dad, and its length is : 10\n",
            "Title is Falling Inn Love, and its length is : 16\n",
            "Title is Hold the Dark, and its length is : 13\n",
            "Title is Love, Guaranteed, and its length is : 16\n",
            "Title is One-Way to Tomorrow, and its length is : 19\n",
            "Title is Sarah Cooper: Everything's Fine, and its length is : 31\n",
            "Title is The Last Laugh, and its length is : 14\n",
            "Title is The Last Paradiso, and its length is : 17\n",
            "Title is The Midnight Sky, and its length is : 16\n",
            "Title is The Paramedic, and its length is : 13\n",
            "Title is The Sleepover, and its length is : 13\n",
            "Title is Vampires vs. the Bronx, and its length is : 22\n",
            "Title is Why Did You Kill Me?, and its length is : 20\n",
            "Title is A Week Away, and its length is : 11\n",
            "Title is Caught by a Wave, and its length is : 16\n",
            "Title is Christmas Inheritance, and its length is : 21\n",
            "Title is Dad Wanted, and its length is : 10\n",
            "Title is El Camino Christmas, and its length is : 19\n",
            "Title is Eli, and its length is : 3\n",
            "Title is Ginny Weds Sunny, and its length is : 16\n",
            "Title is Good Sam, and its length is : 8\n",
            "Title is Lionheart, and its length is : 9\n",
            "Title is Little Evil, and its length is : 11\n",
            "Title is One Take, and its length is : 8\n",
            "Title is Out of Many, One, and its length is : 16\n",
            "Title is Point Blank, and its length is : 11\n",
            "Title is Prime Time, and its length is : 10\n",
            "Title is The Do-Over, and its length is : 11\n",
            "Title is The Holiday Calendar, and its length is : 20\n",
            "Title is The Woman in the Window, and its length is : 23\n",
            "Title is The Wrong Missy, and its length is : 15\n",
            "Title is Velvet Buzzsaw, and its length is : 14\n",
            "Title is Yes Day, and its length is : 7\n",
            "Title is 15 August, and its length is : 9\n",
            "Title is A California Christmas, and its length is : 22\n",
            "Title is A Christmas Prince, and its length is : 18\n",
            "Title is All Day and a Night, and its length is : 19\n",
            "Title is American Son, and its length is : 12\n",
            "Title is Barry, and its length is : 5\n",
            "Title is Candy Jar, and its length is : 9\n",
            "Title is Choked: Paisa Bolta Hai, and its length is : 23\n",
            "Title is Class of '83, and its length is : 12\n",
            "Title is Extinction, and its length is : 10\n",
            "Title is Happy Anniversary, and its length is : 17\n",
            "Title is I Am All Girls, and its length is : 14\n",
            "Title is Let It Snow, and its length is : 11\n",
            "Title is Mascots, and its length is : 7\n",
            "Title is Operation Christmas Drop, and its length is : 24\n",
            "Title is Rajma Chawal, and its length is : 12\n",
            "Title is Rich in Love, and its length is : 12\n",
            "Title is Rising High, and its length is : 11\n",
            "Title is Rodney King, and its length is : 11\n",
            "Title is Sierra Burgess Is a Loser, and its length is : 25\n",
            "Title is Small Crimes, and its length is : 12\n",
            "Title is Special Correspondents, and its length is : 22\n",
            "Title is TAU, and its length is : 3\n",
            "Title is The After Party, and its length is : 15\n",
            "Title is The Babysitter: Killer Queen, and its length is : 28\n",
            "Title is The Claus Family, and its length is : 16\n",
            "Title is The Kissing Booth 2, and its length is : 19\n",
            "Title is The Perfect Date, and its length is : 16\n",
            "Title is What We Wanted, and its length is : 14\n",
            "Title is You've Got This, and its length is : 15\n",
            "Title is 6 Balloons, and its length is : 10\n",
            "Title is A Fall from Grace, and its length is : 17\n",
            "Title is Amateur, and its length is : 7\n",
            "Title is Army of the Dead, and its length is : 16\n",
            "Title is Cam, and its length is : 3\n",
            "Title is Earthquake Bird, and its length is : 15\n",
            "Title is Frankenstein's Monster's Monster, Frankenstein, and its length is : 46\n",
            "Title is Horse Girl, and its length is : 10\n",
            "Title is Notes from Dunblane: Lesson from a School Shooting, and its length is : 50\n",
            "Title is Maska, and its length is : 5\n",
            "Title is The Decline, and its length is : 11\n",
            "Title is The Minimalists: Less Is Now, and its length is : 28\n",
            "Title is The Polka King, and its length is : 14\n",
            "Title is The Prom, and its length is : 8\n",
            "Title is True Memoirs of an International Assassin, and its length is : 41\n",
            "Title is Ultras, and its length is : 6\n",
            "Title is Come Sunday, and its length is : 11\n",
            "Title is Forgive Us Our Debts, and its length is : 20\n",
            "Title is iBoy, and its length is : 4\n",
            "Title is Lovefucked, and its length is : 10\n",
            "Title is Juanita, and its length is : 7\n",
            "Title is Murder Mystery, and its length is : 14\n",
            "Title is Project Power, and its length is : 13\n",
            "Title is Rebecca, and its length is : 7\n",
            "Title is The Christmas Chronicles: Part Two, and its length is : 34\n",
            "Title is The Kissing Booth, and its length is : 17\n",
            "Title is The Princess Switch, and its length is : 19\n",
            "Title is To All the Boys: P.S. I Still Love You, and its length is : 38\n",
            "Title is War Machine, and its length is : 11\n",
            "Title is 6 Underground, and its length is : 13\n",
            "Title is Between Two Ferns: The Movie, and its length is : 28\n",
            "Title is Burning Sands, and its length is : 13\n",
            "Title is Casting JonBenet, and its length is : 16\n",
            "Title is Deidra & Laney Rob a Train, and its length is : 26\n",
            "Title is Finding 'Ohana, and its length is : 14\n",
            "Title is Holidate, and its length is : 8\n",
            "Title is Holiday in the Wild, and its length is : 19\n",
            "Title is Hot Girls Wanted, and its length is : 16\n",
            "Title is Like Father, and its length is : 11\n",
            "Title is Lost Girls, and its length is : 10\n",
            "Title is Otherhood, and its length is : 9\n",
            "Title is Pee-wee's Big Holiday, and its length is : 21\n",
            "Title is Rogue City, and its length is : 10\n",
            "Title is Sergio, and its length is : 6\n",
            "Title is Stuck Apart, and its length is : 11\n",
            "Title is Tersanjung the Movie, and its length is : 20\n",
            "Title is The Killer, and its length is : 10\n",
            "Title is The Lovebirds, and its length is : 13\n",
            "Title is The Most Hated Woman in America, and its length is : 31\n",
            "Title is The Perfection, and its length is : 14\n",
            "Title is Tribhanga  Tedhi Medhi Crazy, and its length is : 29\n",
            "Title is Unknown Origins, and its length is : 15\n",
            "Title is Work It, and its length is : 7\n",
            "Title is Alien Xmas, and its length is : 10\n",
            "Title is Baggio: The Divine Ponytail, and its length is : 27\n",
            "Title is Below Zero, and its length is : 10\n",
            "Title is Citation, and its length is : 8\n",
            "Title is Crazy Awesome Teachers, and its length is : 22\n",
            "Title is Have You Ever Seen Fireflies?, and its length is : 29\n",
            "Title is High Flying Bird, and its length is : 16\n",
            "Title is In the Shadow of the Moon, and its length is : 25\n",
            "Title is Lost Bullet, and its length is : 11\n",
            "Title is Octonauts & the Caves of Sac Actun, and its length is : 34\n",
            "Title is Offering to the Storm, and its length is : 21\n",
            "Title is Roxanne Roxanne, and its length is : 15\n",
            "Title is Someone Great, and its length is : 13\n",
            "Title is Spenser Confidential, and its length is : 20\n",
            "Title is The Land of Steady Habits, and its length is : 25\n",
            "Title is The Rachel Divide, and its length is : 17\n",
            "Title is Voyuer , and its length is : 7\n",
            "Title is Win It All, and its length is : 10\n",
            "Title is 1922, and its length is : 4\n",
            "Title is A Tale of Two Kitchens, and its length is : 22\n",
            "Title is Alex Strangelove, and its length is : 16\n",
            "Title is Apostle, and its length is : 7\n",
            "Title is Benji, and its length is : 5\n",
            "Title is Bright, and its length is : 6\n",
            "Title is Cargo, and its length is : 5\n",
            "Title is Concrete Cowboy, and its length is : 15\n",
            "Title is Feel the Beat, and its length is : 13\n",
            "Title is Get the Goat, and its length is : 12\n",
            "Title is I Am Not an Easy Man, and its length is : 20\n",
            "Title is June & Kopi, and its length is : 11\n",
            "Title is Music Teacher, and its length is : 13\n",
            "Title is Nail Bomber: Manhunt, and its length is : 20\n",
            "Title is Notes for My Son, and its length is : 16\n",
            "Title is Polar, and its length is : 5\n",
            "Title is Porta dos Fundos: The Last Hangover, and its length is : 35\n",
            "Title is Sand Castle, and its length is : 11\n",
            "Title is Shimmer Lake, and its length is : 12\n",
            "Title is Spectral, and its length is : 8\n",
            "Title is The Babysitter, and its length is : 14\n",
            "Title is The Discovery, and its length is : 13\n",
            "Title is The Forest of Love, and its length is : 18\n",
            "Title is The Laundromat, and its length is : 14\n",
            "Title is The Legend of Cocaine Island, and its length is : 28\n",
            "Title is The Outsider, and its length is : 12\n",
            "Title is Time to Hunt, and its length is : 12\n",
            "Title is To All the Boys: Always and Forever, and its length is : 35\n",
            "Title is Travis Scott: Look Mom I Can Fly, and its length is : 32\n",
            "Title is Uncorked, and its length is : 8\n",
            "Title is Anelka: Misunderstood, and its length is : 21\n",
            "Title is Ariana Grande: Excuse Me, I Love You, and its length is : 36\n",
            "Title is ARQ, and its length is : 3\n",
            "Title is Birders, and its length is : 7\n",
            "Title is Como Caído del Cielo, and its length is : 20\n",
            "Title is First Match, and its length is : 11\n",
            "Title is Fractured, and its length is : 9\n",
            "Title is Irreplaceable You, and its length is : 17\n",
            "Title is Isi & Ossi, and its length is : 10\n",
            "Title is John Was Trying to Contact Aliens, and its length is : 33\n",
            "Title is Layla Majnun, and its length is : 12\n",
            "Title is Murder to Mercy: The Cyntoia Brown Story, and its length is : 40\n",
            "Title is My Own Man, and its length is : 10\n",
            "Title is Nappily Ever After, and its length is : 18\n",
            "Title is Over the Moon, and its length is : 13\n",
            "Title is Street Flow, and its length is : 11\n",
            "Title is Strong Island, and its length is : 13\n",
            "Title is Sturgill Simpson Presents: Sound & Fury, and its length is : 39\n",
            "Title is Take Your Pills, and its length is : 15\n",
            "Title is The Heartbreak Club, and its length is : 19\n",
            "Title is The Mars Generation, and its length is : 19\n",
            "Title is The Occupant, and its length is : 12\n",
            "Title is The Willoughbys, and its length is : 15\n",
            "Title is Triple Frontier, and its length is : 15\n",
            "Title is Two Catalonias, and its length is : 14\n",
            "Title is Walk. Ride. Rodeo., and its length is : 18\n",
            "Title is Wheelman, and its length is : 8\n",
            "Title is When We First Met, and its length is : 17\n",
            "Title is A 3 Minute Hug, and its length is : 14\n",
            "Title is All the Bright Places, and its length is : 21\n",
            "Title is All Together Now, and its length is : 16\n",
            "Title is Altered Carbon: Resleeved, and its length is : 25\n",
            "Title is Antoine Griezmann: The Making of a Legend, and its length is : 41\n",
            "Title is Canvas , and its length is : 7\n",
            "Title is Chadwick Boseman: Portrait of an Artist, and its length is : 39\n",
            "Title is Chopsticks, and its length is : 10\n",
            "Title is Da 5 Bloods, and its length is : 11\n",
            "Title is Dolly Parton: A MusiCares Tribute, and its length is : 33\n",
            "Title is Eurovision Song Contest: The Story of Fire Saga, and its length is : 47\n",
            "Title is Gerald's Game, and its length is : 13\n",
            "Title is His House, and its length is : 9\n",
            "Title is Jingle Jangle: A Christmas Journey, and its length is : 34\n",
            "Title is Life Overtakes Me, and its length is : 17\n",
            "Title is Lust Stories, and its length is : 12\n",
            "Title is Monster, and its length is : 7\n",
            "Title is Mowgli: Legend of the Jungle, and its length is : 28\n",
            "Title is Nobody Knows I'm Here, and its length is : 21\n",
            "Title is Nobody Speak: Trials of the Free Press, and its length is : 38\n",
            "Title is Oxygen, and its length is : 6\n",
            "Title is Set It Up, and its length is : 9\n",
            "Title is The Incredible Jessica James, and its length is : 28\n",
            "Title is Tigertail, and its length is : 9\n",
            "Title is Tramps, and its length is : 6\n",
            "Title is What Did Jack Do?, and its length is : 17\n",
            "Title is Bad Trip, and its length is : 8\n",
            "Title is Bird Box, and its length is : 8\n",
            "Title is Bulbbul, and its length is : 7\n",
            "Title is Crazy About Her, and its length is : 15\n",
            "Title is Elisa & Marcela, and its length is : 15\n",
            "Title is I'll Sleep When I'm Dead, and its length is : 24\n",
            "Title is I'm Thinking of Ending Things, and its length is : 29\n",
            "Title is It Takes a Lunatic, and its length is : 18\n",
            "Title is Milestone, and its length is : 9\n",
            "Title is Recovery Boys, and its length is : 13\n",
            "Title is ReMastered: Who Killed Jam Master Jay?, and its length is : 38\n",
            "Title is Shawn Mendes: In Wonder, and its length is : 23\n",
            "Title is Space Sweepers, and its length is : 14\n",
            "Title is The American Meme, and its length is : 17\n",
            "Title is The Angel, and its length is : 9\n",
            "Title is The Crimes That Bind, and its length is : 20\n",
            "Title is The Red Sea Diving Resort, and its length is : 25\n",
            "Title is What Would Sophia Loren Do?, and its length is : 27\n",
            "Title is A Whisker Away, and its length is : 14\n",
            "Title is Ajeeb Daastaans, and its length is : 15\n",
            "Title is Arlo the Alligator Boy, and its length is : 22\n",
            "Title is Bikram: Yogi, Guru, Predator, and its length is : 28\n",
            "Title is Blame!, and its length is : 6\n",
            "Title is Blue Miracle, and its length is : 12\n",
            "Title is CounterPunch , and its length is : 13\n",
            "Title is Crack: Cocaine, Corruption & Conspiracy, and its length is : 39\n",
            "Title is Extraction, and its length is : 10\n",
            "Title is Giving Voice, and its length is : 12\n",
            "Title is Hillbilly Elegy, and its length is : 15\n",
            "Title is Hope Frozen: A Quest to Live Twice, and its length is : 34\n",
            "Title is Imperial Dreams, and its length is : 15\n",
            "Title is Just Another Christmas, and its length is : 22\n",
            "Title is Little Miss Sumo, and its length is : 16\n",
            "Title is Malcolm & Marie, and its length is : 15\n",
            "Title is Michael Bolton's Big, Sexy, Valentine's Day Special, and its length is : 51\n",
            "Title is Moxie, and its length is : 5\n",
            "Title is Night in Paradise, and its length is : 17\n",
            "Title is Paper Lives, and its length is : 11\n",
            "Title is Parchis: The Documentary, and its length is : 24\n",
            "Title is Tallulah, and its length is : 8\n",
            "Title is The Old Guard, and its length is : 13\n",
            "Title is Tony Robbins: I Am Not Your Guru, and its length is : 32\n",
            "Title is Upstarts, and its length is : 8\n",
            "Title is 22 July, and its length is : 7\n",
            "Title is 7 años, and its length is : 6\n",
            "Title is A Futile and Stupid Gesture, and its length is : 27\n",
            "Title is A Life of Speed: The Juan Manuel Fangio Story, and its length is : 45\n",
            "Title is A Love Song for Latasha, and its length is : 23\n",
            "Title is All in My Family, and its length is : 16\n",
            "Title is Always Be My Maybe, and its length is : 18\n",
            "Title is Becoming, and its length is : 8\n",
            "Title is Long Live Brij Mohan, and its length is : 20\n",
            "Title is Calibre, and its length is : 7\n",
            "Title is Death to 2020, and its length is : 13\n",
            "Title is GIMS: On the Record, and its length is : 19\n",
            "Title is Have a Good Trip: Adventures in Psychedelics, and its length is : 44\n",
            "Title is Heroin(e) , and its length is : 10\n",
            "Title is Mercury 13, and its length is : 10\n",
            "Title is Saving Capitalism, and its length is : 17\n",
            "Title is Serious Men, and its length is : 11\n",
            "Title is The Boys in the Band, and its length is : 20\n",
            "Title is The Boys in the Band: Something Personal, and its length is : 40\n",
            "Title is The Life Ahead, and its length is : 14\n",
            "Title is The Other Side of the Wind, and its length is : 26\n",
            "Title is The Trader, and its length is : 10\n",
            "Title is To the Bone, and its length is : 11\n",
            "Title is Tony Parker: The Final Shot, and its length is : 27\n",
            "Title is AK vs AK, and its length is : 8\n",
            "Title is Amanda Knox, and its length is : 11\n",
            "Title is Bigflo & Oil: Hip Hop Frenzy, and its length is : 28\n",
            "Title is Biggie: I Got a Story to Tell, and its length is : 29\n",
            "Title is Cops and Robbers, and its length is : 16\n",
            "Title is I Don't Feel at Home in This World Anymore, and its length is : 42\n",
            "Title is Laerte-se, and its length is : 9\n",
            "Title is Mank, and its length is : 4\n",
            "Title is Our Souls at Night, and its length is : 18\n",
            "Title is Outlaw King, and its length is : 11\n",
            "Title is Pagglait, and its length is : 8\n",
            "Title is ReMastered: Who Shot the Sheriff?, and its length is : 33\n",
            "Title is Seeing Allred, and its length is : 13\n",
            "Title is Spelling the Dream, and its length is : 18\n",
            "Title is The Claudia Kishi Club, and its length is : 22\n",
            "Title is The Half of It, and its length is : 14\n",
            "Title is The Highwaymen, and its length is : 14\n",
            "Title is The Lonely Island Presents: The Unauthorized Bash Brothers Experience, and its length is : 69\n",
            "Title is The Meyerowitz Stories (New and Selected), and its length is : 41\n",
            "Title is Feminists: What Were They Thinking?, and its length is : 35\n",
            "Title is Gaga: Five Foot Two, and its length is : 19\n",
            "Title is I'm No Longer Here: A Discussion with Guillermo del Toro and Alfonso Cuaron, and its length is : 75\n",
            "Title is Kingdom of Us, and its length is : 13\n",
            "Title is Lorena, Light-Footed Woman, and its length is : 26\n",
            "Title is Los Tigres del Norte at Folsom Prison, and its length is : 37\n",
            "Title is Ma Rainey's Black Bottom, and its length is : 24\n",
            "Title is Ma Rainey's Black Bottom: A Legacy Brought to Screen, and its length is : 52\n",
            "Title is Operation Varsity Blues: The College Admissions Scandal, and its length is : 55\n",
            "Title is Pele, and its length is : 4\n",
            "Title is ReMastered: Devil at the Crossroads, and its length is : 35\n",
            "Title is ReMastered: The Lion's Share, and its length is : 28\n",
            "Title is ReMastered: The Miami Showband Massacre, and its length is : 39\n",
            "Title is Resurface, and its length is : 9\n",
            "Title is Rocko's Modern Life: Static Cling, and its length is : 33\n",
            "Title is Rose Island, and its length is : 11\n",
            "Title is The Christmas Chronicles, and its length is : 24\n",
            "Title is The Dirt, and its length is : 8\n",
            "Title is The Night Comes for Us, and its length is : 22\n",
            "Title is 13th: A Conversation with Oprah Winfrey & Ava DuVernay, and its length is : 54\n",
            "Title is Angela's Christmas, and its length is : 18\n",
            "Title is Angela's Christmas Wish, and its length is : 23\n",
            "Title is Beats, and its length is : 5\n",
            "Title is Circus of Books, and its length is : 15\n",
            "Title is Dance Dreams: Hot Chocolate Nutcracker, and its length is : 38\n",
            "Title is Derren Brown: Sacrifice, and its length is : 23\n",
            "Title is El Pepe: A Supreme Life, and its length is : 23\n",
            "Title is End Game, and its length is : 8\n",
            "Title is Evelyn, and its length is : 6\n",
            "Title is Ferry, and its length is : 5\n",
            "Title is Grass Is Greener, and its length is : 16\n",
            "Title is Guillermo Vilas: Settling the Score, and its length is : 35\n",
            "Title is Joshua: Teenager vs. Superpower, and its length is : 31\n",
            "Title is Keith Richards: Under the Influence, and its length is : 35\n",
            "Title is Knock Down the House, and its length is : 20\n",
            "Title is Loudon Wainwright III: Surviving Twin, and its length is : 37\n",
            "Title is My Beautiful Broken Brain, and its length is : 25\n",
            "Title is One of Us, and its length is : 9\n",
            "Title is Pieces of a Woman, and its length is : 17\n",
            "Title is Ram Dass, Going Home, and its length is : 20\n",
            "Title is ReMastered: Tricky Dick & the Man in Black, and its length is : 42\n",
            "Title is Rooting for Roona, and its length is : 17\n",
            "Title is The Devil All the Time, and its length is : 22\n",
            "Title is The Dig, and its length is : 7\n",
            "Title is The Great Hack, and its length is : 14\n",
            "Title is The White Tiger, and its length is : 15\n",
            "Title is To All the Boys I've Loved Before, and its length is : 33\n",
            "Title is American Murder: The Family Next Door, and its length is : 37\n",
            "Title is Audrie & Daisy, and its length is : 14\n",
            "Title is First They Killed My Father, and its length is : 27\n",
            "Title is Fyre: The Greatest Party That Never Happened, and its length is : 44\n",
            "Title is Into the Inferno, and its length is : 16\n",
            "Title is LA Originals, and its length is : 12\n",
            "Title is Ladies First, and its length is : 12\n",
            "Title is Love per Square Foot, and its length is : 20\n",
            "Title is Paddleton, and its length is : 9\n",
            "Title is Private Life, and its length is : 12\n",
            "Title is Seventeen, and its length is : 9\n",
            "Title is Sometimes, and its length is : 9\n",
            "Title is Soni, and its length is : 4\n",
            "Title is The 40-Year-Old Version, and its length is : 23\n",
            "Title is The Disciple, and its length is : 12\n",
            "Title is The Edge of Democracy, and its length is : 21\n",
            "Title is The King, and its length is : 8\n",
            "Title is The Road to El Camino: A Breaking Bad Movie, and its length is : 43\n",
            "Title is The Siege of Jadotville, and its length is : 23\n",
            "Title is Zion , and its length is : 5\n",
            "Title is Dolemite Is My Name, and its length is : 19\n",
            "Title is El Camino: A Breaking Bad Movie, and its length is : 31\n",
            "Title is Extremis, and its length is : 8\n",
            "Title is Father Soldier Son, and its length is : 18\n",
            "Title is Get Me Roger Stone, and its length is : 18\n",
            "Title is I'm No Longer Here, and its length is : 18\n",
            "Title is Mucho Mucho Amor: The Legend of Walter Mercado , and its length is : 47\n",
            "Title is Octonauts & the Great Barrier Reef, and its length is : 34\n",
            "Title is Okja, and its length is : 4\n",
            "Title is On My Skin, and its length is : 10\n",
            "Title is Raat Akeli Hai, and its length is : 14\n",
            "Title is ReMastered: Massacre at the Stadium, and its length is : 35\n",
            "Title is ReMastered: The Two Killings of Sam Cooke, and its length is : 41\n",
            "Title is Secrets of the Saqqara Tomb, and its length is : 27\n",
            "Title is Sitara: Let Girls Dream, and its length is : 23\n",
            "Title is Sky Ladder: The Art of Cai Guo-Qiang, and its length is : 36\n",
            "Title is Team Foxcatcher, and its length is : 15\n",
            "Title is The Ballad of Buster Scruggs, and its length is : 28\n",
            "Title is The Death and Life of Marsha P. Johnson, and its length is : 39\n",
            "Title is The Fundamentals of Caring, and its length is : 26\n",
            "Title is The Other One: The Long Strange Trip of Bob Weir, and its length is : 48\n",
            "Title is American Factory, and its length is : 16\n",
            "Title is Fire in Paradise, and its length is : 16\n",
            "Title is Long Shot, and its length is : 9\n",
            "Title is Miss Americana, and its length is : 14\n",
            "Title is Period. End of Sentence., and its length is : 24\n",
            "Title is Shawn Mendes: Live in Concert, and its length is : 29\n",
            "Title is Shirkers, and its length is : 8\n",
            "Title is The Black Godfather, and its length is : 19\n",
            "Title is The Irishman: In Conversation, and its length is : 29\n",
            "Title is The Speed Cubers, and its length is : 16\n",
            "Title is They'll Love Me When I'm Dead, and its length is : 29\n",
            "Title is Tig, and its length is : 3\n",
            "Title is Barbra: The Music, The Mem'ries, The Magic!, and its length is : 43\n",
            "Title is Blackpink: Light Up the Sky, and its length is : 27\n",
            "Title is City of Joy, and its length is : 11\n",
            "Title is Dick Johnson Is Dead, and its length is : 20\n",
            "Title is Homecoming: A Film by Beyonce , and its length is : 30\n",
            "Title is Invader Zim: Enter the Florpus, and its length is : 30\n",
            "Title is Joan Didion: The Center Will Not Hold, and its length is : 37\n",
            "Title is John Mulaney & the Sack Lunch Bunch, and its length is : 35\n",
            "Title is Reversing Roe, and its length is : 13\n",
            "Title is The White Helmets, and its length is : 17\n",
            "Title is Athlete A, and its length is : 9\n",
            "Title is Ludo, and its length is : 4\n",
            "Title is Quincy, and its length is : 6\n",
            "Title is Rolling Thunder Revue: A bob Dylan Story by Martin Scorsere, and its length is : 59\n",
            "Title is Tell Me Who I Am, and its length is : 16\n",
            "Title is The Bleeding Edge, and its length is : 17\n",
            "Title is The Social Dilemma, and its length is : 18\n",
            "Title is The Two Popes, and its length is : 13\n",
            "Title is What Happened, Miss Simone?, and its length is : 27\n",
            "Title is Yeh Ballet, and its length is : 10\n",
            "Title is Anima, and its length is : 5\n",
            "Title is Beasts of No Nation, and its length is : 19\n",
            "Title is Brene Brown: The Call to Courage, and its length is : 32\n",
            "Title is Crip Camp: A Disability Revolution, and its length is : 34\n",
            "Title is Jim & Andy: The Great Beyond - Featuring a Very Special, Contractually Obligated Mention of Tony Cliffton , and its length is : 106\n",
            "Title is Justin Timberlake + The Tennessee Kids, and its length is : 38\n",
            "Title is Road to Roma, and its length is : 12\n",
            "Title is Roma, and its length is : 4\n",
            "Title is If Anything Happens I Love You, and its length is : 30\n",
            "Title is The Irishman, and its length is : 12\n",
            "Title is The Trial of the Chicago 7, and its length is : 26\n",
            "Title is A Secret Love, and its length is : 13\n",
            "Title is Icarus, and its length is : 6\n",
            "Title is Marriage Story, and its length is : 14\n",
            "Title is The Ivory Game, and its length is : 14\n",
            "Title is Struggle: The Life and Lost Art of Szukaiski, and its length is : 44\n",
            "Title is Chasing Coral , and its length is : 14\n",
            "Title is My Octopus Teacher, and its length is : 18\n",
            "Title is Rising Phoenix, and its length is : 14\n",
            "Title is 13th, and its length is : 4\n",
            "Title is Disclosure: Trans Lives on Screen, and its length is : 33\n",
            "Title is Klaus, and its length is : 5\n",
            "Title is Seaspiracy, and its length is : 10\n",
            "Title is The Three Deaths of Marisela Escobedo, and its length is : 37\n",
            "Title is Cuba and the Cameraman , and its length is : 23\n",
            "Title is Dancing with the Birds, and its length is : 22\n",
            "Title is Ben Platt: Live from Radio City Music Hall, and its length is : 42\n",
            "Title is Taylor Swift: Reputation Stadium Tour, and its length is : 37\n",
            "Title is Winter on Fire: Ukraine's Fight for Freedom, and its length is : 43\n",
            "Title is Springsteen on Broadway, and its length is : 23\n",
            "Title is Emicida: AmarElo - It's All For Yesterday, and its length is : 41\n",
            "Title is David Attenborough: A Life on Our Planet, and its length is : 40\n"
          ]
        }
      ]
    },
    {
      "cell_type": "code",
      "source": [
        "len(df2[\"Title\"])"
      ],
      "metadata": {
        "colab": {
          "base_uri": "https://localhost:8080/"
        },
        "id": "4QoAhMPR0afO",
        "outputId": "1a1c0b1f-6681-44f2-de9a-ca9b7c308320"
      },
      "execution_count": 94,
      "outputs": [
        {
          "output_type": "execute_result",
          "data": {
            "text/plain": [
              "584"
            ]
          },
          "metadata": {},
          "execution_count": 94
        }
      ]
    },
    {
      "cell_type": "code",
      "source": [
        "t7 = df2['Title'].str.len()\n",
        "df2[\"String Length\"]=t7"
      ],
      "metadata": {
        "id": "MQUBzvpn1Q4c"
      },
      "execution_count": 96,
      "outputs": []
    },
    {
      "cell_type": "code",
      "source": [
        "df2.columns"
      ],
      "metadata": {
        "colab": {
          "base_uri": "https://localhost:8080/"
        },
        "id": "NWUywrQ51dZO",
        "outputId": "ea435768-7b34-41e7-bc85-09c37ee453fb"
      },
      "execution_count": 97,
      "outputs": [
        {
          "output_type": "execute_result",
          "data": {
            "text/plain": [
              "Index(['Title', 'Genre', 'Premiere', 'Runtime', 'IMDB Score', 'Language',\n",
              "       'String Length'],\n",
              "      dtype='object')"
            ]
          },
          "metadata": {},
          "execution_count": 97
        }
      ]
    },
    {
      "cell_type": "code",
      "source": [
        "t8 = max(df2[\"String Length\"])\n",
        "print(df2[df2[\"String Length\"]==t8])"
      ],
      "metadata": {
        "colab": {
          "base_uri": "https://localhost:8080/"
        },
        "id": "Wo2L41om1oIt",
        "outputId": "4e4cf3bb-e7cf-4a4a-b31c-6eba9843e2d9"
      },
      "execution_count": 99,
      "outputs": [
        {
          "output_type": "stream",
          "name": "stdout",
          "text": [
            "                                                 Title        Genre  \\\n",
            "556  Jim & Andy: The Great Beyond - Featuring a Ver...  Documentary   \n",
            "\n",
            "              Premiere  Runtime  IMDB Score Language  String Length  \n",
            "556  November 17, 2017       94         7.7  English            106  \n"
          ]
        }
      ]
    },
    {
      "cell_type": "code",
      "source": [
        "df2.iloc[556]"
      ],
      "metadata": {
        "colab": {
          "base_uri": "https://localhost:8080/"
        },
        "id": "4-PnKATP13de",
        "outputId": "4bc7a20e-e4f0-4992-ac99-4a19ee5e2925"
      },
      "execution_count": 100,
      "outputs": [
        {
          "output_type": "execute_result",
          "data": {
            "text/plain": [
              "Title            Jim & Andy: The Great Beyond - Featuring a Ver...\n",
              "Genre                                                  Documentary\n",
              "Premiere                                         November 17, 2017\n",
              "Runtime                                                         94\n",
              "IMDB Score                                                     7.7\n",
              "Language                                                   English\n",
              "String Length                                                  106\n",
              "Name: 556, dtype: object"
            ]
          },
          "metadata": {},
          "execution_count": 100
        }
      ]
    },
    {
      "cell_type": "code",
      "source": [
        "t8 = df2[\"String Length\"].min()"
      ],
      "metadata": {
        "id": "Wg3UGvOX2Z0_"
      },
      "execution_count": 101,
      "outputs": []
    },
    {
      "cell_type": "code",
      "source": [
        "t8\n",
        "print(df2[df2[\"String Length\"]==t8])"
      ],
      "metadata": {
        "colab": {
          "base_uri": "https://localhost:8080/"
        },
        "id": "DVq1eNIh2jU-",
        "outputId": "968587e5-234e-48b9-ca67-da18da711482"
      },
      "execution_count": 104,
      "outputs": [
        {
          "output_type": "stream",
          "name": "stdout",
          "text": [
            "   Title                  Genre          Premiere  Runtime  IMDB Score  \\\n",
            "38    IO  Science fiction/Drama  January 18, 2019       95         4.7   \n",
            "\n",
            "   Language  String Length  \n",
            "38  English              2  \n"
          ]
        }
      ]
    },
    {
      "cell_type": "code",
      "source": [
        "df2.iloc[38]"
      ],
      "metadata": {
        "colab": {
          "base_uri": "https://localhost:8080/"
        },
        "id": "uKV1iXWk2kQ9",
        "outputId": "5b3628b7-276b-4a37-dc73-b6d8c606eca6"
      },
      "execution_count": 105,
      "outputs": [
        {
          "output_type": "execute_result",
          "data": {
            "text/plain": [
              "Title                               IO\n",
              "Genre            Science fiction/Drama\n",
              "Premiere              January 18, 2019\n",
              "Runtime                             95\n",
              "IMDB Score                         4.7\n",
              "Language                       English\n",
              "String Length                        2\n",
              "Name: 38, dtype: object"
            ]
          },
          "metadata": {},
          "execution_count": 105
        }
      ]
    },
    {
      "cell_type": "code",
      "source": [
        ""
      ],
      "metadata": {
        "id": "R-1DqlCk2xr9"
      },
      "execution_count": null,
      "outputs": []
    }
  ]
}