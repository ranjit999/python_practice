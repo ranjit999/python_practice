{
  "nbformat": 4,
  "nbformat_minor": 0,
  "metadata": {
    "colab": {
      "name": "numpy_pract_2.ipynb",
      "provenance": []
    },
    "kernelspec": {
      "name": "python3",
      "display_name": "Python 3"
    },
    "language_info": {
      "name": "python"
    }
  },
  "cells": [
    {
      "cell_type": "code",
      "execution_count": 1,
      "metadata": {
        "id": "-CXjr5PvRsPF"
      },
      "outputs": [],
      "source": [
        "import pandas as pd\n",
        "import numpy as np"
      ]
    },
    {
      "cell_type": "code",
      "source": [
        "a = np.arange(0,11)\n",
        "\n",
        "b = np.arange(11,21) "
      ],
      "metadata": {
        "id": "sh29aSyXU2mr"
      },
      "execution_count": 2,
      "outputs": []
    },
    {
      "cell_type": "code",
      "source": [
        "#How to reverse the rows of a 2D array?\n",
        "c = a[::-1]\n",
        "print(c)"
      ],
      "metadata": {
        "colab": {
          "base_uri": "https://localhost:8080/"
        },
        "id": "TI7uG-NjVF2Z",
        "outputId": "dc3d9991-5906-4fc0-9ebc-cac7fccc6587"
      },
      "execution_count": 3,
      "outputs": [
        {
          "output_type": "stream",
          "name": "stdout",
          "text": [
            "[10  9  8  7  6  5  4  3  2  1  0]\n"
          ]
        }
      ]
    },
    {
      "cell_type": "code",
      "source": [
        "#How to reverse the columns of a 2D array?\n",
        "\n",
        "c = np.array([\n",
        "              [1,2,3],\n",
        "              [4,5,6],\n",
        "              [8,9,0]\n",
        "              ])\n",
        "print(c)\n",
        "\n",
        "print('rversing columns:\\n',c[:,::-1])"
      ],
      "metadata": {
        "colab": {
          "base_uri": "https://localhost:8080/"
        },
        "id": "msFOGZyfVVN5",
        "outputId": "6f3cd319-abb7-402a-a343-6eb84d10665d"
      },
      "execution_count": 4,
      "outputs": [
        {
          "output_type": "stream",
          "name": "stdout",
          "text": [
            "[[1 2 3]\n",
            " [4 5 6]\n",
            " [8 9 0]]\n",
            "rversing columns:\n",
            " [[3 2 1]\n",
            " [6 5 4]\n",
            " [0 9 8]]\n"
          ]
        }
      ]
    },
    {
      "cell_type": "code",
      "source": [
        "c = np.arange(1,17)\n",
        "d=c.reshape(4,-1)\n",
        "print('original array : \\n',d)\n",
        "print()\n",
        "print(d[::2])"
      ],
      "metadata": {
        "colab": {
          "base_uri": "https://localhost:8080/"
        },
        "id": "wGcnDZyvVk_J",
        "outputId": "99324a2d-0f56-452e-db69-b0476a52da7a"
      },
      "execution_count": 5,
      "outputs": [
        {
          "output_type": "stream",
          "name": "stdout",
          "text": [
            "original array : \n",
            " [[ 1  2  3  4]\n",
            " [ 5  6  7  8]\n",
            " [ 9 10 11 12]\n",
            " [13 14 15 16]]\n",
            "\n",
            "[[ 1  2  3  4]\n",
            " [ 9 10 11 12]]\n"
          ]
        }
      ]
    },
    {
      "cell_type": "code",
      "source": [
        "print(d[:,:])\n",
        "print()\n",
        "print(d[::])"
      ],
      "metadata": {
        "colab": {
          "base_uri": "https://localhost:8080/"
        },
        "id": "XlaFa1gsWIoq",
        "outputId": "9177021e-5da1-401e-a06b-cc383b7030a6"
      },
      "execution_count": 6,
      "outputs": [
        {
          "output_type": "stream",
          "name": "stdout",
          "text": [
            "[[ 1  2  3  4]\n",
            " [ 5  6  7  8]\n",
            " [ 9 10 11 12]\n",
            " [13 14 15 16]]\n",
            "\n",
            "[[ 1  2  3  4]\n",
            " [ 5  6  7  8]\n",
            " [ 9 10 11 12]\n",
            " [13 14 15 16]]\n"
          ]
        }
      ]
    },
    {
      "cell_type": "code",
      "source": [
        "#reversing row wise and column wise\n",
        "print(d)\n",
        "print()\n",
        "print(d[::-1,:])\n",
        "print()\n",
        "print(d[:,::-1])"
      ],
      "metadata": {
        "colab": {
          "base_uri": "https://localhost:8080/"
        },
        "id": "dZBBHmpEX4xJ",
        "outputId": "3327b816-a905-4265-dde7-476076c8e858"
      },
      "execution_count": 7,
      "outputs": [
        {
          "output_type": "stream",
          "name": "stdout",
          "text": [
            "[[ 1  2  3  4]\n",
            " [ 5  6  7  8]\n",
            " [ 9 10 11 12]\n",
            " [13 14 15 16]]\n",
            "\n",
            "[[13 14 15 16]\n",
            " [ 9 10 11 12]\n",
            " [ 5  6  7  8]\n",
            " [ 1  2  3  4]]\n",
            "\n",
            "[[ 4  3  2  1]\n",
            " [ 8  7  6  5]\n",
            " [12 11 10  9]\n",
            " [16 15 14 13]]\n"
          ]
        }
      ]
    },
    {
      "cell_type": "code",
      "source": [
        "#How to create a 2D array containing random floats between 5 and 10?\n",
        "\n",
        "d = np.random.rand(5,11)\n",
        "print(d)"
      ],
      "metadata": {
        "colab": {
          "base_uri": "https://localhost:8080/"
        },
        "id": "jNjdIL1wY9vq",
        "outputId": "9c3dbaba-d72d-48e6-d9d1-74401e7f4801"
      },
      "execution_count": 8,
      "outputs": [
        {
          "output_type": "stream",
          "name": "stdout",
          "text": [
            "[[0.94932908 0.62529909 0.09916499 0.8244407  0.53124783 0.94031723\n",
            "  0.85746908 0.6158548  0.12292203 0.08983298 0.48153697]\n",
            " [0.35090116 0.84507193 0.13359056 0.22121145 0.62391863 0.74667582\n",
            "  0.27246975 0.78378707 0.95026822 0.44409516 0.77393806]\n",
            " [0.01421208 0.53470908 0.8239518  0.01068092 0.56975112 0.85008321\n",
            "  0.65433764 0.64121328 0.41762462 0.34237162 0.51168149]\n",
            " [0.48777893 0.10137713 0.74840474 0.28083316 0.81755923 0.31314181\n",
            "  0.71178651 0.14695491 0.94399065 0.09647854 0.09347378]\n",
            " [0.67291459 0.49405816 0.84294389 0.59136797 0.4578153  0.98690939\n",
            "  0.81695596 0.08141039 0.55074076 0.33108865 0.0585282 ]]\n"
          ]
        }
      ]
    },
    {
      "cell_type": "code",
      "source": [
        "list1 = []\n",
        "d = np.random.uniform(1,10,9)\n",
        "# list1.append(d)\n",
        "print('printing d',d)\n",
        "\n",
        "e = np.random.uniform(1,11,2)\n",
        "print('printing e',e)\n",
        "print()\n",
        "print(d[1]-d[0],d[6]-d[5],d[8]-d[7])\n",
        "# print(list1)"
      ],
      "metadata": {
        "colab": {
          "base_uri": "https://localhost:8080/"
        },
        "id": "5Potk39tajXD",
        "outputId": "4b724d19-848e-49ca-ac72-bb35ecd1aa21"
      },
      "execution_count": 9,
      "outputs": [
        {
          "output_type": "stream",
          "name": "stdout",
          "text": [
            "printing d [7.80309581 8.08045263 7.11348928 9.15172474 3.22791926 8.10017986\n",
            " 6.41801454 9.31809503 7.63087348]\n",
            "printing e [4.40808812 9.32060188]\n",
            "\n",
            "0.2773568128825028 -1.682165316790302 -1.6872215549854177\n"
          ]
        }
      ]
    },
    {
      "cell_type": "code",
      "source": [
        "print(np.random.uniform(0,1,3))"
      ],
      "metadata": {
        "colab": {
          "base_uri": "https://localhost:8080/"
        },
        "id": "6a8fum6rffVr",
        "outputId": "d5cc287e-d552-4736-f541-ebf8630646d6"
      },
      "execution_count": 10,
      "outputs": [
        {
          "output_type": "stream",
          "name": "stdout",
          "text": [
            "[0.45926903 0.92943373 0.30954769]\n"
          ]
        }
      ]
    },
    {
      "cell_type": "code",
      "source": [
        "#How to print only 3 decimal places in python numpy array?\n",
        "\n",
        "print(np.random.rand(5,3))"
      ],
      "metadata": {
        "colab": {
          "base_uri": "https://localhost:8080/"
        },
        "id": "x9XK4sRqfmEM",
        "outputId": "5eb42b0f-ca97-4542-ff16-a461f48fb5e0"
      },
      "execution_count": 11,
      "outputs": [
        {
          "output_type": "stream",
          "name": "stdout",
          "text": [
            "[[0.00813303 0.16753059 0.54652963]\n",
            " [0.93830904 0.81316509 0.7603557 ]\n",
            " [0.27069644 0.22545136 0.65609569]\n",
            " [0.49473301 0.24892563 0.96523984]\n",
            " [0.43266869 0.28640706 0.229732  ]]\n"
          ]
        }
      ]
    },
    {
      "cell_type": "code",
      "source": [
        "rand_arr = np.random.random([5,3])\n",
        "print(rand_arr)\n",
        "np.set_printoptions(3)\n",
        "rand_arr"
      ],
      "metadata": {
        "colab": {
          "base_uri": "https://localhost:8080/"
        },
        "id": "dKPUcofxJ3cd",
        "outputId": "2b13e24d-cb25-4250-97cf-f31fa5cf23b8"
      },
      "execution_count": 12,
      "outputs": [
        {
          "output_type": "stream",
          "name": "stdout",
          "text": [
            "[[0.97699685 0.71828429 0.69837067]\n",
            " [0.26744637 0.68517346 0.44133114]\n",
            " [0.3651645  0.94367751 0.40583398]\n",
            " [0.74228499 0.28374569 0.6668764 ]\n",
            " [0.570068   0.45213348 0.46869809]]\n"
          ]
        },
        {
          "output_type": "execute_result",
          "data": {
            "text/plain": [
              "array([[0.977, 0.718, 0.698],\n",
              "       [0.267, 0.685, 0.441],\n",
              "       [0.365, 0.944, 0.406],\n",
              "       [0.742, 0.284, 0.667],\n",
              "       [0.57 , 0.452, 0.469]])"
            ]
          },
          "metadata": {},
          "execution_count": 12
        }
      ]
    },
    {
      "cell_type": "code",
      "source": [
        "from numpy.core.arrayprint import set_printoptions\n",
        "c = np.random.random([5,3])\n",
        "print(a)\n",
        "np.set_printoptions(3)\n",
        "# print(v)"
      ],
      "metadata": {
        "colab": {
          "base_uri": "https://localhost:8080/"
        },
        "id": "suysXP0mKFac",
        "outputId": "e34b5413-6ead-40a5-fc5f-50910c797738"
      },
      "execution_count": 13,
      "outputs": [
        {
          "output_type": "stream",
          "name": "stdout",
          "text": [
            "[ 0  1  2  3  4  5  6  7  8  9 10]\n"
          ]
        }
      ]
    },
    {
      "cell_type": "code",
      "source": [
        "g = np.random.randint(4,14,size=(4,5))\n",
        "g"
      ],
      "metadata": {
        "colab": {
          "base_uri": "https://localhost:8080/"
        },
        "id": "VjQA22bIOfdO",
        "outputId": "e2de611d-87ff-4118-ed5e-2f3e57957dda"
      },
      "execution_count": 14,
      "outputs": [
        {
          "output_type": "execute_result",
          "data": {
            "text/plain": [
              "array([[13,  5,  9,  9,  9],\n",
              "       [13, 13, 11, 12,  8],\n",
              "       [ 9,  6,  6,  9, 10],\n",
              "       [11,  9,  5,  4,  4]])"
            ]
          },
          "metadata": {},
          "execution_count": 14
        }
      ]
    },
    {
      "cell_type": "code",
      "source": [
        "print(np.random.rand(5))\n",
        "# np.random.rand(5,size=(3,5))"
      ],
      "metadata": {
        "colab": {
          "base_uri": "https://localhost:8080/"
        },
        "id": "nIHhGLdCTRyI",
        "outputId": "5993cf73-bfe6-47dd-dc6d-1d3069203059"
      },
      "execution_count": 15,
      "outputs": [
        {
          "output_type": "stream",
          "name": "stdout",
          "text": [
            "[0.656 0.327 0.826 0.487 0.872]\n"
          ]
        }
      ]
    },
    {
      "cell_type": "code",
      "source": [
        "\n",
        "np.random.randint(0, 9,4)\t"
      ],
      "metadata": {
        "colab": {
          "base_uri": "https://localhost:8080/"
        },
        "id": "CQCPJadRUCyu",
        "outputId": "d86adea8-e425-45b0-d0b1-018459215c64"
      },
      "execution_count": 16,
      "outputs": [
        {
          "output_type": "execute_result",
          "data": {
            "text/plain": [
              "array([6, 5, 3, 7])"
            ]
          },
          "metadata": {},
          "execution_count": 16
        }
      ]
    },
    {
      "cell_type": "code",
      "source": [
        "#flatening 2-D array inti 1-D array\n",
        "print(g)\n",
        "print()\n",
        "h=g.reshape(1,-1)\n",
        "np.set_printoptions(threshold=6)\n",
        "print(h)\n"
      ],
      "metadata": {
        "colab": {
          "base_uri": "https://localhost:8080/"
        },
        "id": "QV67EbINZsfB",
        "outputId": "b11196b3-f3a4-4722-dd37-937bd6f835a3"
      },
      "execution_count": 17,
      "outputs": [
        {
          "output_type": "stream",
          "name": "stdout",
          "text": [
            "[[13  5  9  9  9]\n",
            " [13 13 11 12  8]\n",
            " [ 9  6  6  9 10]\n",
            " [11  9  5  4  4]]\n",
            "\n",
            "[[13  5  9 ...  5  4  4]]\n"
          ]
        }
      ]
    },
    {
      "cell_type": "code",
      "source": [
        "#array with zeroes\n",
        "\n",
        "h = np.zeros((4,5),int)\n",
        "j = np.ones((4,5),float)\n",
        "print(j)\n",
        "print(h)\n",
        "print()\n",
        "print(h.shape)"
      ],
      "metadata": {
        "colab": {
          "base_uri": "https://localhost:8080/"
        },
        "id": "QN86RyvxCag1",
        "outputId": "9baa776f-11ef-4f8c-a75f-0e5e1edb61e0"
      },
      "execution_count": 18,
      "outputs": [
        {
          "output_type": "stream",
          "name": "stdout",
          "text": [
            "[[1. 1. 1. 1. 1.]\n",
            " [1. 1. 1. 1. 1.]\n",
            " [1. 1. 1. 1. 1.]\n",
            " [1. 1. 1. 1. 1.]]\n",
            "[[0 0 0 0 0]\n",
            " [0 0 0 0 0]\n",
            " [0 0 0 0 0]\n",
            " [0 0 0 0 0]]\n",
            "\n",
            "(4, 5)\n"
          ]
        }
      ]
    },
    {
      "cell_type": "code",
      "source": [
        "print(np.random.randint(0,9,size=(2,3)))"
      ],
      "metadata": {
        "colab": {
          "base_uri": "https://localhost:8080/"
        },
        "id": "Zy-UCH27D2K1",
        "outputId": "a4b1db94-551d-4f1f-a42b-27a923a0dcd4"
      },
      "execution_count": 19,
      "outputs": [
        {
          "output_type": "stream",
          "name": "stdout",
          "text": [
            "[[3 7 4]\n",
            " [5 7 0]]\n"
          ]
        }
      ]
    },
    {
      "cell_type": "code",
      "source": [
        "np.random.seed(2021)\n",
        "np.random.rand(4)"
      ],
      "metadata": {
        "colab": {
          "base_uri": "https://localhost:8080/"
        },
        "id": "B1bARPbR3nBQ",
        "outputId": "00094248-87aa-41ca-bf28-9624de5814ab"
      },
      "execution_count": 20,
      "outputs": [
        {
          "output_type": "execute_result",
          "data": {
            "text/plain": [
              "array([0.606, 0.733, 0.139, 0.313])"
            ]
          },
          "metadata": {},
          "execution_count": 20
        }
      ]
    },
    {
      "cell_type": "code",
      "source": [
        "np.random.seed(2021)\n"
      ],
      "metadata": {
        "id": "4SqDh8FD56uu"
      },
      "execution_count": 21,
      "outputs": []
    },
    {
      "cell_type": "code",
      "source": [
        "np.random.rand(4)"
      ],
      "metadata": {
        "colab": {
          "base_uri": "https://localhost:8080/"
        },
        "id": "s-Q2YNog6JXt",
        "outputId": "31f8fb12-0852-4c03-9cd0-d67970f7e375"
      },
      "execution_count": 22,
      "outputs": [
        {
          "output_type": "execute_result",
          "data": {
            "text/plain": [
              "array([0.606, 0.733, 0.139, 0.313])"
            ]
          },
          "metadata": {},
          "execution_count": 22
        }
      ]
    },
    {
      "cell_type": "code",
      "source": [
        ""
      ],
      "metadata": {
        "id": "DRvcixyV6KVO"
      },
      "execution_count": 22,
      "outputs": []
    }
  ]
}